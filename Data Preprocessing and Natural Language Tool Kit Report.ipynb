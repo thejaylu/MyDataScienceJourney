{
 "cells": [
  {
   "cell_type": "markdown",
   "metadata": {},
   "source": [
    "## Analyzing borrowers’ risk of defaulting\n",
    "\n",
    "This report is focused on identifying a relationship between customer characteristics (e.g. children count, purpose of loan, education) and failure to pay back a loan. Skill displayed here include basic data cleaning and lemmatization (ntlk). \n",
    "\n",
    "Report completed: March 22, 2020"
   ]
  },
  {
   "cell_type": "markdown",
   "metadata": {},
   "source": [
    "### Step 1. Looking at the general information. "
   ]
  },
  {
   "cell_type": "code",
   "execution_count": 4,
   "metadata": {},
   "outputs": [
    {
     "data": {
      "text/html": [
       "<div>\n",
       "<style scoped>\n",
       "    .dataframe tbody tr th:only-of-type {\n",
       "        vertical-align: middle;\n",
       "    }\n",
       "\n",
       "    .dataframe tbody tr th {\n",
       "        vertical-align: top;\n",
       "    }\n",
       "\n",
       "    .dataframe thead th {\n",
       "        text-align: right;\n",
       "    }\n",
       "</style>\n",
       "<table border=\"1\" class=\"dataframe\">\n",
       "  <thead>\n",
       "    <tr style=\"text-align: right;\">\n",
       "      <th></th>\n",
       "      <th>children</th>\n",
       "      <th>days_employed</th>\n",
       "      <th>dob_years</th>\n",
       "      <th>education</th>\n",
       "      <th>education_id</th>\n",
       "      <th>family_status</th>\n",
       "      <th>family_status_id</th>\n",
       "      <th>gender</th>\n",
       "      <th>income_type</th>\n",
       "      <th>debt</th>\n",
       "      <th>total_income</th>\n",
       "      <th>purpose</th>\n",
       "    </tr>\n",
       "  </thead>\n",
       "  <tbody>\n",
       "    <tr>\n",
       "      <th>0</th>\n",
       "      <td>1</td>\n",
       "      <td>-8437.673028</td>\n",
       "      <td>42</td>\n",
       "      <td>bachelor's degree</td>\n",
       "      <td>0</td>\n",
       "      <td>married</td>\n",
       "      <td>0</td>\n",
       "      <td>F</td>\n",
       "      <td>employee</td>\n",
       "      <td>0</td>\n",
       "      <td>40620.102</td>\n",
       "      <td>purchase of the house</td>\n",
       "    </tr>\n",
       "    <tr>\n",
       "      <th>1</th>\n",
       "      <td>1</td>\n",
       "      <td>-4024.803754</td>\n",
       "      <td>36</td>\n",
       "      <td>secondary education</td>\n",
       "      <td>1</td>\n",
       "      <td>married</td>\n",
       "      <td>0</td>\n",
       "      <td>F</td>\n",
       "      <td>employee</td>\n",
       "      <td>0</td>\n",
       "      <td>17932.802</td>\n",
       "      <td>car purchase</td>\n",
       "    </tr>\n",
       "    <tr>\n",
       "      <th>2</th>\n",
       "      <td>0</td>\n",
       "      <td>-5623.422610</td>\n",
       "      <td>33</td>\n",
       "      <td>Secondary Education</td>\n",
       "      <td>1</td>\n",
       "      <td>married</td>\n",
       "      <td>0</td>\n",
       "      <td>M</td>\n",
       "      <td>employee</td>\n",
       "      <td>0</td>\n",
       "      <td>23341.752</td>\n",
       "      <td>purchase of the house</td>\n",
       "    </tr>\n",
       "    <tr>\n",
       "      <th>3</th>\n",
       "      <td>3</td>\n",
       "      <td>-4124.747207</td>\n",
       "      <td>32</td>\n",
       "      <td>secondary education</td>\n",
       "      <td>1</td>\n",
       "      <td>married</td>\n",
       "      <td>0</td>\n",
       "      <td>M</td>\n",
       "      <td>employee</td>\n",
       "      <td>0</td>\n",
       "      <td>42820.568</td>\n",
       "      <td>supplementary education</td>\n",
       "    </tr>\n",
       "    <tr>\n",
       "      <th>4</th>\n",
       "      <td>0</td>\n",
       "      <td>340266.072047</td>\n",
       "      <td>53</td>\n",
       "      <td>secondary education</td>\n",
       "      <td>1</td>\n",
       "      <td>civil partnership</td>\n",
       "      <td>1</td>\n",
       "      <td>F</td>\n",
       "      <td>retiree</td>\n",
       "      <td>0</td>\n",
       "      <td>25378.572</td>\n",
       "      <td>to have a wedding</td>\n",
       "    </tr>\n",
       "    <tr>\n",
       "      <th>5</th>\n",
       "      <td>0</td>\n",
       "      <td>-926.185831</td>\n",
       "      <td>27</td>\n",
       "      <td>bachelor's degree</td>\n",
       "      <td>0</td>\n",
       "      <td>civil partnership</td>\n",
       "      <td>1</td>\n",
       "      <td>M</td>\n",
       "      <td>business</td>\n",
       "      <td>0</td>\n",
       "      <td>40922.170</td>\n",
       "      <td>purchase of the house</td>\n",
       "    </tr>\n",
       "    <tr>\n",
       "      <th>6</th>\n",
       "      <td>0</td>\n",
       "      <td>-2879.202052</td>\n",
       "      <td>43</td>\n",
       "      <td>bachelor's degree</td>\n",
       "      <td>0</td>\n",
       "      <td>married</td>\n",
       "      <td>0</td>\n",
       "      <td>F</td>\n",
       "      <td>business</td>\n",
       "      <td>0</td>\n",
       "      <td>38484.156</td>\n",
       "      <td>housing transactions</td>\n",
       "    </tr>\n",
       "    <tr>\n",
       "      <th>7</th>\n",
       "      <td>0</td>\n",
       "      <td>-152.779569</td>\n",
       "      <td>50</td>\n",
       "      <td>SECONDARY EDUCATION</td>\n",
       "      <td>1</td>\n",
       "      <td>married</td>\n",
       "      <td>0</td>\n",
       "      <td>M</td>\n",
       "      <td>employee</td>\n",
       "      <td>0</td>\n",
       "      <td>21731.829</td>\n",
       "      <td>education</td>\n",
       "    </tr>\n",
       "    <tr>\n",
       "      <th>8</th>\n",
       "      <td>2</td>\n",
       "      <td>-6929.865299</td>\n",
       "      <td>35</td>\n",
       "      <td>BACHELOR'S DEGREE</td>\n",
       "      <td>0</td>\n",
       "      <td>civil partnership</td>\n",
       "      <td>1</td>\n",
       "      <td>F</td>\n",
       "      <td>employee</td>\n",
       "      <td>0</td>\n",
       "      <td>15337.093</td>\n",
       "      <td>having a wedding</td>\n",
       "    </tr>\n",
       "    <tr>\n",
       "      <th>9</th>\n",
       "      <td>0</td>\n",
       "      <td>-2188.756445</td>\n",
       "      <td>41</td>\n",
       "      <td>secondary education</td>\n",
       "      <td>1</td>\n",
       "      <td>married</td>\n",
       "      <td>0</td>\n",
       "      <td>M</td>\n",
       "      <td>employee</td>\n",
       "      <td>0</td>\n",
       "      <td>23108.150</td>\n",
       "      <td>purchase of the house for my family</td>\n",
       "    </tr>\n",
       "  </tbody>\n",
       "</table>\n",
       "</div>"
      ],
      "text/plain": [
       "   children  days_employed  dob_years            education  education_id  \\\n",
       "0         1   -8437.673028         42    bachelor's degree             0   \n",
       "1         1   -4024.803754         36  secondary education             1   \n",
       "2         0   -5623.422610         33  Secondary Education             1   \n",
       "3         3   -4124.747207         32  secondary education             1   \n",
       "4         0  340266.072047         53  secondary education             1   \n",
       "5         0    -926.185831         27    bachelor's degree             0   \n",
       "6         0   -2879.202052         43    bachelor's degree             0   \n",
       "7         0    -152.779569         50  SECONDARY EDUCATION             1   \n",
       "8         2   -6929.865299         35    BACHELOR'S DEGREE             0   \n",
       "9         0   -2188.756445         41  secondary education             1   \n",
       "\n",
       "       family_status  family_status_id gender income_type  debt  total_income  \\\n",
       "0            married                 0      F    employee     0     40620.102   \n",
       "1            married                 0      F    employee     0     17932.802   \n",
       "2            married                 0      M    employee     0     23341.752   \n",
       "3            married                 0      M    employee     0     42820.568   \n",
       "4  civil partnership                 1      F     retiree     0     25378.572   \n",
       "5  civil partnership                 1      M    business     0     40922.170   \n",
       "6            married                 0      F    business     0     38484.156   \n",
       "7            married                 0      M    employee     0     21731.829   \n",
       "8  civil partnership                 1      F    employee     0     15337.093   \n",
       "9            married                 0      M    employee     0     23108.150   \n",
       "\n",
       "                               purpose  \n",
       "0                purchase of the house  \n",
       "1                         car purchase  \n",
       "2                purchase of the house  \n",
       "3              supplementary education  \n",
       "4                    to have a wedding  \n",
       "5                purchase of the house  \n",
       "6                 housing transactions  \n",
       "7                            education  \n",
       "8                     having a wedding  \n",
       "9  purchase of the house for my family  "
      ]
     },
     "execution_count": 4,
     "metadata": {},
     "output_type": "execute_result"
    }
   ],
   "source": [
    "import pandas as pd \n",
    "import numpy as np\n",
    "df = pd.read_csv('credit_scoring_eng.csv') #csv not included due to private data \n",
    "df.head(10)"
   ]
  },
  {
   "cell_type": "code",
   "execution_count": 5,
   "metadata": {},
   "outputs": [
    {
     "data": {
      "text/html": [
       "<div>\n",
       "<style scoped>\n",
       "    .dataframe tbody tr th:only-of-type {\n",
       "        vertical-align: middle;\n",
       "    }\n",
       "\n",
       "    .dataframe tbody tr th {\n",
       "        vertical-align: top;\n",
       "    }\n",
       "\n",
       "    .dataframe thead th {\n",
       "        text-align: right;\n",
       "    }\n",
       "</style>\n",
       "<table border=\"1\" class=\"dataframe\">\n",
       "  <thead>\n",
       "    <tr style=\"text-align: right;\">\n",
       "      <th></th>\n",
       "      <th>children</th>\n",
       "      <th>days_employed</th>\n",
       "      <th>dob_years</th>\n",
       "      <th>education</th>\n",
       "      <th>education_id</th>\n",
       "      <th>family_status</th>\n",
       "      <th>family_status_id</th>\n",
       "      <th>gender</th>\n",
       "      <th>income_type</th>\n",
       "      <th>debt</th>\n",
       "      <th>total_income</th>\n",
       "      <th>purpose</th>\n",
       "    </tr>\n",
       "  </thead>\n",
       "  <tbody>\n",
       "    <tr>\n",
       "      <th>14</th>\n",
       "      <td>0</td>\n",
       "      <td>-1844.956182</td>\n",
       "      <td>56</td>\n",
       "      <td>bachelor's degree</td>\n",
       "      <td>0</td>\n",
       "      <td>civil partnership</td>\n",
       "      <td>1</td>\n",
       "      <td>F</td>\n",
       "      <td>business</td>\n",
       "      <td>1</td>\n",
       "      <td>26420.466</td>\n",
       "      <td>buy residential real estate</td>\n",
       "    </tr>\n",
       "    <tr>\n",
       "      <th>32</th>\n",
       "      <td>0</td>\n",
       "      <td>-4649.910832</td>\n",
       "      <td>34</td>\n",
       "      <td>SECONDARY EDUCATION</td>\n",
       "      <td>1</td>\n",
       "      <td>civil partnership</td>\n",
       "      <td>1</td>\n",
       "      <td>F</td>\n",
       "      <td>employee</td>\n",
       "      <td>1</td>\n",
       "      <td>22249.194</td>\n",
       "      <td>having a wedding</td>\n",
       "    </tr>\n",
       "    <tr>\n",
       "      <th>38</th>\n",
       "      <td>0</td>\n",
       "      <td>-597.881827</td>\n",
       "      <td>25</td>\n",
       "      <td>bachelor's degree</td>\n",
       "      <td>0</td>\n",
       "      <td>unmarried</td>\n",
       "      <td>4</td>\n",
       "      <td>M</td>\n",
       "      <td>employee</td>\n",
       "      <td>1</td>\n",
       "      <td>30759.568</td>\n",
       "      <td>education</td>\n",
       "    </tr>\n",
       "    <tr>\n",
       "      <th>55</th>\n",
       "      <td>0</td>\n",
       "      <td>NaN</td>\n",
       "      <td>54</td>\n",
       "      <td>secondary education</td>\n",
       "      <td>1</td>\n",
       "      <td>civil partnership</td>\n",
       "      <td>1</td>\n",
       "      <td>F</td>\n",
       "      <td>retiree</td>\n",
       "      <td>1</td>\n",
       "      <td>NaN</td>\n",
       "      <td>to have a wedding</td>\n",
       "    </tr>\n",
       "    <tr>\n",
       "      <th>75</th>\n",
       "      <td>1</td>\n",
       "      <td>-2953.151948</td>\n",
       "      <td>38</td>\n",
       "      <td>secondary education</td>\n",
       "      <td>1</td>\n",
       "      <td>married</td>\n",
       "      <td>0</td>\n",
       "      <td>M</td>\n",
       "      <td>employee</td>\n",
       "      <td>1</td>\n",
       "      <td>13109.661</td>\n",
       "      <td>real estate transactions</td>\n",
       "    </tr>\n",
       "    <tr>\n",
       "      <th>...</th>\n",
       "      <td>...</td>\n",
       "      <td>...</td>\n",
       "      <td>...</td>\n",
       "      <td>...</td>\n",
       "      <td>...</td>\n",
       "      <td>...</td>\n",
       "      <td>...</td>\n",
       "      <td>...</td>\n",
       "      <td>...</td>\n",
       "      <td>...</td>\n",
       "      <td>...</td>\n",
       "      <td>...</td>\n",
       "    </tr>\n",
       "    <tr>\n",
       "      <th>21494</th>\n",
       "      <td>0</td>\n",
       "      <td>-960.095747</td>\n",
       "      <td>39</td>\n",
       "      <td>secondary education</td>\n",
       "      <td>1</td>\n",
       "      <td>civil partnership</td>\n",
       "      <td>1</td>\n",
       "      <td>M</td>\n",
       "      <td>business</td>\n",
       "      <td>1</td>\n",
       "      <td>28219.135</td>\n",
       "      <td>supplementary education</td>\n",
       "    </tr>\n",
       "    <tr>\n",
       "      <th>21511</th>\n",
       "      <td>0</td>\n",
       "      <td>-612.569129</td>\n",
       "      <td>29</td>\n",
       "      <td>bachelor's degree</td>\n",
       "      <td>0</td>\n",
       "      <td>civil partnership</td>\n",
       "      <td>1</td>\n",
       "      <td>F</td>\n",
       "      <td>employee</td>\n",
       "      <td>1</td>\n",
       "      <td>22410.956</td>\n",
       "      <td>buying property for renting out</td>\n",
       "    </tr>\n",
       "    <tr>\n",
       "      <th>21515</th>\n",
       "      <td>1</td>\n",
       "      <td>-467.685130</td>\n",
       "      <td>28</td>\n",
       "      <td>secondary education</td>\n",
       "      <td>1</td>\n",
       "      <td>married</td>\n",
       "      <td>0</td>\n",
       "      <td>F</td>\n",
       "      <td>employee</td>\n",
       "      <td>1</td>\n",
       "      <td>17517.812</td>\n",
       "      <td>to become educated</td>\n",
       "    </tr>\n",
       "    <tr>\n",
       "      <th>21522</th>\n",
       "      <td>1</td>\n",
       "      <td>-2113.346888</td>\n",
       "      <td>38</td>\n",
       "      <td>secondary education</td>\n",
       "      <td>1</td>\n",
       "      <td>civil partnership</td>\n",
       "      <td>1</td>\n",
       "      <td>M</td>\n",
       "      <td>employee</td>\n",
       "      <td>1</td>\n",
       "      <td>14347.610</td>\n",
       "      <td>property</td>\n",
       "    </tr>\n",
       "    <tr>\n",
       "      <th>21523</th>\n",
       "      <td>3</td>\n",
       "      <td>-3112.481705</td>\n",
       "      <td>38</td>\n",
       "      <td>secondary education</td>\n",
       "      <td>1</td>\n",
       "      <td>married</td>\n",
       "      <td>0</td>\n",
       "      <td>M</td>\n",
       "      <td>employee</td>\n",
       "      <td>1</td>\n",
       "      <td>39054.888</td>\n",
       "      <td>buying my own car</td>\n",
       "    </tr>\n",
       "  </tbody>\n",
       "</table>\n",
       "<p>1741 rows × 12 columns</p>\n",
       "</div>"
      ],
      "text/plain": [
       "       children  days_employed  dob_years            education  education_id  \\\n",
       "14            0   -1844.956182         56    bachelor's degree             0   \n",
       "32            0   -4649.910832         34  SECONDARY EDUCATION             1   \n",
       "38            0    -597.881827         25    bachelor's degree             0   \n",
       "55            0            NaN         54  secondary education             1   \n",
       "75            1   -2953.151948         38  secondary education             1   \n",
       "...         ...            ...        ...                  ...           ...   \n",
       "21494         0    -960.095747         39  secondary education             1   \n",
       "21511         0    -612.569129         29    bachelor's degree             0   \n",
       "21515         1    -467.685130         28  secondary education             1   \n",
       "21522         1   -2113.346888         38  secondary education             1   \n",
       "21523         3   -3112.481705         38  secondary education             1   \n",
       "\n",
       "           family_status  family_status_id gender income_type  debt  \\\n",
       "14     civil partnership                 1      F    business     1   \n",
       "32     civil partnership                 1      F    employee     1   \n",
       "38             unmarried                 4      M    employee     1   \n",
       "55     civil partnership                 1      F     retiree     1   \n",
       "75               married                 0      M    employee     1   \n",
       "...                  ...               ...    ...         ...   ...   \n",
       "21494  civil partnership                 1      M    business     1   \n",
       "21511  civil partnership                 1      F    employee     1   \n",
       "21515            married                 0      F    employee     1   \n",
       "21522  civil partnership                 1      M    employee     1   \n",
       "21523            married                 0      M    employee     1   \n",
       "\n",
       "       total_income                          purpose  \n",
       "14        26420.466      buy residential real estate  \n",
       "32        22249.194                 having a wedding  \n",
       "38        30759.568                        education  \n",
       "55              NaN                to have a wedding  \n",
       "75        13109.661         real estate transactions  \n",
       "...             ...                              ...  \n",
       "21494     28219.135          supplementary education  \n",
       "21511     22410.956  buying property for renting out  \n",
       "21515     17517.812               to become educated  \n",
       "21522     14347.610                         property  \n",
       "21523     39054.888                buying my own car  \n",
       "\n",
       "[1741 rows x 12 columns]"
      ]
     },
     "execution_count": 5,
     "metadata": {},
     "output_type": "execute_result"
    }
   ],
   "source": [
    "df.loc[df['debt'] != 0]"
   ]
  },
  {
   "cell_type": "code",
   "execution_count": 6,
   "metadata": {},
   "outputs": [
    {
     "name": "stdout",
     "output_type": "stream",
     "text": [
      "<class 'pandas.core.frame.DataFrame'>\n",
      "RangeIndex: 21525 entries, 0 to 21524\n",
      "Data columns (total 12 columns):\n",
      " #   Column            Non-Null Count  Dtype  \n",
      "---  ------            --------------  -----  \n",
      " 0   children          21525 non-null  int64  \n",
      " 1   days_employed     19351 non-null  float64\n",
      " 2   dob_years         21525 non-null  int64  \n",
      " 3   education         21525 non-null  object \n",
      " 4   education_id      21525 non-null  int64  \n",
      " 5   family_status     21525 non-null  object \n",
      " 6   family_status_id  21525 non-null  int64  \n",
      " 7   gender            21525 non-null  object \n",
      " 8   income_type       21525 non-null  object \n",
      " 9   debt              21525 non-null  int64  \n",
      " 10  total_income      19351 non-null  float64\n",
      " 11  purpose           21525 non-null  object \n",
      "dtypes: float64(2), int64(5), object(5)\n",
      "memory usage: 2.0+ MB\n"
     ]
    }
   ],
   "source": [
    "df.info()"
   ]
  },
  {
   "cell_type": "markdown",
   "metadata": {},
   "source": [
    "### Conclusion"
   ]
  },
  {
   "cell_type": "markdown",
   "metadata": {},
   "source": [
    "12 columns, 21525 rows\n",
    "\n",
    "Quantitative values: children, days_employed (float), education_id, family_status_id, debt, total_income \n",
    "\n",
    "Categories: education, family_status, gender, income_type, purpose, education_id \n",
    "\n",
    "Issues seen so far: \n",
    "- Days_employed column is a bit confusing from the unpleasing decimals and negative signs. \n",
    "- We can already see that education has issues in case-sensitivity. \n",
    "- Education_id is a [0,1] value where it is providing a 1 for only secondary education \n",
    "- family_status_id is a [0,1] value where it providing a 1 for civil partnership \n",
    "- total_income is not a pleasing display with all the decimal points \n",
    "- purpose column has an error where 'to have a wedding' and 'having a wedding' are the same thing but will not be aggregated together"
   ]
  },
  {
   "cell_type": "markdown",
   "metadata": {},
   "source": [
    "## Step 2. Data preprocessing"
   ]
  },
  {
   "cell_type": "markdown",
   "metadata": {},
   "source": [
    "### Processing missing values"
   ]
  },
  {
   "cell_type": "markdown",
   "metadata": {},
   "source": [
    "#### Processing missing values: Null values"
   ]
  },
  {
   "cell_type": "code",
   "execution_count": 7,
   "metadata": {
    "scrolled": true
   },
   "outputs": [
    {
     "name": "stdout",
     "output_type": "stream",
     "text": [
      "Find columns that have missing values\n",
      "Looking for columns that have values of zero and would not make sense\n",
      "NaN: ['days_employed', 'total_income']\n"
     ]
    }
   ],
   "source": [
    "print('Find columns that have missing values')\n",
    "print('Looking for columns that have values of zero and would not make sense')\n",
    "columnsWithNaN = []\n",
    "columnsWithZero =[]\n",
    "for x in df.columns:\n",
    "    if df[df[x].isnull()].empty == False: \n",
    "            columnsWithNaN.append(x)\n",
    "    if 0 in df[x]: \n",
    "            columnsWithZero.append(x)\n",
    "print('NaN:', columnsWithNaN)"
   ]
  },
  {
   "cell_type": "code",
   "execution_count": 8,
   "metadata": {
    "scrolled": false
   },
   "outputs": [
    {
     "name": "stdout",
     "output_type": "stream",
     "text": [
      "Since the missing values are quantitative, will use median to fill in null values to estimate\n"
     ]
    }
   ],
   "source": [
    "print('Since the missing values are quantitative, will use median to fill in null values to estimate')\n",
    "medEmployed = df['days_employed'].median()\n",
    "medIncome = df['total_income'].median()\n",
    "df['days_employed'] = df['days_employed'].fillna(medEmployed)\n",
    "df['total_income'] = df['total_income'].fillna(medIncome)\n",
    "\n",
    "#Confirmation that the null values were eliminated\n",
    "#df[df['days_employed'].isnull()].count()"
   ]
  },
  {
   "cell_type": "markdown",
   "metadata": {},
   "source": [
    "#### Processing missing values: Unreasonable zero values"
   ]
  },
  {
   "cell_type": "code",
   "execution_count": 9,
   "metadata": {
    "scrolled": true
   },
   "outputs": [
    {
     "name": "stdout",
     "output_type": "stream",
     "text": [
      "My current plan is to just replace them with NotANumber values instead of having them as zero.\n",
      "\n",
      "Count of zeroes in the dob_years column: 0\n"
     ]
    }
   ],
   "source": [
    "print('My current plan is to just replace them with NotANumber values instead of having them as zero.'); print()\n",
    "df.loc[df['dob_years'] == 0, 'dob_years'] = np.nan\n",
    "print('Count of zeroes in the dob_years column:', df.loc[df.loc[:, 'dob_years'] == 0]['dob_years'].count())"
   ]
  },
  {
   "cell_type": "markdown",
   "metadata": {},
   "source": [
    "#### Processing missing values: Unreasonable negative values "
   ]
  },
  {
   "cell_type": "code",
   "execution_count": 10,
   "metadata": {
    "scrolled": true
   },
   "outputs": [
    {
     "name": "stdout",
     "output_type": "stream",
     "text": [
      "Manual checking for column \"children\" using .value_counts() showed that there are negative values\n",
      "Below is the modified .value_counts() for the \"children\" column\n"
     ]
    },
    {
     "data": {
      "text/plain": [
       "0     14149\n",
       "1      4865\n",
       "2      2055\n",
       "3       330\n",
       "20       76\n",
       "4        41\n",
       "5         9\n",
       "Name: children, dtype: int64"
      ]
     },
     "execution_count": 10,
     "metadata": {},
     "output_type": "execute_result"
    }
   ],
   "source": [
    "print('Manual checking for column \"children\" using .value_counts() showed that there are negative values')\n",
    "print('Below is the modified .value_counts() for the \"children\" column')\n",
    "df.loc[df['children'] == -1, 'children'] = 1 \n",
    "df['children'].value_counts()"
   ]
  },
  {
   "cell_type": "markdown",
   "metadata": {},
   "source": [
    "#### Processing missing values: Outlier data "
   ]
  },
  {
   "cell_type": "code",
   "execution_count": 11,
   "metadata": {},
   "outputs": [
    {
     "name": "stdout",
     "output_type": "stream",
     "text": [
      "In the days_employed column, there are some entries that are extremely far from the rest of the distribution\n"
     ]
    },
    {
     "data": {
      "image/png": "[encoded data removed]",
      "text/plain": [
       "<Figure size 432x288 with 1 Axes>"
      ]
     },
     "metadata": {
      "needs_background": "light"
     },
     "output_type": "display_data"
    }
   ],
   "source": [
    "df['days_employed'].hist()\n",
    "print('In the days_employed column, there are some entries that are extremely far from the rest of the distribution')"
   ]
  },
  {
   "cell_type": "code",
   "execution_count": 23,
   "metadata": {},
   "outputs": [
    {
     "name": "stdout",
     "output_type": "stream",
     "text": [
      "All entries of days_employed greater than 300000 will be replaced by the median\n"
     ]
    },
    {
     "data": {
      "text/plain": [
       "Text(0, 0.5, 'Frequency')"
      ]
     },
     "execution_count": 23,
     "metadata": {},
     "output_type": "execute_result"
    },
    {
     "data": {
      "image/png": "[encoded data removed]",
      "text/plain": [
       "<Figure size 1080x360 with 1 Axes>"
      ]
     },
     "metadata": {
      "needs_background": "light"
     },
     "output_type": "display_data"
    }
   ],
   "source": [
    "import matplotlib.pyplot as plt\n",
    "print('All entries of days_employed greater than 300000 will be replaced by the median')\n",
    "medEmployed = df['days_employed'].median()\n",
    "df.loc[df['days_employed'] > 300000, 'days_employed'] = medEmployed\n",
    "\n",
    "#Confirmation that the outliers were eliminated values were eliminated\n",
    "df['days_employed'].hist(figsize=(15,5),bins=30,range=(-5000,10))\n",
    "plt.title('Histogram of days employed')\n",
    "plt.xlabel('Count of days employed')\n",
    "plt.ylabel('Frequency')"
   ]
  },
  {
   "cell_type": "code",
   "execution_count": 10,
   "metadata": {
    "scrolled": true
   },
   "outputs": [
    {
     "name": "stdout",
     "output_type": "stream",
     "text": [
      "Also, it was noticed that there are many counts of specifically 20 for children. This is assumed to be 2 instead\n"
     ]
    }
   ],
   "source": [
    "print('Also, it was noticed that there are many counts of specifically 20 for children. This is assumed to be 2 instead')\n",
    "df.loc[df['children'] == 20, 'children'] = 2"
   ]
  },
  {
   "cell_type": "markdown",
   "metadata": {},
   "source": [
    "### Processing missing values: Conclusion"
   ]
  },
  {
   "cell_type": "markdown",
   "metadata": {},
   "source": [
    "##### Null Values\n",
    "It was identified that columns 'days_employed' and 'total_income' had null values through a loop that checked for null values and validated with the .count() method. These were remedied by replacing them with the median values of their respective column. Possible cases of this is from human error of the data input or an error from exporting the data to a csv file. \n",
    "\n",
    "##### Unreasonable zero values\n",
    "Through manual checking using the .loc method and condition ==0, we also found that column 'dob_years' had values of zero in them. This was modified into empty string values. I believe the possible case with this is from a technical error where it was supposed to take the delta between today's date and their date of birth, but had a calculation issue. \n",
    "\n",
    "##### Unreasonable negative values \n",
    "Through manual checking using the .value_counts() method on column 'children', I found a negative value for it. This does not make sense because you can not have negative children. I remedied this by locating all items within the column that was equal to -1 and changed it to 1. I believe it was most likely a technical issue from exporting of the csv file or calculation.\n",
    "\n",
    "##### Outlier data\n",
    "The distribution of the column 'days_employed' showed extremely high values that were far from the rest of the values. These values were identified to be 300k+ days which translates to over 800 years which is unreasonable. This was remedied by finding all values that were greater than 300000 days and replacing them with the median value. It is possible it could have been a human error from inputting too many numbers. It is more likely for it to be a technical error from exporting of the csv file or calculation.\n",
    "\n",
    "The same concept is applied to the high number of counts of people who have 20 children. I would believe this if there were a smaller amount and more counts of children inbetween 5 and 20. This was remedied by changing values of 20 children to 2. This is most likely a human error accidentally inputting a zero afterwards."
   ]
  },
  {
   "cell_type": "markdown",
   "metadata": {},
   "source": [
    "### Data type replacement"
   ]
  },
  {
   "cell_type": "code",
   "execution_count": 24,
   "metadata": {
    "scrolled": true
   },
   "outputs": [
    {
     "name": "stdout",
     "output_type": "stream",
     "text": [
      "Here we will change the float64 data types to int64 (integer) data types\n",
      "<class 'pandas.core.frame.DataFrame'>\n",
      "RangeIndex: 21525 entries, 0 to 21524\n",
      "Data columns (total 12 columns):\n",
      " #   Column            Non-Null Count  Dtype  \n",
      "---  ------            --------------  -----  \n",
      " 0   children          21525 non-null  int64  \n",
      " 1   days_employed     21525 non-null  int32  \n",
      " 2   dob_years         21424 non-null  float64\n",
      " 3   education         21525 non-null  object \n",
      " 4   education_id      21525 non-null  int64  \n",
      " 5   family_status     21525 non-null  object \n",
      " 6   family_status_id  21525 non-null  int64  \n",
      " 7   gender            21525 non-null  object \n",
      " 8   income_type       21525 non-null  object \n",
      " 9   debt              21525 non-null  int64  \n",
      " 10  total_income      21525 non-null  int32  \n",
      " 11  purpose           21525 non-null  object \n",
      "dtypes: float64(1), int32(2), int64(4), object(5)\n",
      "memory usage: 1.8+ MB\n"
     ]
    }
   ],
   "source": [
    "print('Here we will change the float64 data types to int64 (integer) data types')\n",
    "df['days_employed'] = df['days_employed'].astype('int')\n",
    "df['total_income'] = df['total_income'].astype('int')\n",
    "df.info()"
   ]
  },
  {
   "cell_type": "code",
   "execution_count": 12,
   "metadata": {},
   "outputs": [],
   "source": [
    "# print('trying to get absolute values for the negative items ')\n",
    "# print('Manual checking for column \"days_employed\" using .value_counts() saw some negative entries as well')\n",
    "# # for index, row in df.iterrows(): \n",
    "# #     if row['days_employed'] < 0:\n",
    "# #         row['days_employed'] = abs(row['days_employed'])\n",
    "# #     break\n",
    "# # print(df['days_employed'].head())\n",
    "# newDaysEmployed = []\n",
    "\n",
    "# for row in df['days_employed']:\n",
    "#     newDaysEmployed.append(abs(row))\n",
    "\n",
    "# df['days_employed'] = newDaysEmployed\n",
    "# df.head()"
   ]
  },
  {
   "cell_type": "markdown",
   "metadata": {},
   "source": [
    "### Data type replacement: Conclusion"
   ]
  },
  {
   "cell_type": "markdown",
   "metadata": {},
   "source": [
    "#### Method\n",
    "The determined columns that were using real number data type were days_employed and total_income which can be seen in df.info(). After identifying which columns were float64, the .astype() method with an argument of int was applied to them. \n",
    "\n",
    "#### Why\n",
    "Some reasons this was applied include \n",
    "-  Legibility. The data is hard to read with so many numbers after the decimal point\n",
    "-  The data does not benefit to know that a person has been unemployed for 240.5 days as opposed to 240 days\n",
    "-  Decrease the file size and processing time?"
   ]
  },
  {
   "cell_type": "markdown",
   "metadata": {},
   "source": [
    "### Processing duplicates"
   ]
  },
  {
   "cell_type": "code",
   "execution_count": 13,
   "metadata": {
    "scrolled": false
   },
   "outputs": [
    {
     "name": "stdout",
     "output_type": "stream",
     "text": [
      "Here is the count of duplicates per column\n",
      "secondary education    13750\n",
      "masters degree          4718\n",
      "SECONDARY EDUCATION      772\n",
      "Secondary Education      711\n",
      "bachelor degree          668\n",
      "MASTERS DEGREE           274\n",
      "Masters Degree           268\n",
      "primary education        250\n",
      "Bachelor Degree           47\n",
      "BACHELOR DEGREE           29\n",
      "PRIMARY EDUCATION         17\n",
      "Primary Education         15\n",
      "academic degree            4\n",
      "Academic Degree            1\n",
      "ACADEMIC DEGREE            1\n",
      "Name: education, dtype: int64\n",
      "----------------\n",
      "married              12380\n",
      "civil partnership     4177\n",
      "unmarried             2813\n",
      "divorced              1195\n",
      "widow / widower        960\n",
      "Name: family_status, dtype: int64\n",
      "----------------\n",
      "F      14236\n",
      "M       7288\n",
      "XNA        1\n",
      "Name: gender, dtype: int64\n",
      "----------------\n",
      "employee                       11119\n",
      "partner                         5085\n",
      "retiree                         3856\n",
      "civil servant                   1459\n",
      "entrepreneur                       2\n",
      "unempoyed                          2\n",
      "student                            1\n",
      "paternity / maternity leave        1\n",
      "Name: income_type, dtype: int64\n",
      "----------------\n",
      "wedding ceremony                                 797\n",
      "having a wedding                                 777\n",
      "to have a wedding                                774\n",
      "real estate transactions                         676\n",
      "buy commercial real estate                       664\n",
      "buying property for renting out                  653\n",
      "housing transactions                             653\n",
      "transactions with the residential real estate    651\n",
      "purchase of the house                            647\n",
      "housing                                          647\n",
      "purchase of the house for my family              641\n",
      "construction of own property                     635\n",
      "property                                         634\n",
      "transactions with my real estate                 630\n",
      "building a real estate                           626\n",
      "buy real estate                                  624\n",
      "purchase of my own house                         620\n",
      "building a property                              620\n",
      "property renovation                              612\n",
      "buy residential real estate                      607\n",
      "buying my own car                                505\n",
      "going to university                              496\n",
      "car                                              495\n",
      "second-hand car purchase                         489\n",
      "to own a car                                     480\n",
      "buying a second-hand car                         479\n",
      "cars                                             478\n",
      "to buy a car                                     472\n",
      "supplementary education                          462\n",
      "car purchase                                     462\n",
      "purchase of a car                                455\n",
      "university education                             453\n",
      "education                                        447\n",
      "to get asupplementary education                  447\n",
      "getting an education                             443\n",
      "profile education                                436\n",
      "getting higher education                         426\n",
      "to become educated                               412\n",
      "Name: purpose, dtype: int64\n",
      "----------------\n"
     ]
    }
   ],
   "source": [
    "print('Here is the count of duplicates per column')\n",
    "qualitativeCol = ['education', 'family_status', 'gender', 'income_type','purpose']\n",
    "for x in qualitativeCol:\n",
    "    #print(x, '--', df.duplicated(x).sum()) \n",
    "    print(df[x].value_counts())\n",
    "    print('----------------')"
   ]
  },
  {
   "cell_type": "markdown",
   "metadata": {},
   "source": [
    "From this count of data for qualtitative columns, we can understand the kind of data we are getting. Below is a quick assessment:\n",
    "- Education: Lots of duplicated data that is mostly case-sensitivity issues. \n",
    "- Family status: No apparant issues \n",
    "- Gender: No apparant issues \n",
    "- Income Type: No issues other than the typo for 'unempoyed' which should be 'unemployed'\n",
    "- Purpose: Lots of repeated entries such as 'to own a car' and 'to buy a car'. "
   ]
  },
  {
   "cell_type": "markdown",
   "metadata": {},
   "source": [
    "#### Processing duplicates: 'education' "
   ]
  },
  {
   "cell_type": "code",
   "execution_count": 14,
   "metadata": {},
   "outputs": [
    {
     "name": "stdout",
     "output_type": "stream",
     "text": [
      "This modified all items in the education column to be lowercase, which now has grouped items accurately\n"
     ]
    },
    {
     "data": {
      "text/plain": [
       "secondary education    15233\n",
       "masters degree          5260\n",
       "bachelor degree          744\n",
       "primary education        282\n",
       "academic degree            6\n",
       "Name: education, dtype: int64"
      ]
     },
     "execution_count": 14,
     "metadata": {},
     "output_type": "execute_result"
    }
   ],
   "source": [
    "print('This modified all items in the education column to be lowercase, which now has grouped items accurately')\n",
    "df['education'] = df['education'].str.lower()\n",
    "df['education'].value_counts()\n"
   ]
  },
  {
   "cell_type": "markdown",
   "metadata": {},
   "source": [
    "#### Processing duplicates: 'purpose'"
   ]
  },
  {
   "cell_type": "code",
   "execution_count": 25,
   "metadata": {},
   "outputs": [
    {
     "name": "stdout",
     "output_type": "stream",
     "text": [
      "This natural language processor will be addressed in the lemmatization portion of the project\n"
     ]
    }
   ],
   "source": [
    "print('This natural language processor will be addressed in the lemmatization portion of the project')"
   ]
  },
  {
   "cell_type": "markdown",
   "metadata": {},
   "source": [
    "### Processing duplicates: Conclusion"
   ]
  },
  {
   "cell_type": "markdown",
   "metadata": {},
   "source": [
    "##### Method \n",
    "To find the duplicates, I ran a loop through the qualitative columns because it is difficult to assess if quantitiatve duplicates are genuine or not at first glance. This loop provided the value_counts to let me manually see if there were any duplicates in these columns. I was able to visually identify that 'education' and 'purpose' had duplicated entries. The issues were case-sensitivity and different wording respectively for the columns.\n",
    "\n",
    "To remedy the duplicates, I modified the entire 'education' column to be all lower case by using the .str.lower() method. I validated my solution by calling .value_counts for the 'education' column again and saw that all entries were in the same case format. \n",
    "\n",
    "##### Possible Reasons\n",
    "I believe that this issue is definitely a human error. When a client is submitting their information, they must have had a text box entry for their education which allowed for case sensitivity room for error. Some clients were inputting their education in different case formats that brought this error. "
   ]
  },
  {
   "cell_type": "markdown",
   "metadata": {},
   "source": [
    "### Lemmatization"
   ]
  },
  {
   "cell_type": "code",
   "execution_count": 16,
   "metadata": {
    "scrolled": false
   },
   "outputs": [
    {
     "data": {
      "text/plain": [
       "[car]                                                  973\n",
       "[wedding, ceremony]                                    797\n",
       "[having, a, wedding]                                   777\n",
       "[to, have, a, wedding]                                 774\n",
       "[real, estate, transaction]                            676\n",
       "[buy, commercial, real, estate]                        664\n",
       "[housing, transaction]                                 653\n",
       "[buying, property, for, renting, out]                  653\n",
       "[transaction, with, the, residential, real, estate]    651\n",
       "[purchase, of, the, house]                             647\n",
       "[housing]                                              647\n",
       "[purchase, of, the, house, for, my, family]            641\n",
       "[construction, of, own, property]                      635\n",
       "[property]                                             634\n",
       "[transaction, with, my, real, estate]                  630\n",
       "[building, a, real, estate]                            626\n",
       "[buy, real, estate]                                    624\n",
       "[building, a, property]                                620\n",
       "[purchase, of, my, own, house]                         620\n",
       "[property, renovation]                                 612\n",
       "[buy, residential, real, estate]                       607\n",
       "[buying, my, own, car]                                 505\n",
       "[going, to, university]                                496\n",
       "[second-hand, car, purchase]                           489\n",
       "[to, own, a, car]                                      480\n",
       "[buying, a, second-hand, car]                          479\n",
       "[to, buy, a, car]                                      472\n",
       "[supplementary, education]                             462\n",
       "[car, purchase]                                        462\n",
       "[purchase, of, a, car]                                 455\n",
       "[university, education]                                453\n",
       "[to, get, asupplementary, education]                   447\n",
       "[education]                                            447\n",
       "[getting, an, education]                               443\n",
       "[profile, education]                                   436\n",
       "[getting, higher, education]                           426\n",
       "[to, become, educated]                                 412\n",
       "Name: purpose_lemma, dtype: int64"
      ]
     },
     "execution_count": 16,
     "metadata": {},
     "output_type": "execute_result"
    }
   ],
   "source": [
    "import nltk \n",
    "from nltk.stem import WordNetLemmatizer\n",
    "from collections import Counter \n",
    "lemmatizer = WordNetLemmatizer()\n",
    "purpose_lemmas = []\n",
    "            \n",
    "def lemmaFunction(row):\n",
    "    words = nltk.word_tokenize(row)\n",
    "    return [lemmatizer.lemmatize(word) for word in words]\n",
    "#not using the pos value \n",
    "\n",
    "df['purpose_lemma'] = df['purpose'].apply(lemmaFunction)\n",
    "df['purpose_lemma'].value_counts()"
   ]
  },
  {
   "cell_type": "markdown",
   "metadata": {},
   "source": [
    "##### Explanation\n",
    "Using the natural language toolkit library, we are able to tokenize each row entry's response to the 'purpose' column. This mean we can extract each word out of the sentence into a list. After the the entry is split by each word, the lemmatize method is applied to identify the nouns of the tokenized list to return a list of only the nouns. This congregated into a function and is applied to every row in the dataframe using the .apply method to generate a new column with the lemmas of the entry. "
   ]
  },
  {
   "cell_type": "code",
   "execution_count": 17,
   "metadata": {},
   "outputs": [
    {
     "name": "stdout",
     "output_type": "stream",
     "text": [
      "We manually define the main topics as car, wedding, estate, and education\n"
     ]
    },
    {
     "data": {
      "text/plain": [
       "house        10840\n",
       "car           4315\n",
       "education     4022\n",
       "wedding       2348\n",
       "Name: topic, dtype: int64"
      ]
     },
     "execution_count": 17,
     "metadata": {},
     "output_type": "execute_result"
    }
   ],
   "source": [
    "print('We manually define the main topics as car, wedding, estate, and education')\n",
    "def topicDefine(row):\n",
    "    if 'car' in row:\n",
    "        return 'car'\n",
    "    elif ('education' in row) or ('university' in row) or ('educated' in row):\n",
    "        return 'education'\n",
    "    elif ('wedding' in row):\n",
    "        return 'wedding'\n",
    "    elif ('property' in row) or ('estate' in row) or ('house' in row) or ('housing' in row):\n",
    "        return 'house' \n",
    "    else:\n",
    "        return 'null'\n",
    "    \n",
    "df['topic'] = df['purpose_lemma'].apply(topicDefine)\n",
    "df['topic'].value_counts()"
   ]
  },
  {
   "cell_type": "markdown",
   "metadata": {},
   "source": [
    "### Lemmatization: Conclusion"
   ]
  },
  {
   "cell_type": "markdown",
   "metadata": {},
   "source": [
    "The original function identified the main topics to feature car, wedding ,estate, and education. Manually looking through the lemmas from the purpose_lemma column, I found the nouns and verbs that would reference these topics. A function is used to loop through each row of the 'purpose_lemma\" column to find the topic it is referencing based conditions of nouns and verbs. This categorized these purposes into 4 categories. You can see their counts above. The main one is to purchase a house and the least likely one is to celebrate a wedding."
   ]
  },
  {
   "cell_type": "markdown",
   "metadata": {},
   "source": [
    "### Categorizing Data"
   ]
  },
  {
   "cell_type": "markdown",
   "metadata": {},
   "source": [
    "Looking at the questions that need to be addressed below, we will need to make categorizations for "
   ]
  },
  {
   "cell_type": "markdown",
   "metadata": {},
   "source": [
    "##### Categorizing Data: Age"
   ]
  },
  {
   "cell_type": "code",
   "execution_count": 19,
   "metadata": {},
   "outputs": [
    {
     "name": "stdout",
     "output_type": "stream",
     "text": [
      "We can see the distribution of ages here. We will classify them in typical age group buckets\n"
     ]
    },
    {
     "data": {
      "image/png": "[encoded data removed]",
      "text/plain": [
       "<Figure size 432x288 with 1 Axes>"
      ]
     },
     "metadata": {
      "needs_background": "light"
     },
     "output_type": "display_data"
    }
   ],
   "source": [
    "df['dob_years'].hist()\n",
    "print('We can see the distribution of ages here. We will classify them in typical age group buckets')"
   ]
  },
  {
   "cell_type": "code",
   "execution_count": 20,
   "metadata": {},
   "outputs": [
    {
     "data": {
      "text/plain": [
       "Older Adult    8795\n",
       "Adult          8547\n",
       "Young Adult    3183\n",
       "Elderly        1000\n",
       "Name: age_group, dtype: int64"
      ]
     },
     "execution_count": 20,
     "metadata": {},
     "output_type": "execute_result"
    }
   ],
   "source": [
    "def age_group(age):\n",
    "    if age < 30:\n",
    "        return 'Young Adult'\n",
    "    elif age < 45:\n",
    "        return 'Adult'\n",
    "    elif age < 65:\n",
    "        return 'Older Adult'\n",
    "    else:\n",
    "        return 'Elderly'\n",
    "\n",
    "df['age_group'] = df['dob_years'].apply(age_group)\n",
    "df['age_group'].value_counts()"
   ]
  },
  {
   "cell_type": "markdown",
   "metadata": {},
   "source": [
    "##### Categorizing Data: Income"
   ]
  },
  {
   "cell_type": "code",
   "execution_count": 21,
   "metadata": {},
   "outputs": [
    {
     "data": {
      "text/plain": [
       "LessThan200    9614\n",
       "MoreThan200    5066\n",
       "LessThan100    3657\n",
       "LessThan150    2382\n",
       "LessThan60      806\n",
       "Name: income_group, dtype: int64"
      ]
     },
     "execution_count": 21,
     "metadata": {},
     "output_type": "execute_result"
    }
   ],
   "source": [
    "def income_group(income):\n",
    "    if income < 60000:\n",
    "        return 'LessThan60'\n",
    "    elif income < 100000:\n",
    "        return 'LessThan100'\n",
    "    elif income < 120000:\n",
    "        return 'LessThan150'\n",
    "    elif income < 200000:\n",
    "        return 'LessThan200'\n",
    "    else:\n",
    "        return 'MoreThan200'\n",
    "    \n",
    "df['income_group'] = df['total_income'].apply(income_group)\n",
    "df['income_group'].value_counts()"
   ]
  },
  {
   "cell_type": "code",
   "execution_count": 22,
   "metadata": {},
   "outputs": [],
   "source": [
    "#df['income_group'].hist()"
   ]
  },
  {
   "cell_type": "markdown",
   "metadata": {},
   "source": [
    "### Step 3. Answer these questions"
   ]
  },
  {
   "cell_type": "markdown",
   "metadata": {},
   "source": [
    "- Is there a relation between having kids and repaying a loan on time?"
   ]
  },
  {
   "cell_type": "code",
   "execution_count": 23,
   "metadata": {},
   "outputs": [
    {
     "data": {
      "text/html": [
       "<div>\n",
       "<style scoped>\n",
       "    .dataframe tbody tr th:only-of-type {\n",
       "        vertical-align: middle;\n",
       "    }\n",
       "\n",
       "    .dataframe tbody tr th {\n",
       "        vertical-align: top;\n",
       "    }\n",
       "\n",
       "    .dataframe thead th {\n",
       "        text-align: right;\n",
       "    }\n",
       "</style>\n",
       "<table border=\"1\" class=\"dataframe\">\n",
       "  <thead>\n",
       "    <tr style=\"text-align: right;\">\n",
       "      <th></th>\n",
       "      <th>count</th>\n",
       "      <th>mean</th>\n",
       "      <th>median</th>\n",
       "    </tr>\n",
       "    <tr>\n",
       "      <th>children</th>\n",
       "      <th></th>\n",
       "      <th></th>\n",
       "      <th></th>\n",
       "    </tr>\n",
       "  </thead>\n",
       "  <tbody>\n",
       "    <tr>\n",
       "      <td>0</td>\n",
       "      <td>14149</td>\n",
       "      <td>0.075129</td>\n",
       "      <td>0</td>\n",
       "    </tr>\n",
       "    <tr>\n",
       "      <td>1</td>\n",
       "      <td>4865</td>\n",
       "      <td>0.091470</td>\n",
       "      <td>0</td>\n",
       "    </tr>\n",
       "    <tr>\n",
       "      <td>2</td>\n",
       "      <td>2131</td>\n",
       "      <td>0.094791</td>\n",
       "      <td>0</td>\n",
       "    </tr>\n",
       "    <tr>\n",
       "      <td>3</td>\n",
       "      <td>330</td>\n",
       "      <td>0.081818</td>\n",
       "      <td>0</td>\n",
       "    </tr>\n",
       "    <tr>\n",
       "      <td>4</td>\n",
       "      <td>41</td>\n",
       "      <td>0.097561</td>\n",
       "      <td>0</td>\n",
       "    </tr>\n",
       "    <tr>\n",
       "      <td>5</td>\n",
       "      <td>9</td>\n",
       "      <td>0.000000</td>\n",
       "      <td>0</td>\n",
       "    </tr>\n",
       "  </tbody>\n",
       "</table>\n",
       "</div>"
      ],
      "text/plain": [
       "          count      mean  median\n",
       "children                         \n",
       "0         14149  0.075129       0\n",
       "1          4865  0.091470       0\n",
       "2          2131  0.094791       0\n",
       "3           330  0.081818       0\n",
       "4            41  0.097561       0\n",
       "5             9  0.000000       0"
      ]
     },
     "execution_count": 23,
     "metadata": {},
     "output_type": "execute_result"
    }
   ],
   "source": [
    "df.groupby('children')['debt'].agg(['count','mean', 'median'])"
   ]
  },
  {
   "cell_type": "code",
   "execution_count": 24,
   "metadata": {},
   "outputs": [
    {
     "data": {
      "text/plain": [
       "<matplotlib.axes._subplots.AxesSubplot at 0x7fafce1eac10>"
      ]
     },
     "execution_count": 24,
     "metadata": {},
     "output_type": "execute_result"
    },
    {
     "data": {
      "image/png": "[encoded data removed]",
      "text/plain": [
       "<Figure size 432x288 with 1 Axes>"
      ]
     },
     "metadata": {
      "needs_background": "light"
     },
     "output_type": "display_data"
    }
   ],
   "source": [
    "df.groupby('children')['debt'].mean().plot()"
   ]
  },
  {
   "cell_type": "markdown",
   "metadata": {},
   "source": [
    "### Conclusion: Kids and paying debt on time"
   ]
  },
  {
   "cell_type": "markdown",
   "metadata": {},
   "source": [
    "By taking the average of how many clients who have defaulted on their debt grouped by the number of children they have, we get a ratio of how likely each bucket would pay their debt on time. Overall it seems like all counts of children have a low likely of not repaying their loan on time with 0.0976 being the highest ratio. \n",
    "\n",
    "There is a slight increase of likelihood to default on their debt from groups of children from 0 to 2, but there is only a delta of 0.019662 between them which is still important to notice. The ratio actually decreases at counts of 3 children, but then rises back at 4, which shows there is only a slightly positive relation. The counts of each group decreases for greater numbers of children (which makes sense since it's difficult to have a big family) so the reliability of the data decreases as well. We should not consider counts of 5 children because we only have 9 rows with this kind of data. \n",
    "\n",
    "The data makes sense because those who do not have children have less financial responsibility compared to those raising a family, so they will be more likely to pay a loan back on time. Having 1 or 2 children adds more fiscal pressure and makes it more difficult to pay a loan back on time. From 3 children and onwards, the count of these entries start to become scarce, but still slightly follows the same idea that more children slightly increases likeliness to not pay debt on time. "
   ]
  },
  {
   "cell_type": "markdown",
   "metadata": {},
   "source": [
    "- Is there a relation between marital status and repaying a loan on time?"
   ]
  },
  {
   "cell_type": "code",
   "execution_count": 25,
   "metadata": {},
   "outputs": [
    {
     "data": {
      "text/html": [
       "<div>\n",
       "<style scoped>\n",
       "    .dataframe tbody tr th:only-of-type {\n",
       "        vertical-align: middle;\n",
       "    }\n",
       "\n",
       "    .dataframe tbody tr th {\n",
       "        vertical-align: top;\n",
       "    }\n",
       "\n",
       "    .dataframe thead th {\n",
       "        text-align: right;\n",
       "    }\n",
       "</style>\n",
       "<table border=\"1\" class=\"dataframe\">\n",
       "  <thead>\n",
       "    <tr style=\"text-align: right;\">\n",
       "      <th></th>\n",
       "      <th>count</th>\n",
       "      <th>mean</th>\n",
       "      <th>median</th>\n",
       "    </tr>\n",
       "    <tr>\n",
       "      <th>family_status</th>\n",
       "      <th></th>\n",
       "      <th></th>\n",
       "      <th></th>\n",
       "    </tr>\n",
       "  </thead>\n",
       "  <tbody>\n",
       "    <tr>\n",
       "      <td>civil partnership</td>\n",
       "      <td>4177</td>\n",
       "      <td>0.092890</td>\n",
       "      <td>0</td>\n",
       "    </tr>\n",
       "    <tr>\n",
       "      <td>divorced</td>\n",
       "      <td>1195</td>\n",
       "      <td>0.071130</td>\n",
       "      <td>0</td>\n",
       "    </tr>\n",
       "    <tr>\n",
       "      <td>married</td>\n",
       "      <td>12380</td>\n",
       "      <td>0.075202</td>\n",
       "      <td>0</td>\n",
       "    </tr>\n",
       "    <tr>\n",
       "      <td>unmarried</td>\n",
       "      <td>2813</td>\n",
       "      <td>0.097405</td>\n",
       "      <td>0</td>\n",
       "    </tr>\n",
       "    <tr>\n",
       "      <td>widow / widower</td>\n",
       "      <td>960</td>\n",
       "      <td>0.065625</td>\n",
       "      <td>0</td>\n",
       "    </tr>\n",
       "  </tbody>\n",
       "</table>\n",
       "</div>"
      ],
      "text/plain": [
       "                   count      mean  median\n",
       "family_status                             \n",
       "civil partnership   4177  0.092890       0\n",
       "divorced            1195  0.071130       0\n",
       "married            12380  0.075202       0\n",
       "unmarried           2813  0.097405       0\n",
       "widow / widower      960  0.065625       0"
      ]
     },
     "execution_count": 25,
     "metadata": {},
     "output_type": "execute_result"
    }
   ],
   "source": [
    "df.groupby('family_status')['debt'].agg(['count', 'mean', 'median'])"
   ]
  },
  {
   "cell_type": "code",
   "execution_count": 26,
   "metadata": {},
   "outputs": [
    {
     "data": {
      "text/plain": [
       "<matplotlib.axes._subplots.AxesSubplot at 0x7fafb6d17f50>"
      ]
     },
     "execution_count": 26,
     "metadata": {},
     "output_type": "execute_result"
    },
    {
     "data": {
      "image/png": "[encoded data removed]",
      "text/plain": [
       "<Figure size 432x288 with 1 Axes>"
      ]
     },
     "metadata": {
      "needs_background": "light"
     },
     "output_type": "display_data"
    }
   ],
   "source": [
    "df.groupby('family_status')['debt'].mean().sort_values(ascending = False).plot(kind = 'bar', rot = 45)"
   ]
  },
  {
   "cell_type": "code",
   "execution_count": 27,
   "metadata": {},
   "outputs": [
    {
     "data": {
      "text/html": [
       "<div>\n",
       "<style scoped>\n",
       "    .dataframe tbody tr th:only-of-type {\n",
       "        vertical-align: middle;\n",
       "    }\n",
       "\n",
       "    .dataframe tbody tr th {\n",
       "        vertical-align: top;\n",
       "    }\n",
       "\n",
       "    .dataframe thead tr th {\n",
       "        text-align: left;\n",
       "    }\n",
       "\n",
       "    .dataframe thead tr:last-of-type th {\n",
       "        text-align: right;\n",
       "    }\n",
       "</style>\n",
       "<table border=\"1\" class=\"dataframe\">\n",
       "  <thead>\n",
       "    <tr>\n",
       "      <th></th>\n",
       "      <th colspan=\"4\" halign=\"left\">count</th>\n",
       "      <th colspan=\"4\" halign=\"left\">mean</th>\n",
       "    </tr>\n",
       "    <tr>\n",
       "      <th>age_group</th>\n",
       "      <th>Adult</th>\n",
       "      <th>Elderly</th>\n",
       "      <th>Older Adult</th>\n",
       "      <th>Young Adult</th>\n",
       "      <th>Adult</th>\n",
       "      <th>Elderly</th>\n",
       "      <th>Older Adult</th>\n",
       "      <th>Young Adult</th>\n",
       "    </tr>\n",
       "    <tr>\n",
       "      <th>family_status</th>\n",
       "      <th></th>\n",
       "      <th></th>\n",
       "      <th></th>\n",
       "      <th></th>\n",
       "      <th></th>\n",
       "      <th></th>\n",
       "      <th></th>\n",
       "      <th></th>\n",
       "    </tr>\n",
       "  </thead>\n",
       "  <tbody>\n",
       "    <tr>\n",
       "      <td>civil partnership</td>\n",
       "      <td>1761</td>\n",
       "      <td>164</td>\n",
       "      <td>1567</td>\n",
       "      <td>685</td>\n",
       "      <td>0.107325</td>\n",
       "      <td>0.060976</td>\n",
       "      <td>0.075941</td>\n",
       "      <td>0.102190</td>\n",
       "    </tr>\n",
       "    <tr>\n",
       "      <td>divorced</td>\n",
       "      <td>451</td>\n",
       "      <td>59</td>\n",
       "      <td>589</td>\n",
       "      <td>96</td>\n",
       "      <td>0.066519</td>\n",
       "      <td>0.084746</td>\n",
       "      <td>0.061121</td>\n",
       "      <td>0.145833</td>\n",
       "    </tr>\n",
       "    <tr>\n",
       "      <td>married</td>\n",
       "      <td>5258</td>\n",
       "      <td>500</td>\n",
       "      <td>5140</td>\n",
       "      <td>1482</td>\n",
       "      <td>0.084062</td>\n",
       "      <td>0.052000</td>\n",
       "      <td>0.058560</td>\n",
       "      <td>0.109312</td>\n",
       "    </tr>\n",
       "    <tr>\n",
       "      <td>unmarried</td>\n",
       "      <td>981</td>\n",
       "      <td>102</td>\n",
       "      <td>812</td>\n",
       "      <td>918</td>\n",
       "      <td>0.111111</td>\n",
       "      <td>0.029412</td>\n",
       "      <td>0.072660</td>\n",
       "      <td>0.112200</td>\n",
       "    </tr>\n",
       "    <tr>\n",
       "      <td>widow / widower</td>\n",
       "      <td>96</td>\n",
       "      <td>175</td>\n",
       "      <td>687</td>\n",
       "      <td>2</td>\n",
       "      <td>0.062500</td>\n",
       "      <td>0.074286</td>\n",
       "      <td>0.064047</td>\n",
       "      <td>0.000000</td>\n",
       "    </tr>\n",
       "  </tbody>\n",
       "</table>\n",
       "</div>"
      ],
      "text/plain": [
       "                  count                                      mean            \\\n",
       "age_group         Adult Elderly Older Adult Young Adult     Adult   Elderly   \n",
       "family_status                                                                 \n",
       "civil partnership  1761     164        1567         685  0.107325  0.060976   \n",
       "divorced            451      59         589          96  0.066519  0.084746   \n",
       "married            5258     500        5140        1482  0.084062  0.052000   \n",
       "unmarried           981     102         812         918  0.111111  0.029412   \n",
       "widow / widower      96     175         687           2  0.062500  0.074286   \n",
       "\n",
       "                                           \n",
       "age_group         Older Adult Young Adult  \n",
       "family_status                              \n",
       "civil partnership    0.075941    0.102190  \n",
       "divorced             0.061121    0.145833  \n",
       "married              0.058560    0.109312  \n",
       "unmarried            0.072660    0.112200  \n",
       "widow / widower      0.064047    0.000000  "
      ]
     },
     "execution_count": 27,
     "metadata": {},
     "output_type": "execute_result"
    }
   ],
   "source": [
    "df.pivot_table(index = 'family_status', columns = 'age_group', values = 'debt', aggfunc = ['count','mean'])"
   ]
  },
  {
   "cell_type": "markdown",
   "metadata": {},
   "source": [
    "### Conclusion: Martial status and paying debt on time"
   ]
  },
  {
   "cell_type": "markdown",
   "metadata": {},
   "source": [
    "By grouping by martial status, and looking for the average liklihood of defaulting on debt, we get a ratio for the buckets. From all the martial status categories, there is a range of 0.065 to 0.097 of the averages of paying debt on time. We can see that there is a relation with the high range that are based on buckets. The highest liklihood to not pay debt on time is for the 'unmarried' category of 0.974. My hypothesis is that many young adults are unmarried and are irresponsible with paying back their debt.\n",
    "\n",
    "Civil partnership is the second highest with 0.07 which is surprising. The categories of married, divorced, and widow/widower have less than 0.075 likelihood to not pay back their loan, showing a strong relation of martial status and default probability. My assumption is that they are all older client who are more mature with their finances. "
   ]
  },
  {
   "cell_type": "markdown",
   "metadata": {},
   "source": [
    "- Is there a relation between income level and repaying a loan on time?"
   ]
  },
  {
   "cell_type": "code",
   "execution_count": 28,
   "metadata": {},
   "outputs": [
    {
     "data": {
      "text/plain": [
       "<matplotlib.axes._subplots.AxesSubplot at 0x7fafb6d9a0d0>"
      ]
     },
     "execution_count": 28,
     "metadata": {},
     "output_type": "execute_result"
    },
    {
     "data": {
      "image/png": "[encoded data removed]",
      "text/plain": [
       "<Figure size 432x288 with 1 Axes>"
      ]
     },
     "metadata": {
      "needs_background": "light"
     },
     "output_type": "display_data"
    }
   ],
   "source": [
    "df.plot(kind = 'scatter', x = 'total_income', y = 'debt', alpha = 0.002)"
   ]
  },
  {
   "cell_type": "code",
   "execution_count": 29,
   "metadata": {},
   "outputs": [
    {
     "data": {
      "text/plain": [
       "<matplotlib.axes._subplots.AxesSubplot at 0x7fafb3423850>"
      ]
     },
     "execution_count": 29,
     "metadata": {},
     "output_type": "execute_result"
    },
    {
     "data": {
      "image/png": "[encoded data removed]",
      "text/plain": [
       "<Figure size 432x288 with 1 Axes>"
      ]
     },
     "metadata": {
      "needs_background": "light"
     },
     "output_type": "display_data"
    }
   ],
   "source": [
    "df.groupby('total_income')['debt'].mean().plot(rot = 45)"
   ]
  },
  {
   "cell_type": "code",
   "execution_count": 30,
   "metadata": {},
   "outputs": [
    {
     "data": {
      "text/plain": [
       "<matplotlib.axes._subplots.AxesSubplot at 0x7fafb341acd0>"
      ]
     },
     "execution_count": 30,
     "metadata": {},
     "output_type": "execute_result"
    },
    {
     "data": {
      "image/png": "[encoded data removed]",
      "text/plain": [
       "<Figure size 432x288 with 1 Axes>"
      ]
     },
     "metadata": {
      "needs_background": "light"
     },
     "output_type": "display_data"
    }
   ],
   "source": [
    "df.groupby('income_group')['debt'].mean().sort_values(ascending = False).plot(kind = 'bar',rot = 45)"
   ]
  },
  {
   "cell_type": "code",
   "execution_count": 31,
   "metadata": {},
   "outputs": [
    {
     "data": {
      "text/html": [
       "<div>\n",
       "<style scoped>\n",
       "    .dataframe tbody tr th:only-of-type {\n",
       "        vertical-align: middle;\n",
       "    }\n",
       "\n",
       "    .dataframe tbody tr th {\n",
       "        vertical-align: top;\n",
       "    }\n",
       "\n",
       "    .dataframe thead tr th {\n",
       "        text-align: left;\n",
       "    }\n",
       "\n",
       "    .dataframe thead tr:last-of-type th {\n",
       "        text-align: right;\n",
       "    }\n",
       "</style>\n",
       "<table border=\"1\" class=\"dataframe\">\n",
       "  <thead>\n",
       "    <tr>\n",
       "      <th></th>\n",
       "      <th colspan=\"4\" halign=\"left\">count</th>\n",
       "      <th colspan=\"4\" halign=\"left\">mean</th>\n",
       "    </tr>\n",
       "    <tr>\n",
       "      <th>age_group</th>\n",
       "      <th>Adult</th>\n",
       "      <th>Elderly</th>\n",
       "      <th>Older Adult</th>\n",
       "      <th>Young Adult</th>\n",
       "      <th>Adult</th>\n",
       "      <th>Elderly</th>\n",
       "      <th>Older Adult</th>\n",
       "      <th>Young Adult</th>\n",
       "    </tr>\n",
       "    <tr>\n",
       "      <th>income_group</th>\n",
       "      <th></th>\n",
       "      <th></th>\n",
       "      <th></th>\n",
       "      <th></th>\n",
       "      <th></th>\n",
       "      <th></th>\n",
       "      <th></th>\n",
       "      <th></th>\n",
       "    </tr>\n",
       "  </thead>\n",
       "  <tbody>\n",
       "    <tr>\n",
       "      <td>LessThan100</td>\n",
       "      <td>1269</td>\n",
       "      <td>244</td>\n",
       "      <td>1558</td>\n",
       "      <td>586</td>\n",
       "      <td>0.102443</td>\n",
       "      <td>0.053279</td>\n",
       "      <td>0.061617</td>\n",
       "      <td>0.112628</td>\n",
       "    </tr>\n",
       "    <tr>\n",
       "      <td>LessThan150</td>\n",
       "      <td>897</td>\n",
       "      <td>135</td>\n",
       "      <td>971</td>\n",
       "      <td>379</td>\n",
       "      <td>0.102564</td>\n",
       "      <td>0.037037</td>\n",
       "      <td>0.055613</td>\n",
       "      <td>0.121372</td>\n",
       "    </tr>\n",
       "    <tr>\n",
       "      <td>LessThan200</td>\n",
       "      <td>3885</td>\n",
       "      <td>387</td>\n",
       "      <td>3874</td>\n",
       "      <td>1468</td>\n",
       "      <td>0.096525</td>\n",
       "      <td>0.072351</td>\n",
       "      <td>0.066856</td>\n",
       "      <td>0.115804</td>\n",
       "    </tr>\n",
       "    <tr>\n",
       "      <td>LessThan60</td>\n",
       "      <td>200</td>\n",
       "      <td>93</td>\n",
       "      <td>424</td>\n",
       "      <td>89</td>\n",
       "      <td>0.085000</td>\n",
       "      <td>0.064516</td>\n",
       "      <td>0.042453</td>\n",
       "      <td>0.089888</td>\n",
       "    </tr>\n",
       "    <tr>\n",
       "      <td>MoreThan200</td>\n",
       "      <td>2296</td>\n",
       "      <td>141</td>\n",
       "      <td>1968</td>\n",
       "      <td>661</td>\n",
       "      <td>0.070557</td>\n",
       "      <td>0.035461</td>\n",
       "      <td>0.067073</td>\n",
       "      <td>0.089259</td>\n",
       "    </tr>\n",
       "  </tbody>\n",
       "</table>\n",
       "</div>"
      ],
      "text/plain": [
       "             count                                      mean            \\\n",
       "age_group    Adult Elderly Older Adult Young Adult     Adult   Elderly   \n",
       "income_group                                                             \n",
       "LessThan100   1269     244        1558         586  0.102443  0.053279   \n",
       "LessThan150    897     135         971         379  0.102564  0.037037   \n",
       "LessThan200   3885     387        3874        1468  0.096525  0.072351   \n",
       "LessThan60     200      93         424          89  0.085000  0.064516   \n",
       "MoreThan200   2296     141        1968         661  0.070557  0.035461   \n",
       "\n",
       "                                      \n",
       "age_group    Older Adult Young Adult  \n",
       "income_group                          \n",
       "LessThan100     0.061617    0.112628  \n",
       "LessThan150     0.055613    0.121372  \n",
       "LessThan200     0.066856    0.115804  \n",
       "LessThan60      0.042453    0.089888  \n",
       "MoreThan200     0.067073    0.089259  "
      ]
     },
     "execution_count": 31,
     "metadata": {},
     "output_type": "execute_result"
    }
   ],
   "source": [
    "df.pivot_table(index = 'income_group', columns = 'age_group', values = 'debt', aggfunc = ['count','mean'])"
   ]
  },
  {
   "cell_type": "markdown",
   "metadata": {},
   "source": [
    "### Conclusion"
   ]
  },
  {
   "cell_type": "markdown",
   "metadata": {},
   "source": [
    "I have divided the income groups into 5 different categories in an earlier section. Income groups are needed because the line chart without it is difficult to understand. \n",
    "\n",
    "Based on the bar chart, we can see that those who are making from 150k - 200k have the highest likelihood of not paying their debt. This is surprising since they have a high income. My assumption is that they are making large jumps to build a business or some other sort of high risk high reward investment. \n",
    "\n",
    "The second highest probability of not paying debt on time is from the 60k - 100k range. My assumption is that they are using loans to break into that six figure range. \n",
    "\n",
    "A significant decrease is seen from 100k - 150k income range to 200k+. My guess is that those who have over 200k+ in total income are risk averse and are playing it safe with their finances. \n",
    "\n",
    "The least likely group to not pay their debt is the <60k range. Being the smallest income group, I imagine they are also playing it safe with the amount they have. "
   ]
  },
  {
   "cell_type": "markdown",
   "metadata": {},
   "source": [
    "- How do different loan purposes affect on-time repayment of the loan?"
   ]
  },
  {
   "cell_type": "code",
   "execution_count": 32,
   "metadata": {},
   "outputs": [
    {
     "data": {
      "text/html": [
       "<div>\n",
       "<style scoped>\n",
       "    .dataframe tbody tr th:only-of-type {\n",
       "        vertical-align: middle;\n",
       "    }\n",
       "\n",
       "    .dataframe tbody tr th {\n",
       "        vertical-align: top;\n",
       "    }\n",
       "\n",
       "    .dataframe thead th {\n",
       "        text-align: right;\n",
       "    }\n",
       "</style>\n",
       "<table border=\"1\" class=\"dataframe\">\n",
       "  <thead>\n",
       "    <tr style=\"text-align: right;\">\n",
       "      <th></th>\n",
       "      <th>count</th>\n",
       "      <th>mean</th>\n",
       "      <th>median</th>\n",
       "    </tr>\n",
       "    <tr>\n",
       "      <th>topic</th>\n",
       "      <th></th>\n",
       "      <th></th>\n",
       "      <th></th>\n",
       "    </tr>\n",
       "  </thead>\n",
       "  <tbody>\n",
       "    <tr>\n",
       "      <td>car</td>\n",
       "      <td>4315</td>\n",
       "      <td>0.093395</td>\n",
       "      <td>0</td>\n",
       "    </tr>\n",
       "    <tr>\n",
       "      <td>education</td>\n",
       "      <td>4022</td>\n",
       "      <td>0.091994</td>\n",
       "      <td>0</td>\n",
       "    </tr>\n",
       "    <tr>\n",
       "      <td>house</td>\n",
       "      <td>10840</td>\n",
       "      <td>0.072140</td>\n",
       "      <td>0</td>\n",
       "    </tr>\n",
       "    <tr>\n",
       "      <td>wedding</td>\n",
       "      <td>2348</td>\n",
       "      <td>0.079216</td>\n",
       "      <td>0</td>\n",
       "    </tr>\n",
       "  </tbody>\n",
       "</table>\n",
       "</div>"
      ],
      "text/plain": [
       "           count      mean  median\n",
       "topic                             \n",
       "car         4315  0.093395       0\n",
       "education   4022  0.091994       0\n",
       "house      10840  0.072140       0\n",
       "wedding     2348  0.079216       0"
      ]
     },
     "execution_count": 32,
     "metadata": {},
     "output_type": "execute_result"
    }
   ],
   "source": [
    "df.groupby('topic')['debt'].agg(['count', 'mean', 'median'])"
   ]
  },
  {
   "cell_type": "code",
   "execution_count": 33,
   "metadata": {},
   "outputs": [
    {
     "data": {
      "text/html": [
       "<div>\n",
       "<style scoped>\n",
       "    .dataframe tbody tr th:only-of-type {\n",
       "        vertical-align: middle;\n",
       "    }\n",
       "\n",
       "    .dataframe tbody tr th {\n",
       "        vertical-align: top;\n",
       "    }\n",
       "\n",
       "    .dataframe thead tr th {\n",
       "        text-align: left;\n",
       "    }\n",
       "\n",
       "    .dataframe thead tr:last-of-type th {\n",
       "        text-align: right;\n",
       "    }\n",
       "</style>\n",
       "<table border=\"1\" class=\"dataframe\">\n",
       "  <thead>\n",
       "    <tr>\n",
       "      <th></th>\n",
       "      <th colspan=\"5\" halign=\"left\">count</th>\n",
       "      <th colspan=\"5\" halign=\"left\">mean</th>\n",
       "    </tr>\n",
       "    <tr>\n",
       "      <th>income_group</th>\n",
       "      <th>LessThan100</th>\n",
       "      <th>LessThan150</th>\n",
       "      <th>LessThan200</th>\n",
       "      <th>LessThan60</th>\n",
       "      <th>MoreThan200</th>\n",
       "      <th>LessThan100</th>\n",
       "      <th>LessThan150</th>\n",
       "      <th>LessThan200</th>\n",
       "      <th>LessThan60</th>\n",
       "      <th>MoreThan200</th>\n",
       "    </tr>\n",
       "    <tr>\n",
       "      <th>topic</th>\n",
       "      <th></th>\n",
       "      <th></th>\n",
       "      <th></th>\n",
       "      <th></th>\n",
       "      <th></th>\n",
       "      <th></th>\n",
       "      <th></th>\n",
       "      <th></th>\n",
       "      <th></th>\n",
       "      <th></th>\n",
       "    </tr>\n",
       "  </thead>\n",
       "  <tbody>\n",
       "    <tr>\n",
       "      <td>car</td>\n",
       "      <td>700</td>\n",
       "      <td>497</td>\n",
       "      <td>1921</td>\n",
       "      <td>164</td>\n",
       "      <td>1033</td>\n",
       "      <td>0.078571</td>\n",
       "      <td>0.104628</td>\n",
       "      <td>0.100469</td>\n",
       "      <td>0.103659</td>\n",
       "      <td>0.083253</td>\n",
       "    </tr>\n",
       "    <tr>\n",
       "      <td>education</td>\n",
       "      <td>695</td>\n",
       "      <td>451</td>\n",
       "      <td>1821</td>\n",
       "      <td>154</td>\n",
       "      <td>901</td>\n",
       "      <td>0.107914</td>\n",
       "      <td>0.101996</td>\n",
       "      <td>0.094454</td>\n",
       "      <td>0.038961</td>\n",
       "      <td>0.078801</td>\n",
       "    </tr>\n",
       "    <tr>\n",
       "      <td>house</td>\n",
       "      <td>1848</td>\n",
       "      <td>1152</td>\n",
       "      <td>4841</td>\n",
       "      <td>414</td>\n",
       "      <td>2585</td>\n",
       "      <td>0.072511</td>\n",
       "      <td>0.065104</td>\n",
       "      <td>0.077876</td>\n",
       "      <td>0.055556</td>\n",
       "      <td>0.066925</td>\n",
       "    </tr>\n",
       "    <tr>\n",
       "      <td>wedding</td>\n",
       "      <td>414</td>\n",
       "      <td>282</td>\n",
       "      <td>1031</td>\n",
       "      <td>74</td>\n",
       "      <td>547</td>\n",
       "      <td>0.099034</td>\n",
       "      <td>0.085106</td>\n",
       "      <td>0.087294</td>\n",
       "      <td>0.040541</td>\n",
       "      <td>0.051188</td>\n",
       "    </tr>\n",
       "  </tbody>\n",
       "</table>\n",
       "</div>"
      ],
      "text/plain": [
       "                   count                                                 \\\n",
       "income_group LessThan100 LessThan150 LessThan200 LessThan60 MoreThan200   \n",
       "topic                                                                     \n",
       "car                  700         497        1921        164        1033   \n",
       "education            695         451        1821        154         901   \n",
       "house               1848        1152        4841        414        2585   \n",
       "wedding              414         282        1031         74         547   \n",
       "\n",
       "                    mean                                                 \n",
       "income_group LessThan100 LessThan150 LessThan200 LessThan60 MoreThan200  \n",
       "topic                                                                    \n",
       "car             0.078571    0.104628    0.100469   0.103659    0.083253  \n",
       "education       0.107914    0.101996    0.094454   0.038961    0.078801  \n",
       "house           0.072511    0.065104    0.077876   0.055556    0.066925  \n",
       "wedding         0.099034    0.085106    0.087294   0.040541    0.051188  "
      ]
     },
     "execution_count": 33,
     "metadata": {},
     "output_type": "execute_result"
    }
   ],
   "source": [
    "df.pivot_table(index = 'topic', columns = 'income_group', values = 'debt', aggfunc = ['count','mean'])"
   ]
  },
  {
   "cell_type": "markdown",
   "metadata": {},
   "source": [
    "### Conclusion"
   ]
  },
  {
   "cell_type": "markdown",
   "metadata": {},
   "source": [
    "A loan purpose of a car has the highest likelihood to not pay back a loan on time. My guess is that it is a luxury and could be considered fisically irresponsible. \n",
    "Loan used for education has an average of 0.092 "
   ]
  },
  {
   "cell_type": "code",
   "execution_count": 34,
   "metadata": {},
   "outputs": [],
   "source": [
    "#Reference code\n",
    "#lemma \n",
    "#     for row in df['purpose']:\n",
    "#         words = nltk.word_tokenize(row)\n",
    "#         for word in words:\n",
    "#             purpose_lemmas.append(lemmatizer.lemmatize(word))"
   ]
  }
 ],
 "metadata": {
  "kernelspec": {
   "display_name": "Python 3",
   "language": "python",
   "name": "python3"
  },
  "language_info": {
   "codemirror_mode": {
    "name": "ipython",
    "version": 3
   },
   "file_extension": ".py",
   "mimetype": "text/x-python",
   "name": "python",
   "nbconvert_exporter": "python",
   "pygments_lexer": "ipython3",
   "version": "3.7.6"
  }
 },
 "nbformat": 4,
 "nbformat_minor": 2
}
