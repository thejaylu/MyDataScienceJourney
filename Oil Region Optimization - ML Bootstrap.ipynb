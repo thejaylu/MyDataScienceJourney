{
 "cells": [
  {
   "cell_type": "markdown",
   "metadata": {},
   "source": [
    "# Background\n",
    "\n",
    "Data provided is on oil samples from three regions. A model will need to be built that will help pick the region with the highest profit margin by predicting the volume of reserves in the new wells and applying the monetary value with it. \n",
    "\n",
    "The meaning of the model's features are unimportant, but understanding the output and the relevance to business profit is necessary. Potential profit and risks will need to be analyzed as well. \n",
    "\n",
    "### Background: Business Details \n",
    "- When exploring the region, a study of 500 points is carried with picking the best 200 points for the profit calculation.\n",
    "- The budget for development of 200 oil wells is 100 million USD.\n",
    "- One barrel of raw materials brings 4.5 USD of revenue \n",
    "- The revenue from one unit of product is 4,500 USD (volume of reserves is in thousand barrels)."
   ]
  },
  {
   "cell_type": "markdown",
   "metadata": {},
   "source": [
    "# Preparing the Data"
   ]
  },
  {
   "cell_type": "code",
   "execution_count": 1,
   "metadata": {},
   "outputs": [],
   "source": [
    "import pandas as pd \n",
    "import numpy as np \n",
    "from sklearn.model_selection import train_test_split\n",
    "from sklearn.preprocessing import StandardScaler\n",
    "from sklearn.linear_model import LinearRegression\n",
    "from sklearn.metrics import mean_squared_error \n",
    "\n",
    "df0 = pd.read_csv('geo_data_0.csv')\n",
    "df1 = pd.read_csv('geo_data_1.csv')\n",
    "df2 = pd.read_csv('geo_data_2.csv')"
   ]
  },
  {
   "cell_type": "markdown",
   "metadata": {},
   "source": [
    "There are 3 regions that will be analyzed here, each denoted by a different dataframe"
   ]
  },
  {
   "cell_type": "code",
   "execution_count": 2,
   "metadata": {
    "scrolled": true
   },
   "outputs": [
    {
     "name": "stdout",
     "output_type": "stream",
     "text": [
      "<class 'pandas.core.frame.DataFrame'>\n",
      "RangeIndex: 100000 entries, 0 to 99999\n",
      "Data columns (total 5 columns):\n",
      "id         100000 non-null object\n",
      "f0         100000 non-null float64\n",
      "f1         100000 non-null float64\n",
      "f2         100000 non-null float64\n",
      "product    100000 non-null float64\n",
      "dtypes: float64(4), object(1)\n",
      "memory usage: 3.8+ MB\n",
      "\n",
      "<class 'pandas.core.frame.DataFrame'>\n",
      "RangeIndex: 100000 entries, 0 to 99999\n",
      "Data columns (total 5 columns):\n",
      "id         100000 non-null object\n",
      "f0         100000 non-null float64\n",
      "f1         100000 non-null float64\n",
      "f2         100000 non-null float64\n",
      "product    100000 non-null float64\n",
      "dtypes: float64(4), object(1)\n",
      "memory usage: 3.8+ MB\n",
      "\n",
      "<class 'pandas.core.frame.DataFrame'>\n",
      "RangeIndex: 100000 entries, 0 to 99999\n",
      "Data columns (total 5 columns):\n",
      "id         100000 non-null object\n",
      "f0         100000 non-null float64\n",
      "f1         100000 non-null float64\n",
      "f2         100000 non-null float64\n",
      "product    100000 non-null float64\n",
      "dtypes: float64(4), object(1)\n",
      "memory usage: 3.8+ MB\n",
      "\n"
     ]
    }
   ],
   "source": [
    "df0.info(); print()\n",
    "df1.info(); print()\n",
    "df2.info(); print()"
   ]
  },
  {
   "cell_type": "code",
   "execution_count": 2,
   "metadata": {},
   "outputs": [
    {
     "data": {
      "text/html": [
       "<div>\n",
       "<style scoped>\n",
       "    .dataframe tbody tr th:only-of-type {\n",
       "        vertical-align: middle;\n",
       "    }\n",
       "\n",
       "    .dataframe tbody tr th {\n",
       "        vertical-align: top;\n",
       "    }\n",
       "\n",
       "    .dataframe thead th {\n",
       "        text-align: right;\n",
       "    }\n",
       "</style>\n",
       "<table border=\"1\" class=\"dataframe\">\n",
       "  <thead>\n",
       "    <tr style=\"text-align: right;\">\n",
       "      <th></th>\n",
       "      <th>id</th>\n",
       "      <th>f0</th>\n",
       "      <th>f1</th>\n",
       "      <th>f2</th>\n",
       "      <th>product</th>\n",
       "    </tr>\n",
       "  </thead>\n",
       "  <tbody>\n",
       "    <tr>\n",
       "      <th>0</th>\n",
       "      <td>txEyH</td>\n",
       "      <td>0.705745</td>\n",
       "      <td>-0.497823</td>\n",
       "      <td>1.22117</td>\n",
       "      <td>105.280062</td>\n",
       "    </tr>\n",
       "    <tr>\n",
       "      <th>1</th>\n",
       "      <td>2acmU</td>\n",
       "      <td>1.334711</td>\n",
       "      <td>-0.340164</td>\n",
       "      <td>4.36508</td>\n",
       "      <td>73.037750</td>\n",
       "    </tr>\n",
       "  </tbody>\n",
       "</table>\n",
       "</div>"
      ],
      "text/plain": [
       "      id        f0        f1       f2     product\n",
       "0  txEyH  0.705745 -0.497823  1.22117  105.280062\n",
       "1  2acmU  1.334711 -0.340164  4.36508   73.037750"
      ]
     },
     "execution_count": 2,
     "metadata": {},
     "output_type": "execute_result"
    }
   ],
   "source": [
    "df0.head(2)"
   ]
  },
  {
   "cell_type": "code",
   "execution_count": 27,
   "metadata": {},
   "outputs": [
    {
     "data": {
      "image/png": "[encoded data removed]",
      "text/plain": [
       "<Figure size 432x288 with 1 Axes>"
      ]
     },
     "metadata": {
      "needs_background": "light"
     },
     "output_type": "display_data"
    }
   ],
   "source": [
    "import matplotlib.pyplot as plt\n",
    "import seaborn as sns \n",
    "\n",
    "df0_p = pd.DataFrame(df0['product']).assign(Region=0)\n",
    "df1_p = pd.DataFrame(df1['product']).assign(Region=1)\n",
    "df2_p = pd.DataFrame(df2['product']).assign(Region=2)\n",
    "cdf = pd.concat([df0_p, df1_p, df2_p])      # CONCATENATE\n",
    "mdf = pd.melt(cdf, id_vars=['Region'])      # MELT\n",
    "\n",
    "ax = sns.boxplot(x=\"Region\", y=\"value\", data=mdf).set_title(\"Product distribution for Regions 0,1,2\")  # RUN PLOT   \n",
    "plt.show()\n",
    "\n",
    "plt.clf()\n",
    "plt.close()"
   ]
  },
  {
   "cell_type": "markdown",
   "metadata": {},
   "source": [
    "We see that Region 1 has the largest difference between the mean and the median, which is an indicator of skewed distribution or outliers. I don't think this difference is extremely significant and will move forward. The other dataframes have low mean and median differences."
   ]
  },
  {
   "cell_type": "markdown",
   "metadata": {},
   "source": [
    "# Training and Testing the Model"
   ]
  },
  {
   "cell_type": "markdown",
   "metadata": {},
   "source": [
    "### Linear Regression: Region 0"
   ]
  },
  {
   "cell_type": "code",
   "execution_count": 5,
   "metadata": {},
   "outputs": [],
   "source": [
    "features0 = df0.drop(['id','product'],axis=1) #dropping id because unique identifiers do not help model accuracy \n",
    "target0 = df0['product']\n",
    "\n",
    "features0_train, features0_valid, target0_train, target0_valid = train_test_split(features0, target0, \n",
    "                                                                              test_size=0.25, random_state=12345) \n",
    "scaler = StandardScaler()\n",
    "scaler.fit(features0_train)\n",
    "features0_train = scaler.transform(features0_train)\n",
    "features0_valid = scaler.transform(features0_valid)"
   ]
  },
  {
   "cell_type": "code",
   "execution_count": 6,
   "metadata": {},
   "outputs": [
    {
     "data": {
      "text/plain": [
       "0.27994321524487786"
      ]
     },
     "execution_count": 6,
     "metadata": {},
     "output_type": "execute_result"
    }
   ],
   "source": [
    "model0 = LinearRegression(normalize=True)\n",
    "model0.fit(features0_train, target0_train)\n",
    "model0.score(features0_valid, target0_valid)"
   ]
  },
  {
   "cell_type": "markdown",
   "metadata": {},
   "source": [
    "It seems that scaling did not improve the accuracy of this model. Truthfully, the model does not score well, and I'm not sure how to improve my predicted values here. "
   ]
  },
  {
   "cell_type": "code",
   "execution_count": 7,
   "metadata": {},
   "outputs": [
    {
     "name": "stdout",
     "output_type": "stream",
     "text": [
      "Average volume of predicted reserves: 92.593 thousand barrels\n",
      "rmse: 37.579\n"
     ]
    }
   ],
   "source": [
    "predictions0 =  model0.predict(features0_valid)\n",
    "predictions0 = pd.Series(predictions0, index=target0_valid.index)\n",
    "mse0 = mean_squared_error(target0_valid, predictions0)\n",
    "print('Average volume of predicted reserves:',round(np.mean(predictions0),3), 'thousand barrels')\n",
    "print('rmse:',round(mse0**0.5,3))"
   ]
  },
  {
   "cell_type": "markdown",
   "metadata": {},
   "source": [
    "The average predicted reserves is pretty high at 92 barrels, but the rmse is also high which makes sense because the model accuracy is low. I would be cautious when using these numbers. "
   ]
  },
  {
   "cell_type": "markdown",
   "metadata": {},
   "source": [
    "### Linear Regression: Region 1"
   ]
  },
  {
   "cell_type": "code",
   "execution_count": 8,
   "metadata": {},
   "outputs": [],
   "source": [
    "features1 = df1.drop(['id','product'],axis=1) \n",
    "target1 = df1['product']\n",
    "\n",
    "features1_train, features1_valid, target1_train, target1_valid = train_test_split(features1, target1, \n",
    "                                                                              test_size=0.25, random_state=12345) \n",
    "scaler = StandardScaler()\n",
    "scaler.fit(features1_train)\n",
    "features1_train = scaler.transform(features1_train)\n",
    "features1_valid = scaler.transform(features1_valid)"
   ]
  },
  {
   "cell_type": "code",
   "execution_count": 9,
   "metadata": {},
   "outputs": [
    {
     "data": {
      "text/plain": [
       "0.9996233978805126"
      ]
     },
     "execution_count": 9,
     "metadata": {},
     "output_type": "execute_result"
    }
   ],
   "source": [
    "model1 = LinearRegression(normalize=True)\n",
    "model1.fit(features1_train, target1_train)\n",
    "model1.score(features1_valid, target1_valid)"
   ]
  },
  {
   "cell_type": "code",
   "execution_count": 10,
   "metadata": {},
   "outputs": [
    {
     "name": "stdout",
     "output_type": "stream",
     "text": [
      "Average volume of predicted reserves: 68.729 thousand barrels\n",
      "rmse: 0.893\n"
     ]
    }
   ],
   "source": [
    "predictions1 = model1.predict(features1_valid)\n",
    "predictions1 = pd.Series(predictions1, index=target0_valid.index)\n",
    "mse1 = mean_squared_error(target1_valid, predictions1)\n",
    "print('Average volume of predicted reserves:',round(np.mean(predictions1),3), 'thousand barrels')\n",
    "print('rmse:',round(mse1**0.5,3))"
   ]
  },
  {
   "cell_type": "markdown",
   "metadata": {},
   "source": [
    "The accuracy of this model is extremely high which is also rewarded with a very small rmse. While the average predicted reserves is smaller than Region 0 and Region 2 below, I am more confident that these numbers predict the product generated in each region."
   ]
  },
  {
   "cell_type": "markdown",
   "metadata": {},
   "source": [
    "### Linear Regression: Region 2"
   ]
  },
  {
   "cell_type": "code",
   "execution_count": 11,
   "metadata": {},
   "outputs": [],
   "source": [
    "features2 = df2.drop(['id','product'],axis=1) \n",
    "target2 = df2['product']\n",
    "\n",
    "features2_train, features2_valid, target2_train, target2_valid = train_test_split(features2, target2, \n",
    "                                                                              test_size=0.25, random_state=12345) \n",
    "scaler = StandardScaler()\n",
    "scaler.fit(features2_train)\n",
    "features2_train = scaler.transform(features2_train)\n",
    "features2_valid = scaler.transform(features2_valid)"
   ]
  },
  {
   "cell_type": "code",
   "execution_count": 12,
   "metadata": {},
   "outputs": [
    {
     "data": {
      "text/plain": [
       "0.20524758386040443"
      ]
     },
     "execution_count": 12,
     "metadata": {},
     "output_type": "execute_result"
    }
   ],
   "source": [
    "model2 = LinearRegression()\n",
    "model2.fit(features2_train, target2_train)\n",
    "model2.score(features2_valid, target2_valid)"
   ]
  },
  {
   "cell_type": "code",
   "execution_count": 13,
   "metadata": {},
   "outputs": [
    {
     "name": "stdout",
     "output_type": "stream",
     "text": [
      "Average volume of predicted reserves: 94.965 thousand barrels\n",
      "rmse: 40.03\n"
     ]
    }
   ],
   "source": [
    "predictions2 = model2.predict(features2_valid)\n",
    "predictions2 = pd.Series(predictions2, index=target0_valid.index)\n",
    "mse2 = mean_squared_error(target2_valid, predictions2)\n",
    "print('Average volume of predicted reserves:',round(np.mean(predictions2),3), 'thousand barrels')\n",
    "print('rmse:',round(mse2**0.5,3))"
   ]
  },
  {
   "cell_type": "markdown",
   "metadata": {},
   "source": [
    "Very similar to Region 0, the accuracy of the model performs very poorly which explains the poor rmse value as well. The average volume is high, but should be careful to trust it."
   ]
  },
  {
   "cell_type": "markdown",
   "metadata": {},
   "source": [
    "# Profit Calculation"
   ]
  },
  {
   "cell_type": "markdown",
   "metadata": {},
   "source": [
    "Revenue per unit * Number of units per well * Number of wells = 100000000\n",
    "\n",
    "x = 100000000 / (Revenue per unit * Number of wells)"
   ]
  },
  {
   "cell_type": "code",
   "execution_count": 14,
   "metadata": {},
   "outputs": [
    {
     "name": "stdout",
     "output_type": "stream",
     "text": [
      "Minimum volume of reserves (thousand barrels) in each well per 200 wells needed to break even 111.11111111111111\n",
      "Region 0: Average volume of predicted reserves: 92.5 thousand barrels\n",
      "Region 1: Average volume of predicted reserves: 68.825 thousand barrels\n",
      "Region 2: Average volume of predicted reserves: 95.0 thousand barrels\n"
     ]
    }
   ],
   "source": [
    "WELLCOUNT = 200 \n",
    "TOP200_BUDGET = 100000000\n",
    "UNIT_REV = 4500 \n",
    "\n",
    "x = TOP200_BUDGET / (UNIT_REV * WELLCOUNT)\n",
    "print('Minimum volume of reserves (thousand barrels) in each well per 200 wells needed to break even',x)\n",
    "print('Region 0: Average volume of predicted reserves:',round(np.mean(df0['product']),3), 'thousand barrels')\n",
    "print('Region 1: Average volume of predicted reserves:',round(np.mean(df1['product']),3), 'thousand barrels')\n",
    "print('Region 2: Average volume of predicted reserves:',round(np.mean(df2['product']),3), 'thousand barrels')"
   ]
  },
  {
   "cell_type": "markdown",
   "metadata": {},
   "source": [
    "Using some simple math, we can see that the minimum average produced product needed to break even for 200 wells is 111. This is performed by dividing the budget for 200 wells (10 million USD) by both the unit revenue per product (4500 USD) and the count of wells (200).\n",
    "\n",
    "When you take the average of all 10000 wells for each region, we get average product of 92.5, 68.825, and 95 for each region respectively. These region averages are below the minimum averagre which makes it seem not possible to become profitable."
   ]
  },
  {
   "cell_type": "code",
   "execution_count": 15,
   "metadata": {},
   "outputs": [
    {
     "name": "stdout",
     "output_type": "stream",
     "text": [
      "Region 0: Average volume of predicted reserves: 184.834 thousand barrels\n",
      "Region 1: Average volume of predicted reserves: 137.945 thousand barrels\n",
      "Region 2: Average volume of predicted reserves: 189.551 thousand barrels\n"
     ]
    }
   ],
   "source": [
    "df0_200 = df0.sort_values('product',ascending=False).head(200)\n",
    "df1_200 = df1.sort_values('product',ascending=False).head(200)\n",
    "df2_200 = df2.sort_values('product',ascending=False).head(200)\n",
    "print('Region 0: Average volume of predicted reserves:',round(np.mean(df0_200['product']),3), 'thousand barrels')\n",
    "print('Region 1: Average volume of predicted reserves:',round(np.mean(df1_200['product']),3), 'thousand barrels')\n",
    "print('Region 2: Average volume of predicted reserves:',round(np.mean(df2_200['product']),3), 'thousand barrels')"
   ]
  },
  {
   "cell_type": "markdown",
   "metadata": {},
   "source": [
    "When you consider only the top 200 wells in each region, you can see that is actually quite possible for each region to meet well above the threshold of 111.11 wells and become profitable."
   ]
  },
  {
   "cell_type": "markdown",
   "metadata": {},
   "source": [
    "# Calculating profit from a set of selected oil wells and model predictions:"
   ]
  },
  {
   "cell_type": "markdown",
   "metadata": {},
   "source": [
    "### Model Prediction Profit: Region 0"
   ]
  },
  {
   "cell_type": "code",
   "execution_count": 16,
   "metadata": {},
   "outputs": [],
   "source": [
    "predictions0_top200 = predictions0.sort_values(ascending=False).head(200)\n",
    "p0_top200_total = predictions0_top200.sum()"
   ]
  },
  {
   "cell_type": "code",
   "execution_count": 17,
   "metadata": {},
   "outputs": [
    {
     "name": "stdout",
     "output_type": "stream",
     "text": [
      "Total product in the top 200 wells of Region 0: 31102.33083881141\n",
      "Expected profit from 200 wells in Region 0: 39960488.77 USD\n"
     ]
    }
   ],
   "source": [
    "print('Total product in the top 200 wells of Region 0:', p0_top200_total)\n",
    "print('Expected profit from 200 wells in Region 0:',round(p0_top200_total * UNIT_REV - TOP200_BUDGET,2),'USD')"
   ]
  },
  {
   "cell_type": "markdown",
   "metadata": {},
   "source": [
    "### Model Prediction Profit: Region 1 "
   ]
  },
  {
   "cell_type": "code",
   "execution_count": 18,
   "metadata": {},
   "outputs": [],
   "source": [
    "predictions1_top200 = predictions1.sort_values(ascending=False).head(200)\n",
    "p1_top200_total = predictions1_top200.sum()"
   ]
  },
  {
   "cell_type": "code",
   "execution_count": 19,
   "metadata": {},
   "outputs": [
    {
     "name": "stdout",
     "output_type": "stream",
     "text": [
      "Total product in the top 200 wells of Region 1: 27746.02678216343\n",
      "Expected profit from 200 wells in Region 1: 24857120.52 USD\n"
     ]
    }
   ],
   "source": [
    "print('Total product in the top 200 wells of Region 1:', p1_top200_total)\n",
    "print('Expected profit from 200 wells in Region 1:',round(p1_top200_total * UNIT_REV - TOP200_BUDGET,2),'USD')"
   ]
  },
  {
   "cell_type": "markdown",
   "metadata": {},
   "source": [
    "### Model Prediction Profit: Region 2"
   ]
  },
  {
   "cell_type": "code",
   "execution_count": 20,
   "metadata": {},
   "outputs": [],
   "source": [
    "predictions2_top200 = predictions2.sort_values(ascending=False).head(200)\n",
    "p2_top200_total = predictions2_top200.sum()"
   ]
  },
  {
   "cell_type": "code",
   "execution_count": 21,
   "metadata": {},
   "outputs": [
    {
     "name": "stdout",
     "output_type": "stream",
     "text": [
      "Total product in the top 200 wells of Region 2: 29603.89865831835\n",
      "Expected profit from 200 wells in Region 2: 33217543.96 USD\n"
     ]
    }
   ],
   "source": [
    "print('Total product in the top 200 wells of Region 2:', p2_top200_total)\n",
    "print('Expected profit from 200 wells in Region 2:',round(p2_top200_total * UNIT_REV - TOP200_BUDGET,2),'USD')"
   ]
  },
  {
   "cell_type": "markdown",
   "metadata": {},
   "source": [
    "Observing total reserves of the top 200 product producing wells from our linear regression predictions, we can see that Region 0 produced the greatest number of product and thus produced the greatest amount of profit. Looking at this information, I would recommend Region 0 for well development because of the bountiful wells that our model predicted. Of course, this is based off our predicted model which obtained poor accuracy which needs to be kept in mind."
   ]
  },
  {
   "cell_type": "markdown",
   "metadata": {},
   "source": [
    "# Bootstrapping"
   ]
  },
  {
   "cell_type": "markdown",
   "metadata": {},
   "source": [
    "The bootstrap resampling method will be used here obtain better summary statistics on each region. An explanation of the bootstrap process is found at the end of the notebook.\n",
    "\n",
    "The profit function will find the top 200 predicted values and provide the respective real samples based on the predicted index. With these real samples from the original dataframe, these 200 samples are summed and multiplied by the revenue generated from these wells, then subtracted by the budget to provide the profit. This profit is a single data point within the looped resampling for this region."
   ]
  },
  {
   "cell_type": "code",
   "execution_count": 22,
   "metadata": {},
   "outputs": [],
   "source": [
    "def profit(real, predicted, count):\n",
    "    unit_sorted = predicted.sort_values(ascending=False)\n",
    "    selected = real[unit_sorted.index][:count]\n",
    "    return (UNIT_REV * selected.sum()) - (TOP200_BUDGET)"
   ]
  },
  {
   "cell_type": "markdown",
   "metadata": {},
   "source": [
    "### Bootstrap: Region 0"
   ]
  },
  {
   "cell_type": "code",
   "execution_count": 23,
   "metadata": {},
   "outputs": [
    {
     "name": "stdout",
     "output_type": "stream",
     "text": [
      "Average: 4259385.27 USD\n",
      "95% Confidence Interval:( -1020900.95 , 9479763.53 )\n",
      "Risk of loss: 6.0 %\n"
     ]
    }
   ],
   "source": [
    "state = np.random.RandomState(12345)\n",
    "distributionValues0 = []\n",
    "for i in range(1000):\n",
    "    real = target0_valid.sample(n=500, replace=True, random_state=state)\n",
    "    pred = predictions0[real.index]\n",
    "    distributionValues0.append(profit(real, pred, 200))\n",
    "    \n",
    "distributionValues0 = pd.Series(distributionValues0)\n",
    "avgProfit0 = distributionValues0.mean()\n",
    "lower = distributionValues0.quantile(0.025)\n",
    "upper = distributionValues0.quantile(0.975)\n",
    "loss = (len(distributionValues0[distributionValues0 < 0]) / 1000) * 100\n",
    "\n",
    "print('Average:',round(avgProfit0,2),'USD')\n",
    "print('95% Confidence Interval:(',round(lower,2),',',round(upper,2),')')\n",
    "print('Risk of loss:', loss, '%')"
   ]
  },
  {
   "cell_type": "markdown",
   "metadata": {},
   "source": [
    "### Bootstrap: Region 1"
   ]
  },
  {
   "cell_type": "code",
   "execution_count": 24,
   "metadata": {},
   "outputs": [
    {
     "name": "stdout",
     "output_type": "stream",
     "text": [
      "Average: 5182594.94 USD\n",
      "95% Confidence Interval:( 1281232.31 , 9536129.82 )\n",
      "Risk of loss: 0.3 %\n"
     ]
    }
   ],
   "source": [
    "distributionValues1 = []\n",
    "for i in range(1000):\n",
    "    real = target1_valid.sample(n=500, replace=True, random_state=state)\n",
    "    pred = predictions1[real.index]\n",
    "    distributionValues1.append(profit(real, pred, 200))\n",
    "    \n",
    "distributionValues1 = pd.Series(distributionValues1)\n",
    "avgProfit1 = distributionValues1.mean()\n",
    "lower = distributionValues1.quantile(0.025)\n",
    "upper = distributionValues1.quantile(0.975)\n",
    "loss = (len(distributionValues1[distributionValues1 < 0]) / 1000) * 100\n",
    "\n",
    "print('Average:',round(avgProfit1,2),'USD')\n",
    "print('95% Confidence Interval:(',round(lower,2),',',round(upper,2),')')\n",
    "print('Risk of loss:', loss, '%')"
   ]
  },
  {
   "cell_type": "markdown",
   "metadata": {},
   "source": [
    "### Bootstrap: Region 2"
   ]
  },
  {
   "cell_type": "code",
   "execution_count": 25,
   "metadata": {},
   "outputs": [
    {
     "name": "stdout",
     "output_type": "stream",
     "text": [
      "Average: 4201940.05 USD\n",
      "95% Confidence Interval:( -1158526.09 , 9896299.4 )\n",
      "Risk of loss: 6.2 %\n"
     ]
    }
   ],
   "source": [
    "distributionValues2 = []\n",
    "for i in range(1000):\n",
    "    real = target2_valid.sample(n=500, replace=True, random_state=state)\n",
    "    pred = predictions2[real.index]\n",
    "    distributionValues2.append(profit(real, pred, 200))\n",
    "    \n",
    "distributionValues2 = pd.Series(distributionValues2)\n",
    "avgProfit2 = distributionValues2.mean()\n",
    "lower = distributionValues2.quantile(0.025)\n",
    "upper = distributionValues2.quantile(0.975)\n",
    "loss = (len(distributionValues2[distributionValues2 < 0]) / 1000) * 100\n",
    "\n",
    "print('Average:',round(avgProfit2,2),'USD')\n",
    "print('95% Confidence Interval:(',round(lower,2),',',round(upper,2),')')\n",
    "print('Risk of loss:', loss, '%')"
   ]
  },
  {
   "cell_type": "markdown",
   "metadata": {},
   "source": [
    "The bootstrapping process consists of randomly sampling 500 rows out of the original 100000 rows of that region; and those sampled items are matched with their respective predicted values from the linear regression model. The best 200 wells are then identified based on the highest predicted product. The actual product produced from these 200 wells are then used to provide the profit for this run. This process is then looped 1000 times. \n",
    "\n",
    "After using the bootstrapping technique, I would recommend Region 1 for development of oils wells. Compared to Region 0 and Region 2, Region 1 obtained the highest profit average and a purely positive 95% confidence interval. Region 1 also obtained a 0.3% risk of loss, making this region a reliable business decision for profit. \n",
    "\n",
    "This bootstrapping technique used here relies on the linear regression model to be accurate because these prediction values first determine the top 200 wells to be selected, which might not be genuine the best wells when looking at the real well product values. Because of this, region 0 and region 2 performed more poorly because they had model accuracy scores of about 20%, which is worse than a human randomly guessing. The model for Region 1 obtained a very high accuracy score for the validation set which allowed for reliable well selection in the bootstrapping process. "
   ]
  }
 ],
 "metadata": {
  "kernelspec": {
   "display_name": "Python 3",
   "language": "python",
   "name": "python3"
  },
  "language_info": {
   "codemirror_mode": {
    "name": "ipython",
    "version": 3
   },
   "file_extension": ".py",
   "mimetype": "text/x-python",
   "name": "python",
   "nbconvert_exporter": "python",
   "pygments_lexer": "ipython3",
   "version": "3.7.6"
  }
 },
 "nbformat": 4,
 "nbformat_minor": 2
}
