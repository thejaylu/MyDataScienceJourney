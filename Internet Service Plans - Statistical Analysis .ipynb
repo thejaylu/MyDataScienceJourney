{
 "cells": [
  {
   "cell_type": "markdown",
   "metadata": {},
   "source": [
    "# Internet Service Plans - Statistical Analysis "
   ]
  },
  {
   "cell_type": "markdown",
   "metadata": {},
   "source": [
    "The objective of this project is to determine which of the two telecommunication plans, surf and ultimate, are more profitable and need a reallocation of budgetting resources or plan details. After performing data preprocessing, some statistical analysis will be performed to analyze client behavior. "
   ]
  },
  {
   "cell_type": "code",
   "execution_count": 1,
   "metadata": {},
   "outputs": [],
   "source": [
    "import pandas as pd \n",
    "import numpy as np \n",
    "import math as mt \n",
    "calls = pd.read_csv('megaline_calls.csv') #datasets not provided because they are private property \n",
    "internet = pd.read_csv('megaline_internet.csv')\n",
    "messages = pd.read_csv('megaline_messages.csv')\n",
    "tariffs = pd.read_csv('megaline_plans.csv')\n",
    "users = pd.read_csv('megaline_users1.csv')"
   ]
  },
  {
   "cell_type": "code",
   "execution_count": 2,
   "metadata": {
    "scrolled": true
   },
   "outputs": [
    {
     "name": "stdout",
     "output_type": "stream",
     "text": [
      "<class 'pandas.core.frame.DataFrame'>\n",
      "RangeIndex: 137735 entries, 0 to 137734\n",
      "Data columns (total 4 columns):\n",
      " #   Column     Non-Null Count   Dtype  \n",
      "---  ------     --------------   -----  \n",
      " 0   id         137735 non-null  object \n",
      " 1   user_id    137735 non-null  int64  \n",
      " 2   call_date  137735 non-null  object \n",
      " 3   duration   137735 non-null  float64\n",
      "dtypes: float64(1), int64(1), object(2)\n",
      "memory usage: 4.2+ MB\n",
      "\n",
      "<class 'pandas.core.frame.DataFrame'>\n",
      "RangeIndex: 104825 entries, 0 to 104824\n",
      "Data columns (total 4 columns):\n",
      " #   Column        Non-Null Count   Dtype  \n",
      "---  ------        --------------   -----  \n",
      " 0   id            104825 non-null  object \n",
      " 1   user_id       104825 non-null  int64  \n",
      " 2   session_date  104825 non-null  object \n",
      " 3   mb_used       104825 non-null  float64\n",
      "dtypes: float64(1), int64(1), object(2)\n",
      "memory usage: 3.2+ MB\n",
      "\n",
      "<class 'pandas.core.frame.DataFrame'>\n",
      "RangeIndex: 76051 entries, 0 to 76050\n",
      "Data columns (total 3 columns):\n",
      " #   Column        Non-Null Count  Dtype \n",
      "---  ------        --------------  ----- \n",
      " 0   id            76051 non-null  object\n",
      " 1   user_id       76051 non-null  int64 \n",
      " 2   message_date  76051 non-null  object\n",
      "dtypes: int64(1), object(2)\n",
      "memory usage: 1.7+ MB\n",
      "\n",
      "<class 'pandas.core.frame.DataFrame'>\n",
      "RangeIndex: 2 entries, 0 to 1\n",
      "Data columns (total 8 columns):\n",
      " #   Column                 Non-Null Count  Dtype  \n",
      "---  ------                 --------------  -----  \n",
      " 0   messages_included      2 non-null      int64  \n",
      " 1   mb_per_month_included  2 non-null      int64  \n",
      " 2   minutes_included       2 non-null      int64  \n",
      " 3   usd_monthly_pay        2 non-null      int64  \n",
      " 4   usd_per_gb             2 non-null      int64  \n",
      " 5   usd_per_message        2 non-null      float64\n",
      " 6   usd_per_minute         2 non-null      float64\n",
      " 7   plan_name              2 non-null      object \n",
      "dtypes: float64(2), int64(5), object(1)\n",
      "memory usage: 256.0+ bytes\n",
      "\n",
      "<class 'pandas.core.frame.DataFrame'>\n",
      "RangeIndex: 500 entries, 0 to 499\n",
      "Data columns (total 8 columns):\n",
      " #   Column      Non-Null Count  Dtype \n",
      "---  ------      --------------  ----- \n",
      " 0   user_id     500 non-null    int64 \n",
      " 1   first_name  500 non-null    object\n",
      " 2   last_name   500 non-null    object\n",
      " 3   age         500 non-null    int64 \n",
      " 4   city        500 non-null    object\n",
      " 5   reg_date    500 non-null    object\n",
      " 6   plan        500 non-null    object\n",
      " 7   churn_date  34 non-null     object\n",
      "dtypes: int64(2), object(6)\n",
      "memory usage: 31.4+ KB\n",
      "\n"
     ]
    }
   ],
   "source": [
    "calls.info(); print()\n",
    "internet.info(); print()\n",
    "messages.info(); print()\n",
    "tariffs.info(); print()\n",
    "users.info(); print()"
   ]
  },
  {
   "cell_type": "markdown",
   "metadata": {},
   "source": [
    "In calls, internet, and messages, they do not have any inherent null values which makes the data cleaning slightly easier. The date columns are listed as objects (strings) instead of date_time dtypes so I will have to change that later. The count of rows for these three dataframes are different from each other so when I eventually combine them, they will generate some null values that will need to be remedied. \n",
    "\n",
    "The tariffs dataframe only contains 2 rows to describe the two different service plans. It does not seem to have any preprocessing errors.\n",
    "\n",
    "The users dataframe only contains 500 users, but only has 34 users who have discontinued their service."
   ]
  },
  {
   "cell_type": "markdown",
   "metadata": {},
   "source": [
    "# Preparing the data"
   ]
  },
  {
   "cell_type": "markdown",
   "metadata": {},
   "source": [
    "##### Preparing the data - calls "
   ]
  },
  {
   "cell_type": "code",
   "execution_count": 3,
   "metadata": {},
   "outputs": [],
   "source": [
    "calls['call_date'] = pd.to_datetime(calls['call_date'])\n",
    "#calls.loc[calls['duration'] == 0, 'duration'] = calls['duration'].median()\n",
    "# the project description was updated to let me decide how I want to pre-process calls with 0 minutes\n",
    "#I'll let calls include the zeroes, assuming that they were missed calls\n",
    "#The last section with statistical hypothesis will compare the median change compared to inclusion of 0 minutes \n",
    "\n",
    "calls['month'] = calls['call_date'].dt.month\n",
    "month_call_sum = calls.pivot_table(index = ['user_id', 'month'], aggfunc ='sum')\n",
    "month_call_sum.rename(columns = {'duration':'call_duration_sum'},inplace=True)\n",
    "month_call_count = calls.pivot_table(index = ['user_id', 'month'], values = 'duration',aggfunc ='count')\n",
    "month_call_count.rename(columns = {'duration':'call_count'},inplace=True)"
   ]
  },
  {
   "cell_type": "markdown",
   "metadata": {},
   "source": [
    "- Date was converted from an object to date_time dtype\n",
    "- Call durations that were 0 were converted to the median of the entire duration column. It does not make sense for an entry to be generated and it to be 0 minutes long.\n",
    "- Pivot tables that aggregated the call duration sum and call count were created to be used in the master dataframe"
   ]
  },
  {
   "cell_type": "markdown",
   "metadata": {},
   "source": [
    "#####  Preparing the data - internet "
   ]
  },
  {
   "cell_type": "code",
   "execution_count": 4,
   "metadata": {},
   "outputs": [],
   "source": [
    "internet['session_date'] = pd.to_datetime(internet['session_date'])\n",
    "internet.loc[internet['mb_used'] == 0, 'mb_used'] = internet['mb_used'].median()\n",
    "internet['month'] = internet['session_date'].dt.month\n",
    "month_internet_count = internet.pivot_table(index = ['user_id','month'], values = 'mb_used', aggfunc = 'count')\n",
    "month_internet_count.rename(columns = {'mb_used':'internet_session_count'}, inplace=True)\n",
    "month_internet_sum = internet.pivot_table(index = ['user_id','month'], aggfunc = 'sum')"
   ]
  },
  {
   "cell_type": "markdown",
   "metadata": {},
   "source": [
    "- Date was converted from an object to date_time dtype\n",
    "- Internet mb usage that were 0 were converted to the median of the entire mb usage column. It does not make sense for an entry to be generated and it to be 0 mb.\n",
    "- Pivot tables that aggreagated the mb usage and internet session counts were created to be used in the master dataframe"
   ]
  },
  {
   "cell_type": "markdown",
   "metadata": {},
   "source": [
    "#####  Preparing the data - messages"
   ]
  },
  {
   "cell_type": "code",
   "execution_count": 5,
   "metadata": {},
   "outputs": [],
   "source": [
    "messages.head()\n",
    "messages['message_date'] = pd.to_datetime(messages['message_date'])\n",
    "messages['month'] = messages['message_date'].dt.month\n",
    "month_messages_count = messages.pivot_table(index = ['user_id','month'], values = 'id', aggfunc = 'count')\n",
    "month_messages_count.rename(columns = {'id':'msg_count'},inplace = True)"
   ]
  },
  {
   "cell_type": "markdown",
   "metadata": {},
   "source": [
    "- Date was converted from an object to date_time dtype\n",
    "- Pivot table that aggreagated the the message count was created to be used in the master dataframe"
   ]
  },
  {
   "cell_type": "markdown",
   "metadata": {},
   "source": [
    "#####  Preparing the data - centralized dataframe"
   ]
  },
  {
   "cell_type": "code",
   "execution_count": 6,
   "metadata": {},
   "outputs": [],
   "source": [
    "df = pd.concat([month_call_count, month_call_sum, month_internet_count, month_internet_sum, month_messages_count], axis = 1)\n",
    "df[['msg_count']] = df[['msg_count']].fillna(0)\n",
    "df[['mb_used','internet_session_count']] = df[['mb_used','internet_session_count']].fillna(value=0)\n",
    "df[['call_count','call_duration_sum']] = df[['call_count','call_duration_sum']].fillna(value=0)\n",
    "df.reset_index(inplace=True)\n",
    "df = df.merge(users, on='user_id', how='left')"
   ]
  },
  {
   "cell_type": "markdown",
   "metadata": {},
   "source": [
    "After concatenating the various dataframes together, there were many null values that were generated because many users may have performed a call, but never used the internet before. This was predicted to happen when the number of rows was different from each dataframe. I believe it is safe to assume that this user did not use the service that is appearing as null since it did not originally appear in the original dataframe, so I replaced the value with zero instead. \n",
    "\n",
    "Now that I had necessary data based on user_id, I could left merge the user data to each row. It took me sometime to understand which of join/concat/merge options to use, but this path allowed me to keep my original data frame with the inclusion of user info. "
   ]
  },
  {
   "cell_type": "code",
   "execution_count": 7,
   "metadata": {},
   "outputs": [
    {
     "data": {
      "text/html": [
       "<div>\n",
       "<style scoped>\n",
       "    .dataframe tbody tr th:only-of-type {\n",
       "        vertical-align: middle;\n",
       "    }\n",
       "\n",
       "    .dataframe tbody tr th {\n",
       "        vertical-align: top;\n",
       "    }\n",
       "\n",
       "    .dataframe thead th {\n",
       "        text-align: right;\n",
       "    }\n",
       "</style>\n",
       "<table border=\"1\" class=\"dataframe\">\n",
       "  <thead>\n",
       "    <tr style=\"text-align: right;\">\n",
       "      <th></th>\n",
       "      <th>messages_included</th>\n",
       "      <th>mb_per_month_included</th>\n",
       "      <th>minutes_included</th>\n",
       "      <th>usd_monthly_pay</th>\n",
       "      <th>usd_per_gb</th>\n",
       "      <th>usd_per_message</th>\n",
       "      <th>usd_per_minute</th>\n",
       "      <th>plan_name</th>\n",
       "    </tr>\n",
       "  </thead>\n",
       "  <tbody>\n",
       "    <tr>\n",
       "      <th>0</th>\n",
       "      <td>50</td>\n",
       "      <td>15360</td>\n",
       "      <td>500</td>\n",
       "      <td>20</td>\n",
       "      <td>10</td>\n",
       "      <td>0.03</td>\n",
       "      <td>0.03</td>\n",
       "      <td>surf</td>\n",
       "    </tr>\n",
       "    <tr>\n",
       "      <th>1</th>\n",
       "      <td>1000</td>\n",
       "      <td>30720</td>\n",
       "      <td>3000</td>\n",
       "      <td>70</td>\n",
       "      <td>7</td>\n",
       "      <td>0.01</td>\n",
       "      <td>0.01</td>\n",
       "      <td>ultimate</td>\n",
       "    </tr>\n",
       "  </tbody>\n",
       "</table>\n",
       "</div>"
      ],
      "text/plain": [
       "   messages_included  mb_per_month_included  minutes_included  \\\n",
       "0                 50                  15360               500   \n",
       "1               1000                  30720              3000   \n",
       "\n",
       "   usd_monthly_pay  usd_per_gb  usd_per_message  usd_per_minute plan_name  \n",
       "0               20          10             0.03            0.03      surf  \n",
       "1               70           7             0.01            0.01  ultimate  "
      ]
     },
     "execution_count": 7,
     "metadata": {},
     "output_type": "execute_result"
    }
   ],
   "source": [
    "tariffs"
   ]
  },
  {
   "cell_type": "code",
   "execution_count": 8,
   "metadata": {},
   "outputs": [],
   "source": [
    "def find_monthly_profit(row):\n",
    "    profit = 0\n",
    "    if row['plan'] == 'surf':\n",
    "        profit += tariffs.loc[0]['usd_monthly_pay']\n",
    "        if mt.ceil(row['call_duration_sum']) > tariffs.loc[0]['minutes_included']: #call\n",
    "            call_overage = mt.ceil(row['call_duration_sum']) - tariffs.loc[0]['minutes_included']\n",
    "            profit += tariffs.loc[0]['usd_per_minute'] * call_overage\n",
    "        if mt.ceil(row['mb_used']) > tariffs.loc[0]['mb_per_month_included']: #internet \n",
    "            internet_overage = mt.ceil(row['mb_used']) - tariffs.loc[0]['mb_per_month_included']\n",
    "            profit += tariffs.loc[0]['usd_per_gb'] * (internet_overage / 1000)\n",
    "        if mt.ceil(row['msg_count']) > tariffs.loc[0]['messages_included']: #sms \n",
    "            sms_overage = mt.ceil(row['msg_count']) - tariffs.loc[0]['messages_included']\n",
    "            profit += tariffs.loc[0]['usd_per_message'] * sms_overage\n",
    "    elif row['plan'] == 'ultimate':\n",
    "        profit += tariffs.loc[1]['usd_monthly_pay']\n",
    "        if mt.ceil(row['call_duration_sum']) > tariffs.loc[1]['minutes_included']: #call\n",
    "            call_overage = mt.ceil(row['call_duration_sum']) - tariffs.loc[1]['minutes_included']\n",
    "            profit += tariffs.loc[1]['usd_per_minute'] * call_overage\n",
    "        if mt.ceil(row['mb_used']) > tariffs.loc[1]['mb_per_month_included']: #internet \n",
    "            internet_overage = mt.ceil(row['mb_used']) - tariffs.loc[1]['mb_per_month_included']\n",
    "            profit += tariffs.loc[1]['usd_per_gb'] * (internet_overage / 1000)\n",
    "        if mt.ceil(row['msg_count']) > tariffs.loc[1]['messages_included']: #sms \n",
    "            sms_overage = mt.ceil(row['msg_count']) - tariffs.loc[1]['messages_included']\n",
    "            profit += tariffs.loc[1]['usd_per_message'] * sms_overage\n",
    "    return profit \n",
    "df['monthly_profit'] = df.apply(find_monthly_profit, axis = 1)"
   ]
  },
  {
   "cell_type": "code",
   "execution_count": 9,
   "metadata": {},
   "outputs": [
    {
     "data": {
      "text/html": [
       "<div>\n",
       "<style scoped>\n",
       "    .dataframe tbody tr th:only-of-type {\n",
       "        vertical-align: middle;\n",
       "    }\n",
       "\n",
       "    .dataframe tbody tr th {\n",
       "        vertical-align: top;\n",
       "    }\n",
       "\n",
       "    .dataframe thead th {\n",
       "        text-align: right;\n",
       "    }\n",
       "</style>\n",
       "<table border=\"1\" class=\"dataframe\">\n",
       "  <thead>\n",
       "    <tr style=\"text-align: right;\">\n",
       "      <th></th>\n",
       "      <th>user_id</th>\n",
       "      <th>month</th>\n",
       "      <th>call_count</th>\n",
       "      <th>call_duration_sum</th>\n",
       "      <th>internet_session_count</th>\n",
       "      <th>mb_used</th>\n",
       "      <th>msg_count</th>\n",
       "      <th>first_name</th>\n",
       "      <th>last_name</th>\n",
       "      <th>age</th>\n",
       "      <th>city</th>\n",
       "      <th>reg_date</th>\n",
       "      <th>plan</th>\n",
       "      <th>churn_date</th>\n",
       "      <th>monthly_profit</th>\n",
       "    </tr>\n",
       "  </thead>\n",
       "  <tbody>\n",
       "    <tr>\n",
       "      <th>0</th>\n",
       "      <td>1000</td>\n",
       "      <td>12</td>\n",
       "      <td>16.0</td>\n",
       "      <td>116.83</td>\n",
       "      <td>5.0</td>\n",
       "      <td>2245.45</td>\n",
       "      <td>11.0</td>\n",
       "      <td>Anamaria</td>\n",
       "      <td>Bauer</td>\n",
       "      <td>45</td>\n",
       "      <td>Atlanta-Sandy Springs-Roswell, GA MSA</td>\n",
       "      <td>2018-12-24</td>\n",
       "      <td>ultimate</td>\n",
       "      <td>NaN</td>\n",
       "      <td>70.00</td>\n",
       "    </tr>\n",
       "    <tr>\n",
       "      <th>1</th>\n",
       "      <td>1001</td>\n",
       "      <td>8</td>\n",
       "      <td>27.0</td>\n",
       "      <td>171.14</td>\n",
       "      <td>25.0</td>\n",
       "      <td>8295.07</td>\n",
       "      <td>30.0</td>\n",
       "      <td>Mickey</td>\n",
       "      <td>Wilkerson</td>\n",
       "      <td>28</td>\n",
       "      <td>Seattle-Tacoma-Bellevue, WA MSA</td>\n",
       "      <td>2018-08-13</td>\n",
       "      <td>surf</td>\n",
       "      <td>NaN</td>\n",
       "      <td>20.00</td>\n",
       "    </tr>\n",
       "    <tr>\n",
       "      <th>2</th>\n",
       "      <td>1001</td>\n",
       "      <td>9</td>\n",
       "      <td>49.0</td>\n",
       "      <td>297.69</td>\n",
       "      <td>53.0</td>\n",
       "      <td>17786.56</td>\n",
       "      <td>44.0</td>\n",
       "      <td>Mickey</td>\n",
       "      <td>Wilkerson</td>\n",
       "      <td>28</td>\n",
       "      <td>Seattle-Tacoma-Bellevue, WA MSA</td>\n",
       "      <td>2018-08-13</td>\n",
       "      <td>surf</td>\n",
       "      <td>NaN</td>\n",
       "      <td>44.27</td>\n",
       "    </tr>\n",
       "  </tbody>\n",
       "</table>\n",
       "</div>"
      ],
      "text/plain": [
       "   user_id  month  call_count  call_duration_sum  internet_session_count  \\\n",
       "0     1000     12        16.0             116.83                     5.0   \n",
       "1     1001      8        27.0             171.14                    25.0   \n",
       "2     1001      9        49.0             297.69                    53.0   \n",
       "\n",
       "    mb_used  msg_count first_name  last_name  age  \\\n",
       "0   2245.45       11.0   Anamaria      Bauer   45   \n",
       "1   8295.07       30.0     Mickey  Wilkerson   28   \n",
       "2  17786.56       44.0     Mickey  Wilkerson   28   \n",
       "\n",
       "                                    city    reg_date      plan churn_date  \\\n",
       "0  Atlanta-Sandy Springs-Roswell, GA MSA  2018-12-24  ultimate        NaN   \n",
       "1        Seattle-Tacoma-Bellevue, WA MSA  2018-08-13      surf        NaN   \n",
       "2        Seattle-Tacoma-Bellevue, WA MSA  2018-08-13      surf        NaN   \n",
       "\n",
       "   monthly_profit  \n",
       "0           70.00  \n",
       "1           20.00  \n",
       "2           44.27  "
      ]
     },
     "execution_count": 9,
     "metadata": {},
     "output_type": "execute_result"
    }
   ],
   "source": [
    "df.head(3)"
   ]
  },
  {
   "cell_type": "markdown",
   "metadata": {},
   "source": [
    "With the user details included in df, I now knew which plan each customer had. I developed a functon that would take the difference of overage thresholds for call, internet, and sms in addition to the static plan cost. This was a fun part of the project to work on and I hope I did it right. "
   ]
  },
  {
   "cell_type": "markdown",
   "metadata": {},
   "source": [
    "# Analysis"
   ]
  },
  {
   "cell_type": "markdown",
   "metadata": {},
   "source": [
    "###  \"Surf\" members analysis "
   ]
  },
  {
   "cell_type": "code",
   "execution_count": 10,
   "metadata": {},
   "outputs": [
    {
     "data": {
      "text/html": [
       "<div>\n",
       "<style scoped>\n",
       "    .dataframe tbody tr th:only-of-type {\n",
       "        vertical-align: middle;\n",
       "    }\n",
       "\n",
       "    .dataframe tbody tr th {\n",
       "        vertical-align: top;\n",
       "    }\n",
       "\n",
       "    .dataframe thead th {\n",
       "        text-align: right;\n",
       "    }\n",
       "</style>\n",
       "<table border=\"1\" class=\"dataframe\">\n",
       "  <thead>\n",
       "    <tr style=\"text-align: right;\">\n",
       "      <th></th>\n",
       "      <th>call_duration_sum</th>\n",
       "      <th>mb_used</th>\n",
       "      <th>msg_count</th>\n",
       "    </tr>\n",
       "    <tr>\n",
       "      <th>month</th>\n",
       "      <th></th>\n",
       "      <th></th>\n",
       "      <th></th>\n",
       "    </tr>\n",
       "  </thead>\n",
       "  <tbody>\n",
       "    <tr>\n",
       "      <th>1</th>\n",
       "      <td>192.840</td>\n",
       "      <td>5562.820</td>\n",
       "      <td>10.5</td>\n",
       "    </tr>\n",
       "    <tr>\n",
       "      <th>2</th>\n",
       "      <td>240.660</td>\n",
       "      <td>14580.090</td>\n",
       "      <td>3.0</td>\n",
       "    </tr>\n",
       "    <tr>\n",
       "      <th>3</th>\n",
       "      <td>312.790</td>\n",
       "      <td>16787.310</td>\n",
       "      <td>7.0</td>\n",
       "    </tr>\n",
       "    <tr>\n",
       "      <th>4</th>\n",
       "      <td>320.120</td>\n",
       "      <td>13190.020</td>\n",
       "      <td>10.0</td>\n",
       "    </tr>\n",
       "    <tr>\n",
       "      <th>5</th>\n",
       "      <td>387.450</td>\n",
       "      <td>16547.470</td>\n",
       "      <td>15.0</td>\n",
       "    </tr>\n",
       "    <tr>\n",
       "      <th>6</th>\n",
       "      <td>400.280</td>\n",
       "      <td>18650.950</td>\n",
       "      <td>15.0</td>\n",
       "    </tr>\n",
       "    <tr>\n",
       "      <th>7</th>\n",
       "      <td>430.060</td>\n",
       "      <td>19403.280</td>\n",
       "      <td>20.0</td>\n",
       "    </tr>\n",
       "    <tr>\n",
       "      <th>8</th>\n",
       "      <td>367.110</td>\n",
       "      <td>19686.675</td>\n",
       "      <td>20.0</td>\n",
       "    </tr>\n",
       "    <tr>\n",
       "      <th>9</th>\n",
       "      <td>401.520</td>\n",
       "      <td>19404.760</td>\n",
       "      <td>22.5</td>\n",
       "    </tr>\n",
       "    <tr>\n",
       "      <th>10</th>\n",
       "      <td>407.590</td>\n",
       "      <td>20013.850</td>\n",
       "      <td>26.0</td>\n",
       "    </tr>\n",
       "    <tr>\n",
       "      <th>11</th>\n",
       "      <td>392.100</td>\n",
       "      <td>18910.520</td>\n",
       "      <td>27.0</td>\n",
       "    </tr>\n",
       "    <tr>\n",
       "      <th>12</th>\n",
       "      <td>424.385</td>\n",
       "      <td>20358.510</td>\n",
       "      <td>31.0</td>\n",
       "    </tr>\n",
       "  </tbody>\n",
       "</table>\n",
       "</div>"
      ],
      "text/plain": [
       "       call_duration_sum    mb_used  msg_count\n",
       "month                                         \n",
       "1                192.840   5562.820       10.5\n",
       "2                240.660  14580.090        3.0\n",
       "3                312.790  16787.310        7.0\n",
       "4                320.120  13190.020       10.0\n",
       "5                387.450  16547.470       15.0\n",
       "6                400.280  18650.950       15.0\n",
       "7                430.060  19403.280       20.0\n",
       "8                367.110  19686.675       20.0\n",
       "9                401.520  19404.760       22.5\n",
       "10               407.590  20013.850       26.0\n",
       "11               392.100  18910.520       27.0\n",
       "12               424.385  20358.510       31.0"
      ]
     },
     "execution_count": 10,
     "metadata": {},
     "output_type": "execute_result"
    }
   ],
   "source": [
    "df.query('plan == \"surf\"').pivot_table(index='month',values=['call_duration_sum','mb_used','msg_count'],aggfunc='median')"
   ]
  },
  {
   "cell_type": "code",
   "execution_count": 11,
   "metadata": {},
   "outputs": [
    {
     "data": {
      "image/png": "[encoded data removed]",
      "text/plain": [
       "<Figure size 1080x216 with 1 Axes>"
      ]
     },
     "metadata": {
      "needs_background": "light"
     },
     "output_type": "display_data"
    }
   ],
   "source": [
    "import matplotlib.pyplot as plt\n",
    "df.query('plan == \"surf\"').pivot_table(index='month',values='call_duration_sum',aggfunc='median').\\\n",
    "plot(title='Median Call Duration Per Month For \"Surf\" Members',kind='bar',figsize=(15,3))\n",
    "plt.xlabel('Month', fontsize=10); plt.xticks(rotation=0); plt.ylabel('Median Call Duration in Minutes', fontsize=10); plt.show()"
   ]
  },
  {
   "cell_type": "markdown",
   "metadata": {},
   "source": [
    "The median call duration for surf members per month appears to range from 230 - 500 minutes. \\\n",
    "This seems to be within the threshold of the package call limits so they are not paying additional fees from it. \\\n",
    "The first quarter of the year has the lowest duration of calls with them being under 400, but it is also important to note \\\n",
    "that these months have relatively low counts of data which makes it prone to skewing."
   ]
  },
  {
   "cell_type": "code",
   "execution_count": 12,
   "metadata": {},
   "outputs": [
    {
     "data": {
      "image/png": "[encoded data removed]",
      "text/plain": [
       "<Figure size 1080x216 with 1 Axes>"
      ]
     },
     "metadata": {
      "needs_background": "light"
     },
     "output_type": "display_data"
    }
   ],
   "source": [
    "df.query('plan == \"surf\"').pivot_table(index='month',values='mb_used',aggfunc='median').\\\n",
    "plot(title='Median Internet Usage Per Month For \"Surf\" Members',kind='bar',figsize=(15,3))\n",
    "plt.xlabel('Month', fontsize=10); plt.xticks(rotation=0); plt.ylabel('Median Internet Usage in Megabytes', fontsize=10) \n",
    "plt.show()"
   ]
  },
  {
   "cell_type": "markdown",
   "metadata": {},
   "source": [
    "The trends seem a bit similar to median call duration, but fluctuates more in the first quarter. \\\n",
    "The first quarter has low amount of internet usage but then ramps up to a consistent 17000 mb usage during the latter half \\\n",
    "of the year. It seems like many months go over the 15000 mb threshold which allows for profit opportunity."
   ]
  },
  {
   "cell_type": "code",
   "execution_count": 13,
   "metadata": {},
   "outputs": [
    {
     "data": {
      "image/png": "[encoded data removed]",
      "text/plain": [
       "<Figure size 1080x216 with 1 Axes>"
      ]
     },
     "metadata": {
      "needs_background": "light"
     },
     "output_type": "display_data"
    }
   ],
   "source": [
    "df.query('plan == \"surf\"').pivot_table(index='month',values='msg_count',aggfunc='median').\\\n",
    "plot(title='Median Message Count Per Month For \"Surf\" Members',kind='bar',figsize=(15,3))\n",
    "plt.xlabel('Month', fontsize=10); plt.xticks(rotation=0); plt.ylabel('Median SMS Message Count', fontsize=10); plt.show()"
   ]
  },
  {
   "cell_type": "markdown",
   "metadata": {},
   "source": [
    "There is a drastic change from the early months compared to the late months in terms of message counts. \n",
    "Again, there is a postive correlation of median message counts increasing from early to late months. \n",
    "None of these months have a median message count that is greater than the 50 count threshold for the plan"
   ]
  },
  {
   "cell_type": "code",
   "execution_count": 14,
   "metadata": {},
   "outputs": [
    {
     "data": {
      "text/html": [
       "<div>\n",
       "<style scoped>\n",
       "    .dataframe tbody tr th:only-of-type {\n",
       "        vertical-align: middle;\n",
       "    }\n",
       "\n",
       "    .dataframe tbody tr th {\n",
       "        vertical-align: top;\n",
       "    }\n",
       "\n",
       "    .dataframe thead th {\n",
       "        text-align: right;\n",
       "    }\n",
       "</style>\n",
       "<table border=\"1\" class=\"dataframe\">\n",
       "  <thead>\n",
       "    <tr style=\"text-align: right;\">\n",
       "      <th></th>\n",
       "      <th>call_duration_sum</th>\n",
       "      <th>mb_used</th>\n",
       "      <th>msg_count</th>\n",
       "    </tr>\n",
       "  </thead>\n",
       "  <tbody>\n",
       "    <tr>\n",
       "      <th>count</th>\n",
       "      <td>1573.000000</td>\n",
       "      <td>1573.000000</td>\n",
       "      <td>1573.000000</td>\n",
       "    </tr>\n",
       "    <tr>\n",
       "      <th>mean</th>\n",
       "      <td>404.762390</td>\n",
       "      <td>18637.252250</td>\n",
       "      <td>31.159568</td>\n",
       "    </tr>\n",
       "    <tr>\n",
       "      <th>std</th>\n",
       "      <td>221.664397</td>\n",
       "      <td>8583.964232</td>\n",
       "      <td>33.566717</td>\n",
       "    </tr>\n",
       "    <tr>\n",
       "      <th>min</th>\n",
       "      <td>0.000000</td>\n",
       "      <td>0.000000</td>\n",
       "      <td>0.000000</td>\n",
       "    </tr>\n",
       "    <tr>\n",
       "      <th>25%</th>\n",
       "      <td>255.470000</td>\n",
       "      <td>13883.130000</td>\n",
       "      <td>3.000000</td>\n",
       "    </tr>\n",
       "    <tr>\n",
       "      <th>50%</th>\n",
       "      <td>401.760000</td>\n",
       "      <td>19212.920000</td>\n",
       "      <td>24.000000</td>\n",
       "    </tr>\n",
       "    <tr>\n",
       "      <th>75%</th>\n",
       "      <td>543.680000</td>\n",
       "      <td>23602.200000</td>\n",
       "      <td>47.000000</td>\n",
       "    </tr>\n",
       "    <tr>\n",
       "      <th>max</th>\n",
       "      <td>1431.220000</td>\n",
       "      <td>74027.410000</td>\n",
       "      <td>266.000000</td>\n",
       "    </tr>\n",
       "  </tbody>\n",
       "</table>\n",
       "</div>"
      ],
      "text/plain": [
       "       call_duration_sum       mb_used    msg_count\n",
       "count        1573.000000   1573.000000  1573.000000\n",
       "mean          404.762390  18637.252250    31.159568\n",
       "std           221.664397   8583.964232    33.566717\n",
       "min             0.000000      0.000000     0.000000\n",
       "25%           255.470000  13883.130000     3.000000\n",
       "50%           401.760000  19212.920000    24.000000\n",
       "75%           543.680000  23602.200000    47.000000\n",
       "max          1431.220000  74027.410000   266.000000"
      ]
     },
     "execution_count": 14,
     "metadata": {},
     "output_type": "execute_result"
    }
   ],
   "source": [
    "df_surf = df.query('plan == \"surf\"')\n",
    "descri = pd.merge(df_surf['call_duration_sum'].describe(), df_surf['mb_used'].describe(), \n",
    "                  left_index=True, right_index=True, suffixes=('', '2'))\n",
    "pd.merge(descri, df_surf['msg_count'].describe(), left_index=True, right_index=True, suffixes=('', '2'))"
   ]
  },
  {
   "cell_type": "markdown",
   "metadata": {},
   "source": [
    "Above are tables that display the average and standard deviation for call duration, internet usage, and message count. The variation is not displayed within the .describe table, but it is just the square of the standard deviation so respectively, they are: 49135.10, 73684441.93, 1126.72 "
   ]
  },
  {
   "cell_type": "markdown",
   "metadata": {},
   "source": [
    "###  \"Ultimate\" members analysis "
   ]
  },
  {
   "cell_type": "code",
   "execution_count": 15,
   "metadata": {},
   "outputs": [
    {
     "data": {
      "text/html": [
       "<div>\n",
       "<style scoped>\n",
       "    .dataframe tbody tr th:only-of-type {\n",
       "        vertical-align: middle;\n",
       "    }\n",
       "\n",
       "    .dataframe tbody tr th {\n",
       "        vertical-align: top;\n",
       "    }\n",
       "\n",
       "    .dataframe thead th {\n",
       "        text-align: right;\n",
       "    }\n",
       "</style>\n",
       "<table border=\"1\" class=\"dataframe\">\n",
       "  <thead>\n",
       "    <tr style=\"text-align: right;\">\n",
       "      <th></th>\n",
       "      <th>call_duration_sum</th>\n",
       "      <th>mb_used</th>\n",
       "      <th>msg_count</th>\n",
       "    </tr>\n",
       "    <tr>\n",
       "      <th>month</th>\n",
       "      <th></th>\n",
       "      <th></th>\n",
       "      <th></th>\n",
       "    </tr>\n",
       "  </thead>\n",
       "  <tbody>\n",
       "    <tr>\n",
       "      <th>1</th>\n",
       "      <td>221.425</td>\n",
       "      <td>8720.640</td>\n",
       "      <td>12.5</td>\n",
       "    </tr>\n",
       "    <tr>\n",
       "      <th>2</th>\n",
       "      <td>398.330</td>\n",
       "      <td>20429.180</td>\n",
       "      <td>15.0</td>\n",
       "    </tr>\n",
       "    <tr>\n",
       "      <th>3</th>\n",
       "      <td>236.390</td>\n",
       "      <td>21500.465</td>\n",
       "      <td>12.0</td>\n",
       "    </tr>\n",
       "    <tr>\n",
       "      <th>4</th>\n",
       "      <td>283.540</td>\n",
       "      <td>18699.650</td>\n",
       "      <td>17.0</td>\n",
       "    </tr>\n",
       "    <tr>\n",
       "      <th>5</th>\n",
       "      <td>385.480</td>\n",
       "      <td>19251.630</td>\n",
       "      <td>19.0</td>\n",
       "    </tr>\n",
       "    <tr>\n",
       "      <th>6</th>\n",
       "      <td>377.240</td>\n",
       "      <td>17278.320</td>\n",
       "      <td>21.0</td>\n",
       "    </tr>\n",
       "    <tr>\n",
       "      <th>7</th>\n",
       "      <td>403.420</td>\n",
       "      <td>18196.700</td>\n",
       "      <td>28.0</td>\n",
       "    </tr>\n",
       "    <tr>\n",
       "      <th>8</th>\n",
       "      <td>388.240</td>\n",
       "      <td>19758.620</td>\n",
       "      <td>36.0</td>\n",
       "    </tr>\n",
       "    <tr>\n",
       "      <th>9</th>\n",
       "      <td>410.150</td>\n",
       "      <td>18323.525</td>\n",
       "      <td>31.5</td>\n",
       "    </tr>\n",
       "    <tr>\n",
       "      <th>10</th>\n",
       "      <td>430.640</td>\n",
       "      <td>19325.390</td>\n",
       "      <td>35.0</td>\n",
       "    </tr>\n",
       "    <tr>\n",
       "      <th>11</th>\n",
       "      <td>409.650</td>\n",
       "      <td>19593.140</td>\n",
       "      <td>32.0</td>\n",
       "    </tr>\n",
       "    <tr>\n",
       "      <th>12</th>\n",
       "      <td>414.360</td>\n",
       "      <td>19784.400</td>\n",
       "      <td>41.0</td>\n",
       "    </tr>\n",
       "  </tbody>\n",
       "</table>\n",
       "</div>"
      ],
      "text/plain": [
       "       call_duration_sum    mb_used  msg_count\n",
       "month                                         \n",
       "1                221.425   8720.640       12.5\n",
       "2                398.330  20429.180       15.0\n",
       "3                236.390  21500.465       12.0\n",
       "4                283.540  18699.650       17.0\n",
       "5                385.480  19251.630       19.0\n",
       "6                377.240  17278.320       21.0\n",
       "7                403.420  18196.700       28.0\n",
       "8                388.240  19758.620       36.0\n",
       "9                410.150  18323.525       31.5\n",
       "10               430.640  19325.390       35.0\n",
       "11               409.650  19593.140       32.0\n",
       "12               414.360  19784.400       41.0"
      ]
     },
     "execution_count": 15,
     "metadata": {},
     "output_type": "execute_result"
    }
   ],
   "source": [
    "df.query('plan == \"ultimate\"').pivot_table(index='month',values=['call_duration_sum','mb_used','msg_count'],aggfunc='median')"
   ]
  },
  {
   "cell_type": "code",
   "execution_count": 16,
   "metadata": {},
   "outputs": [
    {
     "data": {
      "image/png": "[encoded data removed]",
      "text/plain": [
       "<Figure size 1080x216 with 1 Axes>"
      ]
     },
     "metadata": {
      "needs_background": "light"
     },
     "output_type": "display_data"
    }
   ],
   "source": [
    "import matplotlib.pyplot as plt\n",
    "df.query('plan == \"ultimate\"').pivot_table(index='month',values='call_duration_sum',aggfunc='median').\\\n",
    "plot(title='Median Call Duration Per Month For \"Ultimate\" Members',kind='bar',figsize=(15,3))\n",
    "plt.xlabel('Month', fontsize=10); plt.xticks(rotation=0); plt.ylabel('Median Call Duration in Minutes', fontsize=10); plt.show()"
   ]
  },
  {
   "cell_type": "markdown",
   "metadata": {},
   "source": [
    "Similar to surf members, early months such as January, March, and April have lower median call durations compared \\\n",
    "to the latter half of the months. They are all below the 3000 minute threshold so there is no additional profit that \\\n",
    "is being obtained here."
   ]
  },
  {
   "cell_type": "code",
   "execution_count": 17,
   "metadata": {},
   "outputs": [
    {
     "data": {
      "image/png": "[encoded data removed]",
      "text/plain": [
       "<Figure size 1080x216 with 1 Axes>"
      ]
     },
     "metadata": {
      "needs_background": "light"
     },
     "output_type": "display_data"
    }
   ],
   "source": [
    "df.query('plan == \"ultimate\"').pivot_table(index='month',values='mb_used',aggfunc='median').\\\n",
    "plot(title='Median Internet Usage Per Month For \"Ultimate\" Members',kind='bar',figsize=(15,3))\n",
    "plt.xlabel('Month', fontsize=10); plt.xticks(rotation=0); plt.ylabel('Median Internet Usage in Megabytes', fontsize=10)\n",
    "plt.show(); "
   ]
  },
  {
   "cell_type": "markdown",
   "metadata": {},
   "source": [
    "Other than January, all the months seem to be around the same consistent range. The ultimate package \\\n",
    "has a high 30000 mb capacity and it appears that none of the months have a median that passes that threshold."
   ]
  },
  {
   "cell_type": "code",
   "execution_count": 18,
   "metadata": {},
   "outputs": [
    {
     "data": {
      "image/png": "[encoded data removed]",
      "text/plain": [
       "<Figure size 1080x216 with 1 Axes>"
      ]
     },
     "metadata": {
      "needs_background": "light"
     },
     "output_type": "display_data"
    }
   ],
   "source": [
    "df.query('plan == \"ultimate\"').pivot_table(index='month',values='msg_count',aggfunc='median').\\\n",
    "plot(title='Median Message Count Per Month For \"Ultimate\" Members',kind='bar',figsize=(15,3))\n",
    "plt.xlabel('Month', fontsize=10); plt.xticks(rotation=0); plt.ylabel('Median SMS Message Count', fontsize=10); plt.show()"
   ]
  },
  {
   "cell_type": "markdown",
   "metadata": {},
   "source": [
    "The former half of the year has a positive correlation of median count of messages rising over time \\\n",
    "and then plateau to a consistent 30+ median message count in the latter half of the year. The package include a high \\\n",
    "1000 message limit which isn't even close to being passed."
   ]
  },
  {
   "cell_type": "code",
   "execution_count": 19,
   "metadata": {},
   "outputs": [
    {
     "data": {
      "text/html": [
       "<div>\n",
       "<style scoped>\n",
       "    .dataframe tbody tr th:only-of-type {\n",
       "        vertical-align: middle;\n",
       "    }\n",
       "\n",
       "    .dataframe tbody tr th {\n",
       "        vertical-align: top;\n",
       "    }\n",
       "\n",
       "    .dataframe thead th {\n",
       "        text-align: right;\n",
       "    }\n",
       "</style>\n",
       "<table border=\"1\" class=\"dataframe\">\n",
       "  <thead>\n",
       "    <tr style=\"text-align: right;\">\n",
       "      <th></th>\n",
       "      <th>call_duration_sum</th>\n",
       "      <th>mb_used</th>\n",
       "      <th>msg_count</th>\n",
       "    </tr>\n",
       "  </thead>\n",
       "  <tbody>\n",
       "    <tr>\n",
       "      <th>count</th>\n",
       "      <td>720.000000</td>\n",
       "      <td>720.000000</td>\n",
       "      <td>720.000000</td>\n",
       "    </tr>\n",
       "    <tr>\n",
       "      <th>mean</th>\n",
       "      <td>406.193083</td>\n",
       "      <td>19240.359694</td>\n",
       "      <td>37.551389</td>\n",
       "    </tr>\n",
       "    <tr>\n",
       "      <th>std</th>\n",
       "      <td>227.246499</td>\n",
       "      <td>8189.724057</td>\n",
       "      <td>34.767179</td>\n",
       "    </tr>\n",
       "    <tr>\n",
       "      <th>min</th>\n",
       "      <td>0.000000</td>\n",
       "      <td>0.000000</td>\n",
       "      <td>0.000000</td>\n",
       "    </tr>\n",
       "    <tr>\n",
       "      <th>25%</th>\n",
       "      <td>246.290000</td>\n",
       "      <td>14578.465000</td>\n",
       "      <td>7.000000</td>\n",
       "    </tr>\n",
       "    <tr>\n",
       "      <th>50%</th>\n",
       "      <td>398.585000</td>\n",
       "      <td>19273.195000</td>\n",
       "      <td>30.000000</td>\n",
       "    </tr>\n",
       "    <tr>\n",
       "      <th>75%</th>\n",
       "      <td>532.227500</td>\n",
       "      <td>23401.652500</td>\n",
       "      <td>61.000000</td>\n",
       "    </tr>\n",
       "    <tr>\n",
       "      <th>max</th>\n",
       "      <td>1292.090000</td>\n",
       "      <td>48279.390000</td>\n",
       "      <td>166.000000</td>\n",
       "    </tr>\n",
       "  </tbody>\n",
       "</table>\n",
       "</div>"
      ],
      "text/plain": [
       "       call_duration_sum       mb_used   msg_count\n",
       "count         720.000000    720.000000  720.000000\n",
       "mean          406.193083  19240.359694   37.551389\n",
       "std           227.246499   8189.724057   34.767179\n",
       "min             0.000000      0.000000    0.000000\n",
       "25%           246.290000  14578.465000    7.000000\n",
       "50%           398.585000  19273.195000   30.000000\n",
       "75%           532.227500  23401.652500   61.000000\n",
       "max          1292.090000  48279.390000  166.000000"
      ]
     },
     "execution_count": 19,
     "metadata": {},
     "output_type": "execute_result"
    }
   ],
   "source": [
    "df_ultimate = df.query('plan == \"ultimate\"')\n",
    "descri = pd.merge(df_ultimate['call_duration_sum'].describe(), df_ultimate['mb_used'].describe(), \n",
    "                  left_index=True, right_index=True, suffixes=('', '2'))\n",
    "pd.merge(descri, df_ultimate['msg_count'].describe(), left_index=True, right_index=True, suffixes=('', '2'))"
   ]
  },
  {
   "cell_type": "markdown",
   "metadata": {},
   "source": [
    "Above are tables that display the average and standard deviation for call duration, internet usage, and message count. The variation is not displayed within the .describe table, but it is just the square of the standard deviation so respectively, they are: 51640.97, 67071513.67, 1208.75. These numbers are awfully close to the surf membership variances. \n",
    "\n",
    "May 11: call_duration_sum variance changed to match inclusion of 0 minute calls"
   ]
  },
  {
   "cell_type": "markdown",
   "metadata": {},
   "source": [
    "### Histograms and their distributions"
   ]
  },
  {
   "cell_type": "code",
   "execution_count": 20,
   "metadata": {},
   "outputs": [
    {
     "data": {
      "text/plain": [
       "<matplotlib.axes._subplots.AxesSubplot at 0x20cd86e5288>"
      ]
     },
     "execution_count": 20,
     "metadata": {},
     "output_type": "execute_result"
    },
    {
     "data": {
      "image/png": "[encoded data removed]",
      "text/plain": [
       "<Figure size 1080x360 with 1 Axes>"
      ]
     },
     "metadata": {
      "needs_background": "light"
     },
     "output_type": "display_data"
    }
   ],
   "source": [
    "#call duration\n",
    "axis = df_surf.plot(y='call_duration_sum',kind='hist',histtype='step',\n",
    "                    figsize=(15,5), linewidth = 5, alpha=.75,label='surf call duration', bins=25)\n",
    "df_ultimate.plot(y='call_duration_sum',kind='hist',histtype='step',figsize=(15,5), linewidth = 5, \n",
    "                 title='Call duration (in minutes) frequency for surf and ultimate packages',\n",
    "                 alpha=.75,label='ultimate call duration', ax=axis,legend=True,bins=25)"
   ]
  },
  {
   "cell_type": "markdown",
   "metadata": {},
   "source": [
    "So first thing is first, the count of customers using the surf package is almost double the number of customers\n",
    "using the ultimate package which explains why the frequency of them are also double in size. The surf call distribution \n",
    "appears as a normal bell-curve that is skewed to the right and slightly bimodal as well from the large jump \n",
    "in 0 call durations.The jump is 0 minute call durations makes sense because of the data pre-processing that replaced \n",
    "all null values to 0 minutes. \n",
    "\n",
    "The ultimate call duration distribution would be as if it was a normal distribution with a low degrees of freedom\n",
    "such as k=4. It represents slight characteristics of a normal distribution, but just is not there yet. It is also skewed\n",
    "to the right a bit... After looking at jsut the ultimate call duration histogram, I realize the axis of the surf data is \n",
    "causing a visual disturbance to what the ultimate data looks like. They both appear as normal distribution curves with a \n",
    "closer look"
   ]
  },
  {
   "cell_type": "code",
   "execution_count": 21,
   "metadata": {},
   "outputs": [
    {
     "data": {
      "text/plain": [
       "<matplotlib.axes._subplots.AxesSubplot at 0x20cd875ec08>"
      ]
     },
     "execution_count": 21,
     "metadata": {},
     "output_type": "execute_result"
    },
    {
     "data": {
      "image/png": "[encoded data removed]",
      "text/plain": [
       "<Figure size 1080x360 with 1 Axes>"
      ]
     },
     "metadata": {
      "needs_background": "light"
     },
     "output_type": "display_data"
    }
   ],
   "source": [
    "#mb_used\n",
    "axis = df_surf.plot(y='mb_used',kind='hist',histtype='step',\n",
    "                    figsize=(15,5), linewidth = 5, alpha=.75,label='surf mb used', bins=25)\n",
    "df_ultimate.plot(y='mb_used',kind='hist',histtype='step',figsize=(15,5), linewidth = 5, \n",
    "                 alpha=.75,label='ultimate mb used', ax=axis,legend=True,bins=25)"
   ]
  },
  {
   "cell_type": "markdown",
   "metadata": {},
   "source": [
    "The surf package data again appears a mirror image of the ultimate package data, but double in size. \n",
    "Again, the surf package internet usage somewhat resembles a normal bell curve and is slightly right skewed. Both have an \n",
    "average found at 20000 mb. When viewing only the ultimate data, it also appears to have a normal bell curve."
   ]
  },
  {
   "cell_type": "code",
   "execution_count": 22,
   "metadata": {},
   "outputs": [
    {
     "data": {
      "text/plain": [
       "<matplotlib.axes._subplots.AxesSubplot at 0x20cd87cbd88>"
      ]
     },
     "execution_count": 22,
     "metadata": {},
     "output_type": "execute_result"
    },
    {
     "data": {
      "image/png": "[encoded data removed]",
      "text/plain": [
       "<Figure size 1080x360 with 1 Axes>"
      ]
     },
     "metadata": {
      "needs_background": "light"
     },
     "output_type": "display_data"
    }
   ],
   "source": [
    "#message count\n",
    "axis = df_surf.plot(y='msg_count',kind='hist',histtype='step',\n",
    "                    figsize=(15,5), linewidth = 5, alpha=.75,label='surf msg count', bins=50)\n",
    "df_ultimate.plot(y='msg_count',kind='hist',histtype='step',figsize=(15,5), linewidth = 5, \n",
    "                 alpha=.75,label='ultimate msg count', ax=axis,legend=True,bins=50)"
   ]
  },
  {
   "cell_type": "markdown",
   "metadata": {},
   "source": [
    "This distribution is odd because it has an extremely high mode located at around the 0 median message count range\n",
    "and then becomes extremely right skewed. This is applied to both surf and ultimate data."
   ]
  },
  {
   "cell_type": "markdown",
   "metadata": {},
   "source": [
    "# Test the hypotheses"
   ]
  },
  {
   "cell_type": "markdown",
   "metadata": {},
   "source": [
    "### The company earns different amounts from the Ultimate and Surf plans (measured in terms of average monthly revenue)"
   ]
  },
  {
   "cell_type": "markdown",
   "metadata": {},
   "source": [
    "Comparing the different monthly averages of the two different plans requires a 2 sample t-test. The null hypothesis is claiming H0: mu_sample1 - mu_sample2 = 0 (difference in sample means is equal to zero). While the alternative hypothesis is H1: mu_sample1 - mu_sample2 != 0 (difference in sample means is equal to zero). The samples in this case are the surf and ultimate plans. "
   ]
  },
  {
   "cell_type": "markdown",
   "metadata": {},
   "source": [
    "H0: The averages of monthly profit for the Ultimate and Surf plans sample data are equal to each other\n",
    "\n",
    "H1: The averages of monthly profit for the Ultimate and Surf plans sample data are NOT equal to each other"
   ]
  },
  {
   "cell_type": "code",
   "execution_count": 23,
   "metadata": {},
   "outputs": [
    {
     "name": "stdout",
     "output_type": "stream",
     "text": [
      "p-value:  [0.51805203]\n",
      "We can't reject the null hypothesis: There is no reason to believe that the average monthly profits between\n",
      "              these two plans are different from each other\n"
     ]
    }
   ],
   "source": [
    "from scipy import stats as st\n",
    "surf_profit = df.query('plan == \"surf\"').drop(df.columns.difference(['monthly_profit']), 1)\n",
    "ultimate_profit = df.query('plan == \"ultimate\"').drop(df.columns.difference(['monthly_profit']), 1)\n",
    "alpha = .05 #using 95% critical value because that's academically standard \n",
    "results = st.ttest_ind(surf_profit, ultimate_profit)\n",
    "\n",
    "print('p-value: ', results.pvalue)\n",
    "if (results.pvalue < alpha):\n",
    "        print(\"We reject the null hypothesis\")\n",
    "else:\n",
    "        print(\"\"\"We can't reject the null hypothesis: There is no reason to believe that the average monthly profits between\n",
    "              these two plans are different from each other\"\"\")"
   ]
  },
  {
   "cell_type": "markdown",
   "metadata": {},
   "source": [
    "The p-value tells us that while the average profits for the two package plans are different, there is a ~52% \n",
    "probability of randomly getting a difference that amount or greater. "
   ]
  },
  {
   "cell_type": "markdown",
   "metadata": {},
   "source": [
    "### Average monthly revenue from users in the NY-NJ area differs from that in other regions."
   ]
  },
  {
   "cell_type": "markdown",
   "metadata": {},
   "source": [
    "Comparing the different monthly averages of the two different plans requires a 2 sample t-test. The null hypothesis is claiming H0: mu_sample1 - mu_sample2 = 0 (difference in sample means is equal to zero). While the alternative hypothesis is H1: mu_sample1 - mu_sample2 != 0 (difference in sample means is equal to zero). The samples in this case are NY-NJ ."
   ]
  },
  {
   "cell_type": "markdown",
   "metadata": {},
   "source": [
    "H0: The average of monthly profit for users in the NY-NJ area and other regions sample data are equal to each other\n",
    "\n",
    "H1: The average of monthly profit for users in the NY-NJ area and other regions sample data are NOT equal to each other"
   ]
  },
  {
   "cell_type": "code",
   "execution_count": 24,
   "metadata": {},
   "outputs": [
    {
     "name": "stdout",
     "output_type": "stream",
     "text": [
      "p-value:  [0.62722099]\n",
      "We can't reject the null hypothesis: There is no reason to believe that the average monthly profits between\n",
      "              the NY-NJ area and other regions are different from each other\n"
     ]
    }
   ],
   "source": [
    "df_nynj = df.query('city == \"New York-Newark-Jersey City, NY-NJ-PA MSA\"').drop(df.columns.difference(['monthly_profit']), 1)\n",
    "df_other_region = df.query('city not in \"New York-Newark-Jersey City, NY-NJ-PA MSA\"').\\\n",
    "drop(df.columns.difference(['monthly_profit']), 1)\n",
    "\n",
    "alpha = .05 #using 95% critical value because that's academically standard \n",
    "results = st.ttest_ind(df_nynj, df_other_region)\n",
    "\n",
    "print('p-value: ', results.pvalue)\n",
    "if (results.pvalue < alpha):\n",
    "        print(\"We reject the null hypothesis\")\n",
    "else:\n",
    "        print(\"\"\"We can't reject the null hypothesis: There is no reason to believe that the average monthly profits between\n",
    "              the NY-NJ area and other regions are different from each other\"\"\")"
   ]
  },
  {
   "cell_type": "markdown",
   "metadata": {},
   "source": [
    "The p-value tells us that while the average profits for the the NY-NJ area and other regions are different, \n",
    "there is a ~63% probability of randomly getting a difference that amount or greater"
   ]
  },
  {
   "cell_type": "code",
   "execution_count": 25,
   "metadata": {},
   "outputs": [
    {
     "data": {
      "text/html": [
       "<div>\n",
       "<style scoped>\n",
       "    .dataframe tbody tr th:only-of-type {\n",
       "        vertical-align: middle;\n",
       "    }\n",
       "\n",
       "    .dataframe tbody tr th {\n",
       "        vertical-align: top;\n",
       "    }\n",
       "\n",
       "    .dataframe thead th {\n",
       "        text-align: right;\n",
       "    }\n",
       "</style>\n",
       "<table border=\"1\" class=\"dataframe\">\n",
       "  <thead>\n",
       "    <tr style=\"text-align: right;\">\n",
       "      <th></th>\n",
       "      <th>call_duration_sum</th>\n",
       "    </tr>\n",
       "  </thead>\n",
       "  <tbody>\n",
       "    <tr>\n",
       "      <th>count</th>\n",
       "      <td>2293.000000</td>\n",
       "    </tr>\n",
       "    <tr>\n",
       "      <th>mean</th>\n",
       "      <td>405.211627</td>\n",
       "    </tr>\n",
       "    <tr>\n",
       "      <th>std</th>\n",
       "      <td>223.383523</td>\n",
       "    </tr>\n",
       "    <tr>\n",
       "      <th>min</th>\n",
       "      <td>0.000000</td>\n",
       "    </tr>\n",
       "    <tr>\n",
       "      <th>25%</th>\n",
       "      <td>249.130000</td>\n",
       "    </tr>\n",
       "    <tr>\n",
       "      <th>50%</th>\n",
       "      <td>400.160000</td>\n",
       "    </tr>\n",
       "    <tr>\n",
       "      <th>75%</th>\n",
       "      <td>540.450000</td>\n",
       "    </tr>\n",
       "    <tr>\n",
       "      <th>max</th>\n",
       "      <td>1431.220000</td>\n",
       "    </tr>\n",
       "  </tbody>\n",
       "</table>\n",
       "</div>"
      ],
      "text/plain": [
       "       call_duration_sum\n",
       "count        2293.000000\n",
       "mean          405.211627\n",
       "std           223.383523\n",
       "min             0.000000\n",
       "25%           249.130000\n",
       "50%           400.160000\n",
       "75%           540.450000\n",
       "max          1431.220000"
      ]
     },
     "execution_count": 25,
     "metadata": {},
     "output_type": "execute_result"
    }
   ],
   "source": [
    "#Unused Code \n",
    "df.drop(df.columns.difference(['call_duration_sum']), 1).describe() #cool way to remove all columns except the selected ones "
   ]
  }
 ],
 "metadata": {
  "kernelspec": {
   "display_name": "Python 3",
   "language": "python",
   "name": "python3"
  },
  "language_info": {
   "codemirror_mode": {
    "name": "ipython",
    "version": 3
   },
   "file_extension": ".py",
   "mimetype": "text/x-python",
   "name": "python",
   "nbconvert_exporter": "python",
   "pygments_lexer": "ipython3",
   "version": "3.7.6"
  }
 },
 "nbformat": 4,
 "nbformat_minor": 2
}
