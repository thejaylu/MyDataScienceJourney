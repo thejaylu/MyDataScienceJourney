{
 "cells": [
  {
   "cell_type": "markdown",
   "metadata": {},
   "source": [
    "# Background \n",
    "A mobile carrier has a more lucrative mobile plan that they want to recommend to the right customers. Provided data is subscriber behaviors who have already switched to the new plan. A classification model is needed to predict which customers can switched to a more expensive plan. "
   ]
  },
  {
   "cell_type": "markdown",
   "metadata": {},
   "source": [
    "# Understanding the data"
   ]
  },
  {
   "cell_type": "code",
   "execution_count": 2,
   "metadata": {},
   "outputs": [
    {
     "data": {
      "text/html": [
       "<div>\n",
       "<style scoped>\n",
       "    .dataframe tbody tr th:only-of-type {\n",
       "        vertical-align: middle;\n",
       "    }\n",
       "\n",
       "    .dataframe tbody tr th {\n",
       "        vertical-align: top;\n",
       "    }\n",
       "\n",
       "    .dataframe thead th {\n",
       "        text-align: right;\n",
       "    }\n",
       "</style>\n",
       "<table border=\"1\" class=\"dataframe\">\n",
       "  <thead>\n",
       "    <tr style=\"text-align: right;\">\n",
       "      <th></th>\n",
       "      <th>calls</th>\n",
       "      <th>minutes</th>\n",
       "      <th>messages</th>\n",
       "      <th>mb_used</th>\n",
       "      <th>is_ultra</th>\n",
       "    </tr>\n",
       "  </thead>\n",
       "  <tbody>\n",
       "    <tr>\n",
       "      <td>0</td>\n",
       "      <td>40.0</td>\n",
       "      <td>311.90</td>\n",
       "      <td>83.0</td>\n",
       "      <td>19915.42</td>\n",
       "      <td>0</td>\n",
       "    </tr>\n",
       "    <tr>\n",
       "      <td>1</td>\n",
       "      <td>85.0</td>\n",
       "      <td>516.75</td>\n",
       "      <td>56.0</td>\n",
       "      <td>22696.96</td>\n",
       "      <td>0</td>\n",
       "    </tr>\n",
       "    <tr>\n",
       "      <td>2</td>\n",
       "      <td>77.0</td>\n",
       "      <td>467.66</td>\n",
       "      <td>86.0</td>\n",
       "      <td>21060.45</td>\n",
       "      <td>0</td>\n",
       "    </tr>\n",
       "    <tr>\n",
       "      <td>3</td>\n",
       "      <td>106.0</td>\n",
       "      <td>745.53</td>\n",
       "      <td>81.0</td>\n",
       "      <td>8437.39</td>\n",
       "      <td>1</td>\n",
       "    </tr>\n",
       "    <tr>\n",
       "      <td>4</td>\n",
       "      <td>66.0</td>\n",
       "      <td>418.74</td>\n",
       "      <td>1.0</td>\n",
       "      <td>14502.75</td>\n",
       "      <td>0</td>\n",
       "    </tr>\n",
       "  </tbody>\n",
       "</table>\n",
       "</div>"
      ],
      "text/plain": [
       "   calls  minutes  messages   mb_used  is_ultra\n",
       "0   40.0   311.90      83.0  19915.42         0\n",
       "1   85.0   516.75      56.0  22696.96         0\n",
       "2   77.0   467.66      86.0  21060.45         0\n",
       "3  106.0   745.53      81.0   8437.39         1\n",
       "4   66.0   418.74       1.0  14502.75         0"
      ]
     },
     "execution_count": 2,
     "metadata": {},
     "output_type": "execute_result"
    }
   ],
   "source": [
    "import pandas as pd \n",
    "import numpy as np\n",
    "\n",
    "df = pd.read_csv('/datasets/users_behavior.csv')\n",
    "df.head()"
   ]
  },
  {
   "cell_type": "code",
   "execution_count": 3,
   "metadata": {},
   "outputs": [
    {
     "name": "stdout",
     "output_type": "stream",
     "text": [
      "<class 'pandas.core.frame.DataFrame'>\n",
      "RangeIndex: 3214 entries, 0 to 3213\n",
      "Data columns (total 5 columns):\n",
      "calls       3214 non-null float64\n",
      "minutes     3214 non-null float64\n",
      "messages    3214 non-null float64\n",
      "mb_used     3214 non-null float64\n",
      "is_ultra    3214 non-null int64\n",
      "dtypes: float64(4), int64(1)\n",
      "memory usage: 125.7 KB\n"
     ]
    }
   ],
   "source": [
    "df.info()"
   ]
  },
  {
   "cell_type": "code",
   "execution_count": 4,
   "metadata": {},
   "outputs": [
    {
     "data": {
      "text/plain": [
       "0    2229\n",
       "1     985\n",
       "Name: is_ultra, dtype: int64"
      ]
     },
     "execution_count": 4,
     "metadata": {},
     "output_type": "execute_result"
    }
   ],
   "source": [
    "df['is_ultra'].value_counts()"
   ]
  },
  {
   "cell_type": "markdown",
   "metadata": {},
   "source": [
    "The classes are not balanced. There is an approximate 70/30 split between classes (not ultra/ultra). "
   ]
  },
  {
   "cell_type": "markdown",
   "metadata": {},
   "source": [
    "# Dataset splitting"
   ]
  },
  {
   "cell_type": "code",
   "execution_count": 11,
   "metadata": {},
   "outputs": [],
   "source": [
    "from sklearn.model_selection import train_test_split\n",
    "features = df.drop(['is_ultra'],axis=1)\n",
    "target = df['is_ultra']\n",
    "\n",
    "features_train, features_test, target_train, target_test = train_test_split(features, target, \n",
    "                                                                            test_size=0.2, random_state=12345)\n",
    "features_train, features_valid, target_train, target_valid = train_test_split(features_train, target_train, \n",
    "                                                                       test_size=0.25, random_state=12345) \n",
    "# 0.25 x 0.8 = 0.2"
   ]
  },
  {
   "cell_type": "markdown",
   "metadata": {},
   "source": [
    "This method will split the dataframe into 60% training, 20% validation, 20% testing. The data did not seem abnormal to increase validation size, so I kept working with the typical ratio of data size."
   ]
  },
  {
   "cell_type": "markdown",
   "metadata": {},
   "source": [
    "# Model Training"
   ]
  },
  {
   "cell_type": "markdown",
   "metadata": {},
   "source": [
    "### Decision Tree Classification"
   ]
  },
  {
   "cell_type": "code",
   "execution_count": 12,
   "metadata": {
    "scrolled": true
   },
   "outputs": [
    {
     "name": "stdout",
     "output_type": "stream",
     "text": [
      "[Training] Depth of  2 with model score of  0.79201244813278\n",
      "     [Validation] Accuracy of 0.7573872472783826\n",
      "[Training] Depth of  4 with model score of  0.8205394190871369\n",
      "     [Validation] Accuracy of 0.7636080870917574\n",
      "[Training] Depth of  6 with model score of  0.8335062240663901\n",
      "     [Validation] Accuracy of 0.7573872472783826\n",
      "[Training] Depth of  8 with model score of  0.8661825726141079\n",
      "     [Validation] Accuracy of 0.7667185069984448\n",
      "[Training] Depth of  10 with model score of  0.8910788381742739\n",
      "     [Validation] Accuracy of 0.7713841368584758\n",
      "[Training] Depth of  12 with model score of  0.9154564315352697\n",
      "     [Validation] Accuracy of 0.7558320373250389\n",
      "[Training] Depth of  14 with model score of  0.9367219917012448\n",
      "     [Validation] Accuracy of 0.7573872472783826\n",
      "[Training] Depth of  16 with model score of  0.9512448132780082\n",
      "     [Validation] Accuracy of 0.749611197511664\n",
      "[Training] Depth of  18 with model score of  0.9642116182572614\n",
      "     [Validation] Accuracy of 0.7418351477449455\n",
      "[Training] Depth of  20 with model score of  0.9761410788381742\n",
      "     [Validation] Accuracy of 0.7293934681181959\n",
      "[Training] Depth of  22 with model score of  0.9859958506224067\n",
      "     [Validation] Accuracy of 0.71850699844479\n",
      "[Training] Depth of  24 with model score of  0.9937759336099585\n",
      "     [Validation] Accuracy of 0.7262830482115086\n"
     ]
    }
   ],
   "source": [
    "from sklearn.tree import DecisionTreeClassifier\n",
    "from sklearn.metrics import accuracy_score\n",
    "\n",
    "depth = []; train = []; valid = []\n",
    "for depth_i in range(2,25,2):\n",
    "    depth.append(depth_i)\n",
    "    model = DecisionTreeClassifier(random_state=12345, max_depth = depth_i)\n",
    "    model.fit(features_train, target_train)\n",
    "    train.append(model.score(features_train, target_train))\n",
    "    print('[Training] Depth of ', depth_i, 'with model score of ', model.score(features_train, target_train))\n",
    "    \n",
    "    #model.fit(features_valid, target_valid) #Not suppose to refit the model. Ruins the point of validating the training \n",
    "    predictions_valid = model.predict(features_valid)\n",
    "    print('     [Validation] Accuracy of', accuracy_score(target_valid, predictions_valid))\n",
    "    valid.append(accuracy_score(target_valid, predictions_valid))\n"
   ]
  },
  {
   "cell_type": "code",
   "execution_count": 13,
   "metadata": {},
   "outputs": [],
   "source": [
    "import seaborn as sns \n",
    "import matplotlib.pyplot as plt\n",
    "TreeMetric = pd.DataFrame(list(zip(depth, train, valid)), columns =['depth_value', 'training', 'validation']) \n",
    "TreeMetric2 = pd.melt(TreeMetric, id_vars='depth_value', var_name=\"dataset_type\", value_name=\"accuracy\") #long data format "
   ]
  },
  {
   "cell_type": "code",
   "execution_count": 14,
   "metadata": {},
   "outputs": [
    {
     "data": {
      "image/png": "[encoded data removed]",
      "text/plain": [
       "<Figure size 598.1x504 with 1 Axes>"
      ]
     },
     "metadata": {},
     "output_type": "display_data"
    }
   ],
   "source": [
    "sns.set()\n",
    "ax = sns.catplot(x = \"depth_value\", y = \"accuracy\", data = TreeMetric2, hue = \"dataset_type\", kind = \"point\", height = 7)\n",
    "plt.show()"
   ]
  },
  {
   "cell_type": "markdown",
   "metadata": {},
   "source": [
    "I tested both model.score and accuracy_score, and they appear to be having the same formula for the metric. Though, I did read that this metric depends depending on the model, but both should be okay for this simple classification. \n",
    "\n",
    "Using a decision tree with 60% of the source data as training data, the model was fit to said training data and was able to classify what type of internet service plan a customer should be placed in. The iterating through the max_depth hyperparameter from 2 - 22, we are able to see the full range of accuracy improvements. The accuracy change over different depth_values appears to fit a logarithmic curve, starting around 80% accuracy at depth 2 and near 100% accuracy at depth 24. \n",
    "\n",
    "Using 20% of the source data as a validation data set, we used the model fitted to the original training data to predict the classification of customer service plans for the validation dataset. Following the same max_depth iteration from 2 - 22, we see a negative slope curve. The range of accuracy for the validation data set starts around 76% at max_depth = 2 and around 73% at max_depth = 24. \n",
    "\n",
    "From depth_values 2 - 8, it appears that the training and validation datasets follows a positive slope in accuracy, but the training data set had a significantly higher slope. At depth_value = 8, the training and validation data set had a 10% difference in accuracy which I believe is an appropriate distinction before concern of overfitting comes in. The validation data set sees a peak at depth_value = 10, then continues to have a negative slope afterwards. All points after depth_value = 10 can have an argument of overfitting because the training model accuracy continued to have high accuracy, but had a difficult time understanding new data.  Seeing this difference in accuracy would prompt me to try different hyperparameters or models."
   ]
  },
  {
   "cell_type": "markdown",
   "metadata": {},
   "source": [
    "### Random Forest Classification"
   ]
  },
  {
   "cell_type": "code",
   "execution_count": 16,
   "metadata": {
    "scrolled": true
   },
   "outputs": [
    {
     "name": "stdout",
     "output_type": "stream",
     "text": [
      "[Training] Depth of 5 and n_estimators of 10 with model score of 0.8283195020746889\n",
      "     [Validation] model score of 0.7776049766718507\n",
      "[Training] Depth of 5 and n_estimators of 20 with model score of 0.8319502074688797\n",
      "     [Validation] model score of 0.7791601866251944\n",
      "[Training] Depth of 5 and n_estimators of 30 with model score of 0.8319502074688797\n",
      "     [Validation] model score of 0.7791601866251944\n",
      "[Training] Depth of 5 and n_estimators of 40 with model score of 0.8319502074688797\n",
      "     [Validation] model score of 0.7807153965785381\n",
      "[Training] Depth of 5 and n_estimators of 50 with model score of 0.8324688796680498\n",
      "     [Validation] model score of 0.7791601866251944\n",
      "-------------------------------------\n",
      "[Training] Depth of 10 and n_estimators of 10 with model score of 0.8884854771784232\n",
      "     [Validation] model score of 0.7900466562986003\n",
      "[Training] Depth of 10 and n_estimators of 20 with model score of 0.8890041493775933\n",
      "     [Validation] model score of 0.7962674961119751\n",
      "[Training] Depth of 10 and n_estimators of 30 with model score of 0.891597510373444\n",
      "     [Validation] model score of 0.7916018662519441\n",
      "[Training] Depth of 10 and n_estimators of 40 with model score of 0.8921161825726142\n",
      "     [Validation] model score of 0.7962674961119751\n",
      "[Training] Depth of 10 and n_estimators of 50 with model score of 0.8947095435684648\n",
      "     [Validation] model score of 0.7978227060653188\n",
      "-------------------------------------\n",
      "[Training] Depth of 15 and n_estimators of 10 with model score of 0.9398340248962656\n",
      "     [Validation] model score of 0.7900466562986003\n",
      "[Training] Depth of 15 and n_estimators of 20 with model score of 0.9424273858921162\n",
      "     [Validation] model score of 0.80248833592535\n",
      "[Training] Depth of 15 and n_estimators of 30 with model score of 0.9481327800829875\n",
      "     [Validation] model score of 0.7931570762052877\n",
      "[Training] Depth of 15 and n_estimators of 40 with model score of 0.9491701244813278\n",
      "     [Validation] model score of 0.7962674961119751\n",
      "[Training] Depth of 15 and n_estimators of 50 with model score of 0.9522821576763485\n",
      "     [Validation] model score of 0.7947122861586314\n",
      "-------------------------------------\n",
      "[Training] Depth of 20 and n_estimators of 10 with model score of 0.9782157676348547\n",
      "     [Validation] model score of 0.7776049766718507\n",
      "[Training] Depth of 20 and n_estimators of 20 with model score of 0.9911825726141079\n",
      "     [Validation] model score of 0.7869362363919129\n",
      "[Training] Depth of 20 and n_estimators of 30 with model score of 0.9922199170124482\n",
      "     [Validation] model score of 0.7791601866251944\n",
      "[Training] Depth of 20 and n_estimators of 40 with model score of 0.9922199170124482\n",
      "     [Validation] model score of 0.7900466562986003\n",
      "[Training] Depth of 20 and n_estimators of 50 with model score of 0.9927385892116183\n",
      "     [Validation] model score of 0.7884914463452566\n",
      "-------------------------------------\n",
      "[Training] Depth of 25 and n_estimators of 10 with model score of 0.9797717842323651\n",
      "     [Validation] model score of 0.7869362363919129\n",
      "[Training] Depth of 25 and n_estimators of 20 with model score of 0.9942946058091287\n",
      "     [Validation] model score of 0.7900466562986003\n",
      "[Training] Depth of 25 and n_estimators of 30 with model score of 0.9968879668049793\n",
      "     [Validation] model score of 0.7853810264385692\n",
      "[Training] Depth of 25 and n_estimators of 40 with model score of 0.9963692946058091\n",
      "     [Validation] model score of 0.7853810264385692\n",
      "[Training] Depth of 25 and n_estimators of 50 with model score of 0.9979253112033195\n",
      "     [Validation] model score of 0.7791601866251944\n",
      "-------------------------------------\n"
     ]
    }
   ],
   "source": [
    "from sklearn.ensemble import RandomForestClassifier\n",
    "\n",
    "depth = []; n_est =[]; train = []; valid = []\n",
    "for depth_i in range(5,26,5):\n",
    "    depth.append(depth_i)\n",
    "    for n_esti in range(10,51,10):\n",
    "        n_est.append(n_esti)\n",
    "        model = RandomForestClassifier(random_state=12345, max_depth = depth_i, n_estimators = n_esti)\n",
    "        model.fit(features_train, target_train)\n",
    "        \n",
    "        print('[Training] Depth of', depth_i, 'and n_estimators of', n_esti,\n",
    "              'with model score of', model.score(features_train, target_train))\n",
    "        train.append(model.score(features_train, target_train))\n",
    "        print('     [Validation] model score of', model.score(features_valid, target_valid))\n",
    "        valid.append(accuracy_score(target_valid, model.predict(features_valid)))\n",
    "    print('-------------------------------------')"
   ]
  },
  {
   "cell_type": "code",
   "execution_count": 17,
   "metadata": {},
   "outputs": [],
   "source": [
    "depth = np.repeat(depth,5)\n",
    "n_est.extend(n_est)\n",
    "\n",
    "ForestMetric = pd.DataFrame(list(zip(depth, train, valid)), columns =['depth_value','training', 'validation']) \n",
    "ForestMetric_long = pd.melt(ForestMetric, id_vars='depth_value', var_name=\"dataset_type\", value_name=\"accuracy\")\n",
    "ForestMetric_long['n_est'] = n_est"
   ]
  },
  {
   "cell_type": "code",
   "execution_count": 18,
   "metadata": {},
   "outputs": [
    {
     "data": {
      "image/png": "[encoded data removed]",
      "text/plain": [
       "<Figure size 975.725x576 with 5 Axes>"
      ]
     },
     "metadata": {},
     "output_type": "display_data"
    }
   ],
   "source": [
    "sns.relplot(x=\"n_est\", y=\"accuracy\", hue=\"dataset_type\", style=\"dataset_type\",\n",
    "            col=\"depth_value\", col_wrap=3,\n",
    "            height=4, aspect=1, linewidth=2.5,\n",
    "            kind=\"line\", data=ForestMetric_long);"
   ]
  },
  {
   "cell_type": "markdown",
   "metadata": {},
   "source": [
    "For this Random Forest Classifier model, I modified the hyperparameters depth_value and n_estimators from 5-25 and 10-50 respecitvely. Using 60% of the source data as a training data set, the model was fit to said data and was able to classify what type of internet service plan a customer should be placed in. We can see that depth_value has the greatest amount of change on the accuracy of training data where accuracy for the training started around 83% for depth_value = 5 and 97% for dpeth_value = 25. When it came to n_estimators, there is a very slight positive slope for accuracy increasing n_estimator. \n",
    "\n",
    "Using 20% of the source data as a validation data set, the model was tested on if it could accuracy classify customer service plans when it was fitted on the original training dataset. We saw that both depth_value and n_estimators had low strength in changing the accuracy of the validation data set. Through the different iterations of these hyperparameters, we saw that the validation accuracy ranged from 77% - 80%. The validation dataset saw it's peak accuracy during the combination of depth_value = 15 and n_est = 20. I would say that n_estimators would slightly increase accuracy, but we would see a negative slope in the higher depth_values. \n",
    "\n",
    "I would say the most accurate Random Forest Classifier model is with paramters depth_value = 5 and n_estimators = 40. The training accuracy is only 83%, but the accuracy difference between training and validation is not overly significant where it is obviously overfitted. "
   ]
  },
  {
   "cell_type": "markdown",
   "metadata": {},
   "source": [
    "### Logistic Regression"
   ]
  },
  {
   "cell_type": "code",
   "execution_count": 19,
   "metadata": {},
   "outputs": [
    {
     "name": "stdout",
     "output_type": "stream",
     "text": [
      "Solver: lbfgs ,with model score of: 0.7510373443983402\n",
      "      [Validation], 0.7262830482115086\n",
      "Solver: liblinear ,with model score of: 0.703838174273859\n",
      "      [Validation], 0.6967340590979783\n",
      "Solver: sag ,with model score of: 0.6991701244813278\n",
      "      [Validation], 0.6982892690513219\n",
      "Solver: saga ,with model score of: 0.6991701244813278\n",
      "      [Validation], 0.6998444790046656\n"
     ]
    }
   ],
   "source": [
    "from sklearn.linear_model import LogisticRegression\n",
    "solverList = ['lbfgs','liblinear','sag','saga']\n",
    "train = []; valid = []\n",
    "for i in range(len(solverList)):\n",
    "    model = LogisticRegression(random_state=12345, solver=solverList[i], \n",
    "                               max_iter = 10000).fit(features_train, target_train)\n",
    "    print('Solver:', solverList[i],',with model score of:', model.score(features_train, target_train))\n",
    "    train.append(model.score(features_train, target_train))\n",
    "    print('      [Validation],', model.score(features_valid, target_valid))\n",
    "    valid.append(model.score(features_valid, target_valid))"
   ]
  },
  {
   "cell_type": "code",
   "execution_count": 20,
   "metadata": {},
   "outputs": [],
   "source": [
    "LogisticMetric = pd.DataFrame(list(zip(solverList, train, valid)), columns =['solver', 'training', 'validation']) \n",
    "LogisticMetric2 = pd.melt(LogisticMetric, id_vars='solver', \n",
    "                          var_name=\"dataset_type\", value_name=\"accuracy\") #long data format "
   ]
  },
  {
   "cell_type": "code",
   "execution_count": 21,
   "metadata": {},
   "outputs": [
    {
     "data": {
      "text/plain": [
       "<matplotlib.axes._subplots.AxesSubplot at 0x7f061fa2e390>"
      ]
     },
     "execution_count": 21,
     "metadata": {},
     "output_type": "execute_result"
    },
    {
     "data": {
      "image/png": "[encoded data removed]",
      "text/plain": [
       "<Figure size 1080x360 with 1 Axes>"
      ]
     },
     "metadata": {},
     "output_type": "display_data"
    }
   ],
   "source": [
    "fig_dims = (15, 5)\n",
    "fig, ax = plt.subplots(figsize=fig_dims)\n",
    "sns.barplot(x=\"solver\", y=\"accuracy\", hue=\"dataset_type\", ax=ax,data=LogisticMetric2)"
   ]
  },
  {
   "cell_type": "markdown",
   "metadata": {},
   "source": [
    "There were less parameters that I believe I could comfortable modify for this logistic regression model. I iterated through 4 different algorithm solvers used to solver for the classification of this model. All of the solvers produced above average accuracy, but most surprsingly, they produced accuracies that had minimal differences from the training and validation data sets. The largest accuracy difference was seen for the 'lbfgs' solver of about 2.5%. We actually saw the validation data set have a higher accuracy than the training dataset with the 'saga' solver. \n",
    "\n",
    "If I had to choose a solver to use, I would use 'lbfgs' because it produced the highest model accuracy for both training and validation. "
   ]
  },
  {
   "cell_type": "markdown",
   "metadata": {},
   "source": [
    "# Final Evaluation with the Test Data Set"
   ]
  },
  {
   "cell_type": "markdown",
   "metadata": {},
   "source": [
    "Of the different models I have assessed, the one that produced the highest quality results was the random forest classifier. I am between using parameters max_depth = 5, n_estimators = 40 and max_depth = 20, n_estimators = 40 so I will model both and predict it with the test data set. \n",
    "\n",
    "I have picked these two different parameter sets because the first one had the smallest accuracy difference between training and validation datasets while producing high validation accuracy. The second parameter set produced the highest validation accuracy of all the models I have tested, so I wanted to see if there was a possibility if that metric would be the greatest determiner. "
   ]
  },
  {
   "cell_type": "code",
   "execution_count": 22,
   "metadata": {},
   "outputs": [
    {
     "name": "stdout",
     "output_type": "stream",
     "text": [
      "[Training] Depth of 25 and n_estimators of 50 with model score of 0.8319502074688797\n",
      "   [Validation] accuracy of 0.7807153965785381\n",
      "      [Test] accuracy of 0.7916018662519441\n"
     ]
    }
   ],
   "source": [
    "model = RandomForestClassifier(random_state=12345, max_depth = 5, n_estimators = 40)\n",
    "model.fit(features_train, target_train)\n",
    "\n",
    "print('[Training] Depth of', depth_i, 'and n_estimators of', n_esti,\n",
    "      'with model score of', model.score(features_train, target_train))\n",
    "print('   [Validation] accuracy of', model.score(features_valid, target_valid))\n",
    "print('      [Test] accuracy of', model.score(features_test, target_test))"
   ]
  },
  {
   "cell_type": "code",
   "execution_count": 23,
   "metadata": {},
   "outputs": [
    {
     "name": "stdout",
     "output_type": "stream",
     "text": [
      "[Training] Depth of 25 and n_estimators of 50 with model score of 0.9922199170124482\n",
      "   [Validation] accuracy of 0.7900466562986003\n",
      "      [Test] accuracy of 0.7776049766718507\n"
     ]
    }
   ],
   "source": [
    "model = RandomForestClassifier(random_state=12345, max_depth = 20, n_estimators = 40)\n",
    "model.fit(features_train, target_train)\n",
    "\n",
    "print('[Training] Depth of', depth_i, 'and n_estimators of', n_esti,\n",
    "      'with model score of', model.score(features_train, target_train))\n",
    "print('   [Validation] accuracy of', model.score(features_valid, target_valid))\n",
    "print('      [Test] accuracy of', model.score(features_test, target_test))"
   ]
  },
  {
   "cell_type": "markdown",
   "metadata": {},
   "source": [
    "It appears that the parameter set of max_depth = 20, n_estimators = 40 produced the highest accuracy of 79.16% when running the test dataset through the trained model. This has helped me understand that the model using the hyperparameters that has the smallest accuracy difference in training and validation while simultaneously producing high validation results is the more reliable classification model. "
   ]
  },
  {
   "cell_type": "markdown",
   "metadata": {},
   "source": [
    "# Sanity Check"
   ]
  },
  {
   "cell_type": "code",
   "execution_count": 24,
   "metadata": {},
   "outputs": [
    {
     "data": {
      "text/plain": [
       "0.5318818040435459"
      ]
     },
     "execution_count": 24,
     "metadata": {},
     "output_type": "execute_result"
    }
   ],
   "source": [
    "sanity5050 = [0,1]\n",
    "sanity5050 = np.repeat(sanity5050, (len(target_test)/2))\n",
    "sanity5050 = np.append(sanity5050, 1)\n",
    "sanity5050 = pd.DataFrame(sanity5050,  columns= ['is_ultra'])\n",
    "model.score(features_test, sanity5050)"
   ]
  },
  {
   "cell_type": "markdown",
   "metadata": {},
   "source": [
    "<div class=\"alert alert-success\" role=\"alert\">\n",
    "Here you can also predict constantly bigger class and your baseline score will become even better.</div>"
   ]
  },
  {
   "cell_type": "markdown",
   "metadata": {},
   "source": [
    "Creating a dataframe named sanity5050 that was half '0' and half '1' for the 'is_ultra' column, we are able to check if our model is better than guessing. Using a model that was fitted under the training data and predicting the accuracy based on the features from the testing dataset, we are able to prove that the accuracy of using the \"guessing\" data set is about 50%. This shows that our model which produced an accuracy of 79% is in fact better than pure chance results."
   ]
  }
 ],
 "metadata": {
  "kernelspec": {
   "display_name": "Python 3",
   "language": "python",
   "name": "python3"
  },
  "language_info": {
   "codemirror_mode": {
    "name": "ipython",
    "version": 3
   },
   "file_extension": ".py",
   "mimetype": "text/x-python",
   "name": "python",
   "nbconvert_exporter": "python",
   "pygments_lexer": "ipython3",
   "version": "3.7.6"
  }
 },
 "nbformat": 4,
 "nbformat_minor": 2
}
