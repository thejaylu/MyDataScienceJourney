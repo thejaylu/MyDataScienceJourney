{
 "cells": [
  {
   "cell_type": "markdown",
   "metadata": {},
   "source": [
    "# Background\n",
    "Provided is data from the gold mining sector regarding extraction and purification. A ML model will be developed to predict the amount of gold recovered from gold ore using y_values *rougher concentrate recovery* and *final concentrate recovery*. The business use of this model will help to optimize the production and eliminate unprofitable parameters.\n",
    "\n",
    "Mined ore undergoes primary processing to get the ore mixture or rougher feed, which is the raw material for flotation (also known as the rougher process). After flotation, the material is sent to two-stage purification which then leads to the final concentrate output. "
   ]
  },
  {
   "cell_type": "markdown",
   "metadata": {},
   "source": [
    "# Prepping Data"
   ]
  },
  {
   "cell_type": "code",
   "execution_count": 1,
   "metadata": {},
   "outputs": [],
   "source": [
    "import pandas as pd \n",
    "import numpy as np \n",
    "\n",
    "#csv not included due to private data reasons \n",
    "traindf = pd.read_csv('gold_recovery_train.csv') \n",
    "testdf = pd.read_csv('gold_recovery_test.csv')\n",
    "fulldf = pd.read_csv('gold_recovery_full.csv')\n",
    "\n",
    "#the date column is converted from object to date time type\n",
    "traindf['date']= pd.to_datetime(traindf['date'], format= '%Y-%m-%d %H:%M:%S') "
   ]
  },
  {
   "cell_type": "code",
   "execution_count": 2,
   "metadata": {},
   "outputs": [
    {
     "data": {
      "text/html": [
       "<div>\n",
       "<style scoped>\n",
       "    .dataframe tbody tr th:only-of-type {\n",
       "        vertical-align: middle;\n",
       "    }\n",
       "\n",
       "    .dataframe tbody tr th {\n",
       "        vertical-align: top;\n",
       "    }\n",
       "\n",
       "    .dataframe thead th {\n",
       "        text-align: right;\n",
       "    }\n",
       "</style>\n",
       "<table border=\"1\" class=\"dataframe\">\n",
       "  <thead>\n",
       "    <tr style=\"text-align: right;\">\n",
       "      <th></th>\n",
       "      <th>date</th>\n",
       "      <th>final.output.concentrate_ag</th>\n",
       "      <th>final.output.concentrate_pb</th>\n",
       "      <th>final.output.concentrate_sol</th>\n",
       "      <th>final.output.concentrate_au</th>\n",
       "      <th>final.output.recovery</th>\n",
       "      <th>final.output.tail_ag</th>\n",
       "      <th>final.output.tail_pb</th>\n",
       "      <th>final.output.tail_sol</th>\n",
       "      <th>final.output.tail_au</th>\n",
       "      <th>...</th>\n",
       "      <th>secondary_cleaner.state.floatbank4_a_air</th>\n",
       "      <th>secondary_cleaner.state.floatbank4_a_level</th>\n",
       "      <th>secondary_cleaner.state.floatbank4_b_air</th>\n",
       "      <th>secondary_cleaner.state.floatbank4_b_level</th>\n",
       "      <th>secondary_cleaner.state.floatbank5_a_air</th>\n",
       "      <th>secondary_cleaner.state.floatbank5_a_level</th>\n",
       "      <th>secondary_cleaner.state.floatbank5_b_air</th>\n",
       "      <th>secondary_cleaner.state.floatbank5_b_level</th>\n",
       "      <th>secondary_cleaner.state.floatbank6_a_air</th>\n",
       "      <th>secondary_cleaner.state.floatbank6_a_level</th>\n",
       "    </tr>\n",
       "  </thead>\n",
       "  <tbody>\n",
       "    <tr>\n",
       "      <th>0</th>\n",
       "      <td>2016-01-15 00:00:00</td>\n",
       "      <td>6.055403</td>\n",
       "      <td>9.889648</td>\n",
       "      <td>5.507324</td>\n",
       "      <td>42.192020</td>\n",
       "      <td>70.541216</td>\n",
       "      <td>10.411962</td>\n",
       "      <td>0.895447</td>\n",
       "      <td>16.904297</td>\n",
       "      <td>2.143149</td>\n",
       "      <td>...</td>\n",
       "      <td>14.016835</td>\n",
       "      <td>-502.488007</td>\n",
       "      <td>12.099931</td>\n",
       "      <td>-504.715942</td>\n",
       "      <td>9.925633</td>\n",
       "      <td>-498.310211</td>\n",
       "      <td>8.079666</td>\n",
       "      <td>-500.470978</td>\n",
       "      <td>14.151341</td>\n",
       "      <td>-605.841980</td>\n",
       "    </tr>\n",
       "    <tr>\n",
       "      <th>1</th>\n",
       "      <td>2016-01-15 01:00:00</td>\n",
       "      <td>6.029369</td>\n",
       "      <td>9.968944</td>\n",
       "      <td>5.257781</td>\n",
       "      <td>42.701629</td>\n",
       "      <td>69.266198</td>\n",
       "      <td>10.462676</td>\n",
       "      <td>0.927452</td>\n",
       "      <td>16.634514</td>\n",
       "      <td>2.224930</td>\n",
       "      <td>...</td>\n",
       "      <td>13.992281</td>\n",
       "      <td>-505.503262</td>\n",
       "      <td>11.950531</td>\n",
       "      <td>-501.331529</td>\n",
       "      <td>10.039245</td>\n",
       "      <td>-500.169983</td>\n",
       "      <td>7.984757</td>\n",
       "      <td>-500.582168</td>\n",
       "      <td>13.998353</td>\n",
       "      <td>-599.787184</td>\n",
       "    </tr>\n",
       "  </tbody>\n",
       "</table>\n",
       "<p>2 rows × 87 columns</p>\n",
       "</div>"
      ],
      "text/plain": [
       "                 date  final.output.concentrate_ag  \\\n",
       "0 2016-01-15 00:00:00                     6.055403   \n",
       "1 2016-01-15 01:00:00                     6.029369   \n",
       "\n",
       "   final.output.concentrate_pb  final.output.concentrate_sol  \\\n",
       "0                     9.889648                      5.507324   \n",
       "1                     9.968944                      5.257781   \n",
       "\n",
       "   final.output.concentrate_au  final.output.recovery  final.output.tail_ag  \\\n",
       "0                    42.192020              70.541216             10.411962   \n",
       "1                    42.701629              69.266198             10.462676   \n",
       "\n",
       "   final.output.tail_pb  final.output.tail_sol  final.output.tail_au  ...  \\\n",
       "0              0.895447              16.904297              2.143149  ...   \n",
       "1              0.927452              16.634514              2.224930  ...   \n",
       "\n",
       "   secondary_cleaner.state.floatbank4_a_air  \\\n",
       "0                                 14.016835   \n",
       "1                                 13.992281   \n",
       "\n",
       "   secondary_cleaner.state.floatbank4_a_level  \\\n",
       "0                                 -502.488007   \n",
       "1                                 -505.503262   \n",
       "\n",
       "   secondary_cleaner.state.floatbank4_b_air  \\\n",
       "0                                 12.099931   \n",
       "1                                 11.950531   \n",
       "\n",
       "   secondary_cleaner.state.floatbank4_b_level  \\\n",
       "0                                 -504.715942   \n",
       "1                                 -501.331529   \n",
       "\n",
       "   secondary_cleaner.state.floatbank5_a_air  \\\n",
       "0                                  9.925633   \n",
       "1                                 10.039245   \n",
       "\n",
       "   secondary_cleaner.state.floatbank5_a_level  \\\n",
       "0                                 -498.310211   \n",
       "1                                 -500.169983   \n",
       "\n",
       "   secondary_cleaner.state.floatbank5_b_air  \\\n",
       "0                                  8.079666   \n",
       "1                                  7.984757   \n",
       "\n",
       "   secondary_cleaner.state.floatbank5_b_level  \\\n",
       "0                                 -500.470978   \n",
       "1                                 -500.582168   \n",
       "\n",
       "   secondary_cleaner.state.floatbank6_a_air  \\\n",
       "0                                 14.151341   \n",
       "1                                 13.998353   \n",
       "\n",
       "   secondary_cleaner.state.floatbank6_a_level  \n",
       "0                                 -605.841980  \n",
       "1                                 -599.787184  \n",
       "\n",
       "[2 rows x 87 columns]"
      ]
     },
     "execution_count": 2,
     "metadata": {},
     "output_type": "execute_result"
    }
   ],
   "source": [
    "traindf.head(2)"
   ]
  },
  {
   "cell_type": "code",
   "execution_count": 3,
   "metadata": {},
   "outputs": [],
   "source": [
    "#dropping NaN values in all the dataframes\n",
    "traindf = traindf.dropna()\n",
    "testdf = testdf.dropna()\n",
    "fulldf = fulldf.dropna()"
   ]
  },
  {
   "cell_type": "markdown",
   "metadata": {},
   "source": [
    "#### Double checking if the recovery column was calculated correctly. Measuring it using mean absolute error. Could have also used the mae import from sklearn."
   ]
  },
  {
   "cell_type": "code",
   "execution_count": 4,
   "metadata": {},
   "outputs": [],
   "source": [
    "C = traindf['rougher.output.concentrate_au'] #C — share of gold in the concentrate right after flotation\n",
    "F = traindf['rougher.input.feed_au'] #F — share of gold in the feed before flotation\n",
    "T = traindf['rougher.output.tail_au'] #T — share of gold in the rougher tails right after flotation\n",
    "\n",
    "traindf['recovery'] = ((C * (F-T)) / (F * (C-T))) * 100"
   ]
  },
  {
   "cell_type": "code",
   "execution_count": 5,
   "metadata": {},
   "outputs": [
    {
     "name": "stdout",
     "output_type": "stream",
     "text": [
      "9.555596961987513e-15\n"
     ]
    }
   ],
   "source": [
    "real_recovery = traindf['rougher.output.recovery']\n",
    "MAE = np.sum(np.abs(traindf['recovery'] - real_recovery)/len(real_recovery))\n",
    "print(MAE)"
   ]
  },
  {
   "cell_type": "markdown",
   "metadata": {},
   "source": [
    "Error is basically non-existant, we can move forward with confidence that this column is calculated correctly"
   ]
  },
  {
   "cell_type": "markdown",
   "metadata": {},
   "source": [
    "#### Among the training and test dataset .csv files, there are column discrepancies which will pose a significant issue when fitting and predicting values down the road. "
   ]
  },
  {
   "cell_type": "code",
   "execution_count": 6,
   "metadata": {},
   "outputs": [],
   "source": [
    "#traindf.columns.intersection(testdf.columns)\n",
    "# the columns that are shared between the training and test data set "
   ]
  },
  {
   "cell_type": "code",
   "execution_count": 7,
   "metadata": {
    "scrolled": true
   },
   "outputs": [
    {
     "data": {
      "text/plain": [
       "['final.output.concentrate_ag',\n",
       " 'final.output.concentrate_au',\n",
       " 'final.output.concentrate_pb',\n",
       " 'final.output.concentrate_sol',\n",
       " 'final.output.tail_ag',\n",
       " 'final.output.tail_au',\n",
       " 'final.output.tail_pb',\n",
       " 'final.output.tail_sol',\n",
       " 'primary_cleaner.output.concentrate_ag',\n",
       " 'primary_cleaner.output.concentrate_au',\n",
       " 'primary_cleaner.output.concentrate_pb',\n",
       " 'primary_cleaner.output.concentrate_sol',\n",
       " 'primary_cleaner.output.tail_ag',\n",
       " 'primary_cleaner.output.tail_au',\n",
       " 'primary_cleaner.output.tail_pb',\n",
       " 'primary_cleaner.output.tail_sol',\n",
       " 'recovery',\n",
       " 'rougher.calculation.au_pb_ratio',\n",
       " 'rougher.calculation.floatbank10_sulfate_to_au_feed',\n",
       " 'rougher.calculation.floatbank11_sulfate_to_au_feed',\n",
       " 'rougher.calculation.sulfate_to_au_concentrate',\n",
       " 'rougher.output.concentrate_ag',\n",
       " 'rougher.output.concentrate_au',\n",
       " 'rougher.output.concentrate_pb',\n",
       " 'rougher.output.concentrate_sol',\n",
       " 'rougher.output.tail_ag',\n",
       " 'rougher.output.tail_au',\n",
       " 'rougher.output.tail_pb',\n",
       " 'rougher.output.tail_sol',\n",
       " 'secondary_cleaner.output.tail_ag',\n",
       " 'secondary_cleaner.output.tail_au',\n",
       " 'secondary_cleaner.output.tail_pb',\n",
       " 'secondary_cleaner.output.tail_sol']"
      ]
     },
     "execution_count": 7,
     "metadata": {},
     "output_type": "execute_result"
    }
   ],
   "source": [
    "not_in_test = traindf.columns.difference(testdf.columns)\n",
    "not_in_test = not_in_test.tolist()\n",
    "not_in_test.remove('rougher.output.recovery') #removing these two columns because they will be appearing in the test dataset \n",
    "not_in_test.remove('final.output.recovery')\n",
    "not_in_test"
   ]
  },
  {
   "cell_type": "markdown",
   "metadata": {},
   "source": [
    "Above shows all the columns that are included in the training data set, but do not appear in the test data set. That's a lot of columns! This means we can not include these columns when it comes to developing the model for both the training and testing side. "
   ]
  },
  {
   "cell_type": "markdown",
   "metadata": {},
   "source": [
    "# Analyze the data"
   ]
  },
  {
   "cell_type": "markdown",
   "metadata": {},
   "source": [
    "### Analyzing changes in concentrations of metals (Au, Ag, Pb) based on purification stage"
   ]
  },
  {
   "cell_type": "markdown",
   "metadata": {},
   "source": [
    "There are two purification stages, First Stage of Cleaner Process and Second Stage of Cleaner Process. This means that the concentration of metals changes three times from pre-first stage, post-first stage, and post-second stage. Below are the columns that are affiliated with these stages."
   ]
  },
  {
   "cell_type": "markdown",
   "metadata": {},
   "source": [
    "##### Purification Analysis: Au"
   ]
  },
  {
   "cell_type": "code",
   "execution_count": 8,
   "metadata": {},
   "outputs": [
    {
     "data": {
      "text/plain": [
       "<matplotlib.legend.Legend at 0x1d19125c188>"
      ]
     },
     "execution_count": 8,
     "metadata": {},
     "output_type": "execute_result"
    },
    {
     "data": {
      "image/png": "[encoded data removed]",
      "text/plain": [
       "<Figure size 1080x288 with 1 Axes>"
      ]
     },
     "metadata": {
      "needs_background": "light"
     },
     "output_type": "display_data"
    }
   ],
   "source": [
    "import matplotlib.pyplot as plt\n",
    "fig, ax1 = plt.subplots(figsize=(15, 4))\n",
    "ax1.hist(fulldf['rougher.output.concentrate_au'], \n",
    "                     alpha=0.5, bins=100, color='g', label='rougher.output.concentrate_au')\n",
    "ax1.hist(fulldf['primary_cleaner.output.concentrate_au'], \n",
    "         alpha=0.5, bins=100, color='b', label='primary_cleaner.output.concentrate_au')\n",
    "ax1.hist(fulldf['secondary_cleaner.output.tail_au'], alpha=0.5, bins=100, color='r', label='secondary_cleaner.output.tail_au')\n",
    "ax1.hist(fulldf['final.output.concentrate_au'], alpha=0.5, bins=100, color='y', label='final.output.concentrate_au')\n",
    "plt.gca().set(title='Frequency Histogram of Au Change by Purification Stage.', ylabel='Frequency')\n",
    "ax1.legend()"
   ]
  },
  {
   "cell_type": "markdown",
   "metadata": {},
   "source": [
    "The histograms of the concentrations during the purification processes for Au are cleanly laid out here. Each stage is within it's own concentration range denoted by the x-axis and there is minimal overlap. The concentration before entering the first purification stage is seen as green, and the concentration is further increased after the first stage of purification seen in blue. Secondary cleaner output has low concentration values, but we need to keep in mind that it is also branched apart form the final.output.concentrate for Au as well."
   ]
  },
  {
   "cell_type": "markdown",
   "metadata": {},
   "source": [
    "##### Purification Analysis: Pb"
   ]
  },
  {
   "cell_type": "code",
   "execution_count": 9,
   "metadata": {},
   "outputs": [
    {
     "data": {
      "text/plain": [
       "<matplotlib.legend.Legend at 0x1d191442f88>"
      ]
     },
     "execution_count": 9,
     "metadata": {},
     "output_type": "execute_result"
    },
    {
     "data": {
      "image/png": "[encoded data removed]",
      "text/plain": [
       "<Figure size 1080x288 with 1 Axes>"
      ]
     },
     "metadata": {
      "needs_background": "light"
     },
     "output_type": "display_data"
    }
   ],
   "source": [
    "fig, ax1 = plt.subplots(figsize=(15, 4))\n",
    "ax1.hist(fulldf['rougher.output.concentrate_pb'], \n",
    "                     alpha=0.5, bins=100, color='g', label='rougher.output.concentrate_pb')\n",
    "ax1.hist(fulldf['primary_cleaner.output.concentrate_pb'], \n",
    "         alpha=0.5, bins=100, color='b', label='primary_cleaner.output.concentrate_pb')\n",
    "ax1.hist(fulldf['secondary_cleaner.output.tail_pb'], \n",
    "         alpha=0.5, bins=100, color='r', label='secondary_cleaner.output.tail_pb')\n",
    "ax1.hist(fulldf['final.output.concentrate_pb'], \n",
    "         alpha=0.5, bins=100, color='y', label='final.output.concentrate_pb')\n",
    "plt.gca().set(title='Frequency Histogram of Pb Change by Purification Stage.', ylabel='Frequency')\n",
    "ax1.legend()"
   ]
  },
  {
   "cell_type": "markdown",
   "metadata": {},
   "source": [
    "Not nearly as clean as the Au histograms, but the histograms still tell a similar story (just a lot more tight knit). The concentraiton before purification sits around the middle of the other concentration values of the other histograms. After going through the first purification process, the concentration is increased as seen by the blue, just like the Au graph. After the second purification process, a split between the secondary output and final output is seen again with red being closer to zero and yellow being near the upper end. The concentration values between the first purification process and final output are near identitical compared to a large difference seen in Au."
   ]
  },
  {
   "cell_type": "markdown",
   "metadata": {},
   "source": [
    "##### Purification Analysis: Ag"
   ]
  },
  {
   "cell_type": "code",
   "execution_count": 10,
   "metadata": {},
   "outputs": [
    {
     "data": {
      "text/plain": [
       "<matplotlib.legend.Legend at 0x1d191981288>"
      ]
     },
     "execution_count": 10,
     "metadata": {},
     "output_type": "execute_result"
    },
    {
     "data": {
      "image/png": "[encoded data removed]",
      "text/plain": [
       "<Figure size 1080x288 with 1 Axes>"
      ]
     },
     "metadata": {
      "needs_background": "light"
     },
     "output_type": "display_data"
    }
   ],
   "source": [
    "fig, ax1 = plt.subplots(figsize=(15, 4))\n",
    "ax1.hist(fulldf['rougher.output.concentrate_ag'], \n",
    "                     alpha=0.5, bins=100, color='g', label='rougher.output.concentrate_ag')\n",
    "ax1.hist(fulldf['primary_cleaner.output.concentrate_ag'], \n",
    "         alpha=0.5, bins=100, color='b', label='primary_cleaner.output.concentrate_ag')\n",
    "ax1.hist(fulldf['secondary_cleaner.output.tail_ag'], \n",
    "         alpha=0.5, bins=100, color='r', label='secondary_cleaner.output.tail_ag')\n",
    "ax1.hist(fulldf['final.output.concentrate_ag'], \n",
    "         alpha=0.5, bins=100, color='y', label='final.output.concentrate_ag')\n",
    "plt.gca().set(title='Frequency Histogram of Ag Change by Purification Stage.', ylabel='Frequency')\n",
    "ax1.legend()"
   ]
  },
  {
   "cell_type": "markdown",
   "metadata": {},
   "source": [
    "The histogram distribution here is interesting because it shows the inverse of the last two graphs that we saw. As Ag goes through the purification process, we see the concentration go down. It really does seem like it's the previous graph, but flipped horizontally. The highest concentration is seen from the secondary prufication output and the lowest concentration is the final output concentration."
   ]
  },
  {
   "cell_type": "markdown",
   "metadata": {},
   "source": [
    "### Analyzing the feed particle size distributions in the training set and in the test set. If the distributions vary significantly, the model evaluation will be incorrect."
   ]
  },
  {
   "cell_type": "code",
   "execution_count": 11,
   "metadata": {},
   "outputs": [
    {
     "data": {
      "image/png": "[encoded data removed]",
      "text/plain": [
       "<Figure size 1080x288 with 1 Axes>"
      ]
     },
     "metadata": {
      "needs_background": "light"
     },
     "output_type": "display_data"
    }
   ],
   "source": [
    "ax = traindf['rougher.input.feed_size'].plot(kind='hist', bins=30,range=(0,200),alpha=0.7,label='training data',legend=True)\n",
    "plot = testdf['rougher.input.feed_size'].plot(kind='hist',y='Frequency',\n",
    "                                              title='Distribution of feed size for training and testing data',\n",
    "                                              range=(0,200),figsize=(15,4),bins=30,alpha=0.7,label='testing data',legend=True)"
   ]
  },
  {
   "cell_type": "markdown",
   "metadata": {},
   "source": [
    "The distribution of feed size for the training and testing data sets are quite similar. Of course the the testing data has a fraction of observations compared to the traning data which explains why it has a smaller frequency value. The right skewed curve and the mode around 50 still remains the same for both charts."
   ]
  },
  {
   "cell_type": "markdown",
   "metadata": {},
   "source": [
    "### Analyzing the total concentrations of all substances at different stages: raw feed, rougher concentrate, and final concentrate. "
   ]
  },
  {
   "cell_type": "markdown",
   "metadata": {},
   "source": [
    "#### Raw Feed"
   ]
  },
  {
   "cell_type": "code",
   "execution_count": 12,
   "metadata": {},
   "outputs": [],
   "source": [
    "raw_feed_items = ['rougher.input.feed_au','rougher.input.feed_ag','rougher.input.feed_pb']\n",
    "raw_feed = pd.Series(dtype='float')\n",
    "for i in raw_feed_items:\n",
    "    raw_feed = raw_feed.append(fulldf[i])"
   ]
  },
  {
   "cell_type": "code",
   "execution_count": 13,
   "metadata": {},
   "outputs": [
    {
     "name": "stdout",
     "output_type": "stream",
     "text": [
      "Number of all elements in raw feed: 48282\n",
      "Number of elements in raw feed greather than 13: 1339\n",
      "Percent of raw feed concentration elements greater than 13: 0.028\n"
     ]
    },
    {
     "data": {
      "image/png": "[encoded data removed]",
      "text/plain": [
       "<Figure size 1080x288 with 1 Axes>"
      ]
     },
     "metadata": {
      "needs_background": "light"
     },
     "output_type": "display_data"
    }
   ],
   "source": [
    "raw_feed.plot(kind='hist', bins=75,figsize=(15,4),title='Raw Feed Distribution')\n",
    "print('Number of all elements in raw feed:',len(raw_feed))\n",
    "print('Number of elements in raw feed greather than 13:',len(raw_feed[raw_feed > 12]))\n",
    "print('Percent of raw feed concentration elements greater than 13:',round(len(raw_feed[raw_feed > 12]) / len(raw_feed),3))"
   ]
  },
  {
   "cell_type": "markdown",
   "metadata": {},
   "source": [
    "After combining all element concentrations for raw feed/rougher.input.feed, we can see a distribution a cyclical distribution for x-axis ranges of 2-12 with a maximum frequency of around 2000. The tail end of of the distribution is potentially an outlier so items after 13 will be removed to keep a cleaner tail. "
   ]
  },
  {
   "cell_type": "code",
   "execution_count": 14,
   "metadata": {},
   "outputs": [],
   "source": [
    "for i in raw_feed_items:\n",
    "    traindf = traindf[traindf[i] < 13]\n",
    "    testdf = testdf[testdf[i] < 13]\n",
    "    fulldf = fulldf[fulldf[i] < 13]"
   ]
  },
  {
   "cell_type": "markdown",
   "metadata": {},
   "source": [
    "##### Rougher concentrate"
   ]
  },
  {
   "cell_type": "code",
   "execution_count": 15,
   "metadata": {},
   "outputs": [],
   "source": [
    "rough_con_items = ['rougher.output.concentrate_au','rougher.output.concentrate_ag','rougher.output.concentrate_pb']\n",
    "rough_con = pd.Series(dtype='float')\n",
    "for i in rough_con_items:\n",
    "    rough_con = rough_con.append(fulldf[i])"
   ]
  },
  {
   "cell_type": "code",
   "execution_count": 16,
   "metadata": {},
   "outputs": [
    {
     "name": "stdout",
     "output_type": "stream",
     "text": [
      "Number of all elements in rougher concentrate feed: 47478\n",
      "Number of elements in rougher concentrate feed greather than 25: 201\n",
      "Percent of rougher concentration elements greater than 25: 0.004\n"
     ]
    },
    {
     "data": {
      "image/png": "[encoded data removed]",
      "text/plain": [
       "<Figure size 1080x288 with 1 Axes>"
      ]
     },
     "metadata": {
      "needs_background": "light"
     },
     "output_type": "display_data"
    }
   ],
   "source": [
    "rough_con.plot(kind='hist', bins=75,figsize=(15,4),title='Rough Concentrate Distribution')\n",
    "print('Number of all elements in rougher concentrate feed:',len(rough_con))\n",
    "print('Number of elements in rougher concentrate feed greather than 25:',len(rough_con[rough_con > 25]))\n",
    "print('Percent of rougher concentration elements greater than 25:',round(len(rough_con[rough_con > 25]) / len(rough_con),3))"
   ]
  },
  {
   "cell_type": "markdown",
   "metadata": {},
   "source": [
    "For rougher concentrate, it is harder to identify what is considered an outlier here because the histogram of rough concentrate has a stretched distribution with around the same frequency which follows a cyclical pattern. I initially thought of removing elements that are rough concentrate 25 and above since it was the beginning of the last cyclical trough. However, I believe that segment is not an outrageous 20% of data and will remain within the original data set."
   ]
  },
  {
   "cell_type": "code",
   "execution_count": 17,
   "metadata": {},
   "outputs": [],
   "source": [
    "for i in rough_con_items:\n",
    "    traindf = traindf[traindf[i] > 1]\n",
    "    # testdf = testdf[testdf[i] > 1] #look likes none of the columns appear in testdf\n",
    "    fulldf = fulldf[fulldf[i] > 1]"
   ]
  },
  {
   "cell_type": "markdown",
   "metadata": {},
   "source": [
    "##### Final Concentrate"
   ]
  },
  {
   "cell_type": "code",
   "execution_count": 18,
   "metadata": {},
   "outputs": [],
   "source": [
    "final_con = pd.Series(dtype='float')\n",
    "final_con = final_con.append(fulldf['final.output.concentrate_au'])\n",
    "final_con = final_con.append(fulldf['final.output.concentrate_ag'])\n",
    "final_con = final_con.append(fulldf['final.output.concentrate_pb'])"
   ]
  },
  {
   "cell_type": "code",
   "execution_count": 19,
   "metadata": {},
   "outputs": [
    {
     "name": "stdout",
     "output_type": "stream",
     "text": [
      "Number of all elements in raw feed: 46590\n",
      "Number of elements in raw feed greather than 20: 15447\n",
      "Percent of final concentration elements greater than 20: 0.332\n"
     ]
    },
    {
     "data": {
      "image/png": "[encoded data removed]",
      "text/plain": [
       "<Figure size 1080x288 with 1 Axes>"
      ]
     },
     "metadata": {
      "needs_background": "light"
     },
     "output_type": "display_data"
    }
   ],
   "source": [
    "final_con.plot(kind='hist', bins=75,figsize=(15,4),title='Final Concentrate Distribution')\n",
    "print('Number of all elements in raw feed:',len(final_con))\n",
    "print('Number of elements in raw feed greather than 20:',len(final_con[final_con > 20]))\n",
    "print('Percent of final concentration elements greater than 20:',round(len(final_con[final_con > 20]) / len(final_con),3))"
   ]
  },
  {
   "cell_type": "markdown",
   "metadata": {},
   "source": [
    "The distribution for final concentrate appears bimodal with another noticable increase in frequencies for final concentrate values of 45. This bump in frequencies is relatively far from the rest of the values in the 0 to 20 range. Thus, I will consider this 22% of data as outliers and remove it from the full dataset. "
   ]
  },
  {
   "cell_type": "markdown",
   "metadata": {},
   "source": [
    "After further analysis, I identified that a majority of the values in final concentrate greater than 20 came from the final.output.concentrate_au column. \n",
    "\n",
    "- Attempting to remove this anomaly by discarding them affects the rest of the final concentrate because those rows had productive data for the other final concentrates. This means the resulting distribution after the discard was just a large frequency mode at zero, and barely any frequency for anything greater than zero.  \n",
    "- Attempting to replace this anomaly with a median or mean value was not helpful either because the values for final.output.concentrate_au were 44 and 40 respectively. \n",
    "\n",
    "I believe the distribution when you group final concentrate together will look odd, but the histogram for Au by itself is productive information and should not be tampered with. "
   ]
  },
  {
   "cell_type": "code",
   "execution_count": 20,
   "metadata": {},
   "outputs": [
    {
     "data": {
      "text/plain": [
       "<matplotlib.axes._subplots.AxesSubplot at 0x1d1921e6c08>"
      ]
     },
     "execution_count": 20,
     "metadata": {},
     "output_type": "execute_result"
    },
    {
     "data": {
      "image/png": "[encoded data removed]",
      "text/plain": [
       "<Figure size 1080x216 with 1 Axes>"
      ]
     },
     "metadata": {
      "needs_background": "light"
     },
     "output_type": "display_data"
    }
   ],
   "source": [
    "fulldf['final.output.concentrate_au'].plot(kind='hist', bins=75,\n",
    "                                           figsize=(15,3),title='The Au histogram shows it is working as intended ')"
   ]
  },
  {
   "cell_type": "markdown",
   "metadata": {},
   "source": [
    "# Model Training"
   ]
  },
  {
   "cell_type": "markdown",
   "metadata": {},
   "source": [
    "Let's remove all the columns not found in the test dataset to make sure the training and test dataset are compatible"
   ]
  },
  {
   "cell_type": "code",
   "execution_count": 21,
   "metadata": {},
   "outputs": [],
   "source": [
    "traindf = traindf.drop(not_in_test,axis=1)"
   ]
  },
  {
   "cell_type": "markdown",
   "metadata": {},
   "source": [
    "### The sMAPE Function\n",
    "A new metric known as Symmetric Mean Absolute Percentage Error (**sMAPE**) will be used assess the quality of the model's prediction of y_values *rougher concentrate recovery* and *final concentrate recovery*. It is similar to MAE, but is expressed in relative values instead of absolute ones. \n",
    "\n",
    "This statistic is being used here because it will perform a better job adjusting MAPE to equally take the scale of both the target and the prediction into account."
   ]
  },
  {
   "cell_type": "code",
   "execution_count": 22,
   "metadata": {},
   "outputs": [],
   "source": [
    "def smape(target, pred):\n",
    "    smape_r = np.mean((np.abs(pred[:,0] - target[:,0])) / (np.abs(target[:,0]) + np.abs(pred[:,0])) /2) * 100\n",
    "    smape_f = np.mean((np.abs(pred[:,1] - target[:,1])) / (np.abs(target[:,1]) + np.abs(pred[:,1])) /2) * 100\n",
    "    smape_final = 0.25 * smape_r + 0.75 * smape_f\n",
    "    return smape_final"
   ]
  },
  {
   "cell_type": "markdown",
   "metadata": {},
   "source": [
    "### Training different models"
   ]
  },
  {
   "cell_type": "code",
   "execution_count": 29,
   "metadata": {},
   "outputs": [],
   "source": [
    "from sklearn.model_selection import train_test_split\n",
    "from sklearn.linear_model import LinearRegression\n",
    "from sklearn.ensemble import RandomForestRegressor\n",
    "from sklearn.metrics import make_scorer\n",
    "from sklearn.model_selection import cross_validate\n",
    "from sklearn.model_selection import cross_val_score\n",
    "from sklearn.metrics import r2_score"
   ]
  },
  {
   "cell_type": "code",
   "execution_count": 24,
   "metadata": {},
   "outputs": [],
   "source": [
    "features0 = traindf.drop(['rougher.output.recovery','final.output.recovery','date'],axis=1) \n",
    "target0 = np.array(traindf[['rougher.output.recovery','final.output.recovery']])\n",
    "\n",
    "features_train, features_valid, target_train, target_valid = train_test_split(features0, target0, \n",
    "                                                                              test_size=0.25, random_state=12345) "
   ]
  },
  {
   "cell_type": "markdown",
   "metadata": {},
   "source": [
    "##### Train: Linear Regression"
   ]
  },
  {
   "cell_type": "code",
   "execution_count": 38,
   "metadata": {},
   "outputs": [
    {
     "name": "stdout",
     "output_type": "stream",
     "text": [
      "Accuracy: 0.47586650643996314\n"
     ]
    }
   ],
   "source": [
    "LR_model = LinearRegression(normalize=True)\n",
    "LR_model.fit(features_train, target_train) \n",
    "LR_predict = LR_model.predict(features_valid)\n",
    "print('Accuracy:', r2_score(target_valid, LR_predict))"
   ]
  },
  {
   "cell_type": "code",
   "execution_count": 26,
   "metadata": {},
   "outputs": [
    {
     "data": {
      "text/plain": [
       "1.6181653478915732"
      ]
     },
     "execution_count": 26,
     "metadata": {},
     "output_type": "execute_result"
    }
   ],
   "source": [
    "#LR_predict based off features_valid \n",
    "smape(target_valid, LR_predict)"
   ]
  },
  {
   "cell_type": "markdown",
   "metadata": {},
   "source": [
    "My Symmetric Mean Absolute Percentage Error is 1.618% here which is good. However my linear regression mode has a score of 47% which assessing it against the validation dataset which is worse than randomly guessing. "
   ]
  },
  {
   "cell_type": "markdown",
   "metadata": {},
   "source": [
    "#### Train: Random Forest Regressor "
   ]
  },
  {
   "cell_type": "code",
   "execution_count": 39,
   "metadata": {
    "scrolled": true
   },
   "outputs": [
    {
     "name": "stdout",
     "output_type": "stream",
     "text": [
      "n_est: 5 | depth: 5 | smape_score 1.6096257074829077\n",
      "n_est: 5 | depth: 10 | smape_score 1.4117031921804168\n",
      "n_est: 5 | depth: 15 | smape_score 1.3684726388797852\n",
      "n_est: 5 | depth: 20 | smape_score 1.3484610153588312\n",
      "n_est: 5 | depth: 25 | smape_score 1.3436063085692205\n",
      "n_est: 5 | depth: 30 | smape_score 1.3670971116401391\n",
      "n_est: 10 | depth: 5 | smape_score 1.5981842022129653\n",
      "n_est: 10 | depth: 10 | smape_score 1.3642975263653825\n",
      "n_est: 10 | depth: 15 | smape_score 1.28886321167822\n",
      "n_est: 10 | depth: 20 | smape_score 1.26057558427086\n",
      "n_est: 10 | depth: 25 | smape_score 1.25650514455626\n",
      "n_est: 10 | depth: 30 | smape_score 1.2625036410973907\n",
      "n_est: 15 | depth: 5 | smape_score 1.600874783873854\n",
      "n_est: 15 | depth: 10 | smape_score 1.350274104404253\n",
      "n_est: 15 | depth: 15 | smape_score 1.2591903061929386\n",
      "n_est: 15 | depth: 20 | smape_score 1.2266921576820293\n",
      "n_est: 15 | depth: 25 | smape_score 1.2199853918420578\n",
      "n_est: 15 | depth: 30 | smape_score 1.2289867772719436\n",
      "n_est: 20 | depth: 5 | smape_score 1.6037634140933488\n",
      "n_est: 20 | depth: 10 | smape_score 1.3452144163671693\n",
      "n_est: 20 | depth: 15 | smape_score 1.2495665171609849\n",
      "n_est: 20 | depth: 20 | smape_score 1.2149189229292734\n",
      "n_est: 20 | depth: 25 | smape_score 1.2025355560057007\n",
      "n_est: 20 | depth: 30 | smape_score 1.212542572605946\n",
      "n_est: 25 | depth: 5 | smape_score 1.599143417300508\n",
      "n_est: 25 | depth: 10 | smape_score 1.3412436608666072\n",
      "n_est: 25 | depth: 15 | smape_score 1.241819398750338\n",
      "n_est: 25 | depth: 20 | smape_score 1.2004645295072405\n",
      "n_est: 25 | depth: 25 | smape_score 1.1936670381108183\n",
      "n_est: 25 | depth: 30 | smape_score 1.1999714079383204\n",
      "n_est: 30 | depth: 5 | smape_score 1.5947195536348884\n",
      "n_est: 30 | depth: 10 | smape_score 1.3371797222619684\n",
      "n_est: 30 | depth: 15 | smape_score 1.2356475905928042\n",
      "n_est: 30 | depth: 20 | smape_score 1.1944000592384514\n",
      "n_est: 30 | depth: 25 | smape_score 1.1892945092469664\n",
      "n_est: 30 | depth: 30 | smape_score 1.193561755179442\n"
     ]
    }
   ],
   "source": [
    "for estim in range(5,31,5):\n",
    "    for depth in range(5,31,5):\n",
    "        RF_model = RandomForestRegressor(random_state=12345, n_estimators=estim, max_depth = depth) \n",
    "        RF_model.fit(features_train, target_train)\n",
    "        RF_predict = RF_model.predict(features_valid)\n",
    "        \n",
    "        smape_score = smape(target_valid, RF_predict)\n",
    "        print('n_est:',estim,'| depth:',depth,'| smape_score',smape_score)"
   ]
  },
  {
   "cell_type": "markdown",
   "metadata": {},
   "source": [
    "Looks like the best hyperparameters to achieve the lowest smape score of 1.1892945 are n_est = 30 and depth = 25. I believe I could have run the hyperparameter loop for longer, but I 1.189% is already pretty low. "
   ]
  },
  {
   "cell_type": "markdown",
   "metadata": {},
   "source": [
    "##### Cross-validation"
   ]
  },
  {
   "cell_type": "code",
   "execution_count": 40,
   "metadata": {},
   "outputs": [
    {
     "name": "stdout",
     "output_type": "stream",
     "text": [
      "{'fit_time': array([8.32035685, 8.58505368, 8.37192988, 8.50754166, 9.00185299,\n",
      "       8.55801988, 8.29936194, 8.48812556, 8.51805878, 8.50818157]), 'score_time': array([0.01562524, 0.01562881, 0.01562476, 0.01562309, 0.01564837,\n",
      "       0.01101255, 0.01100445, 0.01099396, 0.015625  , 0.        ]), 'test_score': array([-1.12934618, -1.14928486, -1.3051113 , -1.32819115, -1.15478535,\n",
      "       -1.31419405, -1.38851315, -1.16567559, -1.2262511 , -1.19036397])}\n"
     ]
    }
   ],
   "source": [
    "RF_model = RandomForestRegressor(random_state=12345, n_estimators=30, max_depth = 25) \n",
    "RF_model.fit(features_train,target_train)\n",
    "smape_value = make_scorer(smape, greater_is_better = False)\n",
    "    \n",
    "scores = cross_validate(RF_model, features_train,target_train, scoring=smape_value, cv=10)\n",
    "print(scores)"
   ]
  },
  {
   "cell_type": "code",
   "execution_count": 41,
   "metadata": {},
   "outputs": [
    {
     "data": {
      "text/plain": [
       "{'fit_time': 8.515848278999329,\n",
       " 'score_time': 0.01267862319946289,\n",
       " 'test_score': -1.2351716694686394}"
      ]
     },
     "execution_count": 41,
     "metadata": {},
     "output_type": "execute_result"
    }
   ],
   "source": [
    "avgDict = {}\n",
    "for k,v in scores.items():\n",
    "    avgDict[k] = sum(v)/ float(len(v))\n",
    "avgDict"
   ]
  },
  {
   "cell_type": "markdown",
   "metadata": {},
   "source": [
    "The default scorer has been replaced with our smape function using sklearn.make_scorer. \n",
    "The cross-validation using the K-folds technique of 10 folds provided a test_score (smape) average of about 1.235% (percentages can't be negative so the evaluation metric just needs to be mulitiplied by -1). Using the validation set was not needed because 1/10th of the training dataset acted as the dataset as it went through the various folds. \n",
    "\n",
    "This gives confidence that our hyperparametere are working well and can move forward to the test dataset.  "
   ]
  },
  {
   "cell_type": "markdown",
   "metadata": {},
   "source": [
    "# Running the model on the test dataset"
   ]
  },
  {
   "cell_type": "code",
   "execution_count": 42,
   "metadata": {},
   "outputs": [],
   "source": [
    "target_test = testdf.merge(fulldf, how = 'inner', on='date')[['rougher.output.recovery','final.output.recovery','date']]\n",
    "#did this bootleg method to have the same number of rows as target_test\n",
    "features_test = testdf.merge(target_test, how = 'inner', on='date') \n",
    "features_test = features_test.drop(['rougher.output.recovery','final.output.recovery','date'],axis=1)\n",
    "target_test = target_test.drop(['date'],axis=1)\n",
    "target_test = target_test.to_numpy()"
   ]
  },
  {
   "cell_type": "markdown",
   "metadata": {},
   "source": [
    "##### Test: Linear Regression"
   ]
  },
  {
   "cell_type": "code",
   "execution_count": 43,
   "metadata": {},
   "outputs": [],
   "source": [
    "LR_model_test = LinearRegression()\n",
    "LR_model_test.fit(features_train, target_train) \n",
    "LR_predict_test = LR_model_test.predict(features_test)\n",
    "#LR_model.score(features_test, target_test)"
   ]
  },
  {
   "cell_type": "code",
   "execution_count": 44,
   "metadata": {},
   "outputs": [
    {
     "data": {
      "text/plain": [
       "1.7887390112323227"
      ]
     },
     "execution_count": 44,
     "metadata": {},
     "output_type": "execute_result"
    }
   ],
   "source": [
    "smape(target_test, LR_predict_test)"
   ]
  },
  {
   "cell_type": "markdown",
   "metadata": {},
   "source": [
    "##### Test: Random Forest"
   ]
  },
  {
   "cell_type": "code",
   "execution_count": 45,
   "metadata": {},
   "outputs": [
    {
     "name": "stdout",
     "output_type": "stream",
     "text": [
      "final smape: 2.2475949833815987\n"
     ]
    }
   ],
   "source": [
    "RF_test = RandomForestRegressor(random_state=12345, n_estimators=30, max_depth = 25) \n",
    "RF_test.fit(features_train, target_train)\n",
    "RF_predict_test = RF_test.predict(features_test)\n",
    "smape_score_test = smape(target_test, RF_predict_test)\n",
    "print('final smape:',smape_score_test)"
   ]
  },
  {
   "cell_type": "markdown",
   "metadata": {},
   "source": [
    "##### Cross-validation"
   ]
  },
  {
   "cell_type": "code",
   "execution_count": 46,
   "metadata": {},
   "outputs": [
    {
     "name": "stdout",
     "output_type": "stream",
     "text": [
      "{'fit_time': array([8.32035685, 8.58505368, 8.37192988, 8.50754166, 9.00185299,\n",
      "       8.55801988, 8.29936194, 8.48812556, 8.51805878, 8.50818157]), 'score_time': array([0.01562524, 0.01562881, 0.01562476, 0.01562309, 0.01564837,\n",
      "       0.01101255, 0.01100445, 0.01099396, 0.015625  , 0.        ]), 'test_score': array([-1.12934618, -1.14928486, -1.3051113 , -1.32819115, -1.15478535,\n",
      "       -1.31419405, -1.38851315, -1.16567559, -1.2262511 , -1.19036397])}\n"
     ]
    }
   ],
   "source": [
    "scores_test = cross_validate(RF_test, features_test,target_test, scoring=smape_value, cv=10)\n",
    "print(scores)"
   ]
  },
  {
   "cell_type": "code",
   "execution_count": 47,
   "metadata": {},
   "outputs": [
    {
     "data": {
      "text/plain": [
       "{'fit_time': 5.565277409553528,\n",
       " 'score_time': 0.009113287925720215,\n",
       " 'test_score': -1.8383796669305874}"
      ]
     },
     "execution_count": 47,
     "metadata": {},
     "output_type": "execute_result"
    }
   ],
   "source": [
    "avgDict = {}\n",
    "for k,v in scores_test.items():\n",
    "    avgDict[k] = sum(v)/ float(len(v))\n",
    "avgDict"
   ]
  },
  {
   "cell_type": "markdown",
   "metadata": {},
   "source": [
    "Looks like assessing our model with the test dataset has proven successful. The smape scores are a bit higher than our validation scores, but that is to be expected. The average smape value of 1.838% seen from the cross validation is still relatively low which represents how the model is working as intended. "
   ]
  }
 ],
 "metadata": {
  "kernelspec": {
   "display_name": "Python 3",
   "language": "python",
   "name": "python3"
  },
  "language_info": {
   "codemirror_mode": {
    "name": "ipython",
    "version": 3
   },
   "file_extension": ".py",
   "mimetype": "text/x-python",
   "name": "python",
   "nbconvert_exporter": "python",
   "pygments_lexer": "ipython3",
   "version": "3.7.6"
  }
 },
 "nbformat": 4,
 "nbformat_minor": 2
}
